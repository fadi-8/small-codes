{
 "cells": [
  {
   "cell_type": "markdown",
   "id": "55373155",
   "metadata": {
    "papermill": {
     "duration": 0.019641,
     "end_time": "2024-04-15T16:38:55.453671",
     "exception": false,
     "start_time": "2024-04-15T16:38:55.434030",
     "status": "completed"
    },
    "tags": []
   },
   "source": [
    "*author: Fadi Makarem*"
   ]
  },
  {
   "cell_type": "markdown",
   "id": "e1c6581b",
   "metadata": {
    "papermill": {
     "duration": 0.019897,
     "end_time": "2024-04-15T16:38:55.493005",
     "exception": false,
     "start_time": "2024-04-15T16:38:55.473108",
     "status": "completed"
    },
    "tags": []
   },
   "source": [
    "# Data Augmentation for NLP"
   ]
  },
  {
   "cell_type": "markdown",
   "id": "9237f37a",
   "metadata": {
    "papermill": {
     "duration": 0.018539,
     "end_time": "2024-04-15T16:38:55.530606",
     "exception": false,
     "start_time": "2024-04-15T16:38:55.512067",
     "status": "completed"
    },
    "tags": []
   },
   "source": [
    "In this notebook I explore and implement data augmentation for natural language processing. I will go through various methods. However, increasing peformance is not the focus of this notebook."
   ]
  },
  {
   "cell_type": "markdown",
   "id": "63310ff6",
   "metadata": {
    "papermill": {
     "duration": 0.018758,
     "end_time": "2024-04-15T16:38:55.568303",
     "exception": false,
     "start_time": "2024-04-15T16:38:55.549545",
     "status": "completed"
    },
    "tags": []
   },
   "source": [
    "* **[1- Install Libraries and Depenccies](#Installation)**\n",
    "* **[2- Testing NLP augmentation](#TestingAug)**\n",
    "    * [2.1- EDA Using Therasaurus](#therasaurus)\n",
    "    * [2.2- Using Word Embeddings](#embeddings)\n",
    "    * [2.3- Using Language Models Like BERT and RoBERTa](#languageModel)\n",
    "    * [2.4- Back-translation](#backtranslation)\n",
    "* **[3- Defining Parameters](#definitions)**\n",
    "* **[4- Data Preparation and Visualization](#Data)**\n",
    "    * [4.1- Data Distributions](#distributions)\n",
    "    * [4.2- Vectorization](#Vectorization)\n",
    "* **[5- Testing/Implementation](#testing)**\n",
    "    * [5.1- No Augmentation](#noAug)\n",
    "    * [5.2- With Augmentation](#WithAug)\n",
    "    * [5.3- Augment Minorities Only](#augMinority)\n",
    "* **[6- Conclusion](#conclusion)**"
   ]
  },
  {
   "cell_type": "markdown",
   "id": "9cb94f68",
   "metadata": {
    "papermill": {
     "duration": 0.018189,
     "end_time": "2024-04-15T16:38:55.604936",
     "exception": false,
     "start_time": "2024-04-15T16:38:55.586747",
     "status": "completed"
    },
    "tags": []
   },
   "source": [
    "# 1- Install Libraries and Depenccies \n",
    "\n",
    "<a class=\"anchor\"  id=\"Installation\"></a>"
   ]
  },
  {
   "cell_type": "code",
   "execution_count": 1,
   "id": "7c26d2a6",
   "metadata": {
    "execution": {
     "iopub.execute_input": "2024-04-15T16:38:55.643813Z",
     "iopub.status.busy": "2024-04-15T16:38:55.643462Z",
     "iopub.status.idle": "2024-04-15T16:39:21.950991Z",
     "shell.execute_reply": "2024-04-15T16:39:21.949622Z"
    },
    "papermill": {
     "duration": 26.329872,
     "end_time": "2024-04-15T16:39:21.953574",
     "exception": false,
     "start_time": "2024-04-15T16:38:55.623702",
     "status": "completed"
    },
    "tags": []
   },
   "outputs": [],
   "source": [
    "!pip install nlpaug --quiet\n",
    "!pip install -U sacremoses --quiet"
   ]
  },
  {
   "cell_type": "code",
   "execution_count": 2,
   "id": "ec35f81d",
   "metadata": {
    "execution": {
     "iopub.execute_input": "2024-04-15T16:39:21.993487Z",
     "iopub.status.busy": "2024-04-15T16:39:21.993152Z",
     "iopub.status.idle": "2024-04-15T16:40:06.606828Z",
     "shell.execute_reply": "2024-04-15T16:40:06.605693Z"
    },
    "papermill": {
     "duration": 44.636828,
     "end_time": "2024-04-15T16:40:06.610097",
     "exception": false,
     "start_time": "2024-04-15T16:39:21.973269",
     "status": "completed"
    },
    "tags": []
   },
   "outputs": [
    {
     "name": "stderr",
     "output_type": "stream",
     "text": [
      "2024-04-15 16:39:24.393498: E external/local_xla/xla/stream_executor/cuda/cuda_dnn.cc:9261] Unable to register cuDNN factory: Attempting to register factory for plugin cuDNN when one has already been registered\n",
      "2024-04-15 16:39:24.393621: E external/local_xla/xla/stream_executor/cuda/cuda_fft.cc:607] Unable to register cuFFT factory: Attempting to register factory for plugin cuFFT when one has already been registered\n",
      "2024-04-15 16:39:24.515284: E external/local_xla/xla/stream_executor/cuda/cuda_blas.cc:1515] Unable to register cuBLAS factory: Attempting to register factory for plugin cuBLAS when one has already been registered\n"
     ]
    }
   ],
   "source": [
    "import numpy as np\n",
    "import pandas as pd\n",
    "import tensorflow as tf\n",
    "import tensorflow.keras as keras\n",
    "from sklearn.model_selection import train_test_split\n",
    "import matplotlib.pyplot as plt\n",
    "import time\n",
    "from sklearn.metrics import classification_report\n",
    "from sklearn.metrics import f1_score\n",
    "from sklearn.metrics import accuracy_score\n",
    "# import nlpaug\n",
    "import nlpaug.augmenter.word as naw\n",
    "import nltk\n",
    "from nltk.corpus import wordnet\n",
    "from nltk.corpus import stopwords\n",
    "import os\n",
    "from nlpaug.util.file.download import DownloadUtil"
   ]
  },
  {
   "cell_type": "code",
   "execution_count": 3,
   "id": "1dd53c7d",
   "metadata": {
    "execution": {
     "iopub.execute_input": "2024-04-15T16:40:06.651911Z",
     "iopub.status.busy": "2024-04-15T16:40:06.651237Z",
     "iopub.status.idle": "2024-04-15T16:40:06.731447Z",
     "shell.execute_reply": "2024-04-15T16:40:06.730502Z"
    },
    "papermill": {
     "duration": 0.102855,
     "end_time": "2024-04-15T16:40:06.733625",
     "exception": false,
     "start_time": "2024-04-15T16:40:06.630770",
     "status": "completed"
    },
    "tags": []
   },
   "outputs": [
    {
     "name": "stdout",
     "output_type": "stream",
     "text": [
      "We got a GPU\n"
     ]
    }
   ],
   "source": [
    "physical_devices = tf.config.experimental.list_physical_devices('GPU')\n",
    "if len(physical_devices) > 0:\n",
    "    print(\"We got a GPU\")\n",
    "    device=\"cuda\"\n",
    "    tf.config.experimental.set_memory_growth(physical_devices[0], True)\n",
    "else:\n",
    "    device=\"cpu\"\n",
    "    print(\"Sorry, no GPU for you...\")\n",
    "\n",
    "gpus = tf.config.list_physical_devices('GPU')\n",
    "for gpu in gpus:\n",
    "    tf.config.experimental.set_memory_growth(gpu, True)"
   ]
  },
  {
   "cell_type": "markdown",
   "id": "e2762316",
   "metadata": {
    "papermill": {
     "duration": 0.018806,
     "end_time": "2024-04-15T16:40:06.771556",
     "exception": false,
     "start_time": "2024-04-15T16:40:06.752750",
     "status": "completed"
    },
    "tags": []
   },
   "source": [
    "# 2- Testing NLP augmentation <a class=\"anchor\"  id=\"TestingAug\"></a>\n"
   ]
  },
  {
   "cell_type": "markdown",
   "id": "12bc12f2",
   "metadata": {
    "papermill": {
     "duration": 0.018696,
     "end_time": "2024-04-15T16:40:06.809266",
     "exception": false,
     "start_time": "2024-04-15T16:40:06.790570",
     "status": "completed"
    },
    "tags": []
   },
   "source": [
    "In this section we will implement data augmentation using NLPAug on a sample text. The interest is in word level augmentation. However, other methods can be used like character level to generate typos."
   ]
  },
  {
   "cell_type": "code",
   "execution_count": 4,
   "id": "9735e401",
   "metadata": {
    "execution": {
     "iopub.execute_input": "2024-04-15T16:40:06.848827Z",
     "iopub.status.busy": "2024-04-15T16:40:06.848486Z",
     "iopub.status.idle": "2024-04-15T16:40:06.852944Z",
     "shell.execute_reply": "2024-04-15T16:40:06.852030Z"
    },
    "papermill": {
     "duration": 0.026865,
     "end_time": "2024-04-15T16:40:06.854965",
     "exception": false,
     "start_time": "2024-04-15T16:40:06.828100",
     "status": "completed"
    },
    "tags": []
   },
   "outputs": [],
   "source": [
    "os.environ[\"TOKENIZERS_PARALLELISM\"] = \"false\""
   ]
  },
  {
   "cell_type": "markdown",
   "id": "86a7a1ba",
   "metadata": {
    "papermill": {
     "duration": 0.018824,
     "end_time": "2024-04-15T16:40:06.892850",
     "exception": false,
     "start_time": "2024-04-15T16:40:06.874026",
     "status": "completed"
    },
    "tags": []
   },
   "source": [
    "First we need to download stop words to prevent augmenting them. Note that, if data augmentation should be performed for very specific words only, then you can create the vocab from training set, remove the words to be augmented, and pass the list to the data augmentation methods of NLPAug."
   ]
  },
  {
   "cell_type": "code",
   "execution_count": 5,
   "id": "9bc96969",
   "metadata": {
    "execution": {
     "iopub.execute_input": "2024-04-15T16:40:06.932937Z",
     "iopub.status.busy": "2024-04-15T16:40:06.932305Z",
     "iopub.status.idle": "2024-04-15T16:40:06.985678Z",
     "shell.execute_reply": "2024-04-15T16:40:06.984658Z"
    },
    "papermill": {
     "duration": 0.075027,
     "end_time": "2024-04-15T16:40:06.987651",
     "exception": false,
     "start_time": "2024-04-15T16:40:06.912624",
     "status": "completed"
    },
    "tags": []
   },
   "outputs": [
    {
     "name": "stdout",
     "output_type": "stream",
     "text": [
      "[nltk_data] Downloading package stopwords to /usr/share/nltk_data...\n",
      "[nltk_data]   Package stopwords is already up-to-date!\n"
     ]
    },
    {
     "data": {
      "text/plain": [
       "['i', 'me', 'my', 'myself', 'we']"
      ]
     },
     "execution_count": 5,
     "metadata": {},
     "output_type": "execute_result"
    }
   ],
   "source": [
    "nltk.download('stopwords')\n",
    "stopwords_en=(stopwords.words('english'))\n",
    "stopwords_en[:5]"
   ]
  },
  {
   "cell_type": "markdown",
   "id": "81a97e95",
   "metadata": {
    "papermill": {
     "duration": 0.019113,
     "end_time": "2024-04-15T16:40:07.026127",
     "exception": false,
     "start_time": "2024-04-15T16:40:07.007014",
     "status": "completed"
    },
    "tags": []
   },
   "source": [
    "##### UNZIP WORDNET"
   ]
  },
  {
   "cell_type": "code",
   "execution_count": 6,
   "id": "0619772a",
   "metadata": {
    "execution": {
     "iopub.execute_input": "2024-04-15T16:40:07.065491Z",
     "iopub.status.busy": "2024-04-15T16:40:07.065140Z",
     "iopub.status.idle": "2024-04-15T16:40:08.353120Z",
     "shell.execute_reply": "2024-04-15T16:40:08.351862Z"
    },
    "papermill": {
     "duration": 1.310263,
     "end_time": "2024-04-15T16:40:08.355525",
     "exception": false,
     "start_time": "2024-04-15T16:40:07.045262",
     "status": "completed"
    },
    "tags": []
   },
   "outputs": [
    {
     "name": "stdout",
     "output_type": "stream",
     "text": [
      "Archive:  /usr/share/nltk_data/corpora/wordnet.zip\r\n",
      "   creating: /usr/share/nltk_data/corpora/wordnet/\r\n",
      "  inflating: /usr/share/nltk_data/corpora/wordnet/lexnames  \r\n",
      "  inflating: /usr/share/nltk_data/corpora/wordnet/data.verb  \r\n",
      "  inflating: /usr/share/nltk_data/corpora/wordnet/index.adv  \r\n",
      "  inflating: /usr/share/nltk_data/corpora/wordnet/adv.exc  \r\n",
      "  inflating: /usr/share/nltk_data/corpora/wordnet/index.verb  \r\n",
      "  inflating: /usr/share/nltk_data/corpora/wordnet/cntlist.rev  \r\n",
      "  inflating: /usr/share/nltk_data/corpora/wordnet/data.adj  \r\n",
      "  inflating: /usr/share/nltk_data/corpora/wordnet/index.adj  \r\n",
      "  inflating: /usr/share/nltk_data/corpora/wordnet/LICENSE  \r\n",
      "  inflating: /usr/share/nltk_data/corpora/wordnet/citation.bib  \r\n",
      "  inflating: /usr/share/nltk_data/corpora/wordnet/noun.exc  \r\n",
      "  inflating: /usr/share/nltk_data/corpora/wordnet/verb.exc  \r\n",
      "  inflating: /usr/share/nltk_data/corpora/wordnet/README  \r\n",
      "  inflating: /usr/share/nltk_data/corpora/wordnet/index.sense  \r\n",
      "  inflating: /usr/share/nltk_data/corpora/wordnet/data.noun  \r\n",
      "  inflating: /usr/share/nltk_data/corpora/wordnet/data.adv  \r\n",
      "  inflating: /usr/share/nltk_data/corpora/wordnet/index.noun  \r\n",
      "  inflating: /usr/share/nltk_data/corpora/wordnet/adj.exc  \r\n"
     ]
    }
   ],
   "source": [
    "!unzip /usr/share/nltk_data/corpora/wordnet.zip -d /usr/share/nltk_data/corpora/"
   ]
  },
  {
   "cell_type": "code",
   "execution_count": 7,
   "id": "c90b36c3",
   "metadata": {
    "execution": {
     "iopub.execute_input": "2024-04-15T16:40:08.398032Z",
     "iopub.status.busy": "2024-04-15T16:40:08.397663Z",
     "iopub.status.idle": "2024-04-15T16:40:08.402477Z",
     "shell.execute_reply": "2024-04-15T16:40:08.401639Z"
    },
    "papermill": {
     "duration": 0.027936,
     "end_time": "2024-04-15T16:40:08.404346",
     "exception": false,
     "start_time": "2024-04-15T16:40:08.376410",
     "status": "completed"
    },
    "tags": []
   },
   "outputs": [],
   "source": [
    "text_example='data augmentation is interesting. lots of surprises!'"
   ]
  },
  {
   "cell_type": "code",
   "execution_count": 8,
   "id": "3ff3fd62",
   "metadata": {
    "execution": {
     "iopub.execute_input": "2024-04-15T16:40:08.445926Z",
     "iopub.status.busy": "2024-04-15T16:40:08.445623Z",
     "iopub.status.idle": "2024-04-15T16:40:10.557862Z",
     "shell.execute_reply": "2024-04-15T16:40:10.556883Z"
    },
    "papermill": {
     "duration": 2.135498,
     "end_time": "2024-04-15T16:40:10.559863",
     "exception": false,
     "start_time": "2024-04-15T16:40:08.424365",
     "status": "completed"
    },
    "tags": []
   },
   "outputs": [
    {
     "data": {
      "text/plain": [
       "[Synset('dog.n.01'),\n",
       " Synset('frump.n.01'),\n",
       " Synset('dog.n.03'),\n",
       " Synset('cad.n.01'),\n",
       " Synset('frank.n.02'),\n",
       " Synset('pawl.n.01'),\n",
       " Synset('andiron.n.01'),\n",
       " Synset('chase.v.01')]"
      ]
     },
     "execution_count": 8,
     "metadata": {},
     "output_type": "execute_result"
    }
   ],
   "source": [
    "wordnet.synsets('dog')"
   ]
  },
  {
   "cell_type": "code",
   "execution_count": 9,
   "id": "97759918",
   "metadata": {
    "execution": {
     "iopub.execute_input": "2024-04-15T16:40:10.648812Z",
     "iopub.status.busy": "2024-04-15T16:40:10.648096Z",
     "iopub.status.idle": "2024-04-15T16:40:48.921651Z",
     "shell.execute_reply": "2024-04-15T16:40:48.920824Z"
    },
    "papermill": {
     "duration": 38.296965,
     "end_time": "2024-04-15T16:40:48.923969",
     "exception": false,
     "start_time": "2024-04-15T16:40:10.627004",
     "status": "completed"
    },
    "tags": []
   },
   "outputs": [],
   "source": [
    "# DownloadUtil.download_word2vec(dest_dir='.') # Download word2vec model\n",
    "# DownloadUtil.download_glove(model_name='glove.6B', dest_dir='.') # Download GloVe model\n",
    "DownloadUtil.download_fasttext(model_name='wiki-news-300d-1M', dest_dir='.') # Download fasttext model"
   ]
  },
  {
   "cell_type": "markdown",
   "id": "e6c7b1ea",
   "metadata": {
    "papermill": {
     "duration": 0.019789,
     "end_time": "2024-04-15T16:40:48.964864",
     "exception": false,
     "start_time": "2024-04-15T16:40:48.945075",
     "status": "completed"
    },
    "tags": []
   },
   "source": [
    "### 2.1- EDA Using Therasaurus <a class=\"anchor\"  id=\"therasaurus\"></a>"
   ]
  },
  {
   "cell_type": "markdown",
   "id": "2ac145ef",
   "metadata": {
    "papermill": {
     "duration": 0.019746,
     "end_time": "2024-04-15T16:40:49.004220",
     "exception": false,
     "start_time": "2024-04-15T16:40:48.984474",
     "status": "completed"
    },
    "tags": []
   },
   "source": [
    "The techniques to be applied are:\n",
    "\n",
    "1. random synonym replacement\n",
    "2. random word swapping\n",
    "3. random word deletion\n"
   ]
  },
  {
   "cell_type": "code",
   "execution_count": 10,
   "id": "de52a73f",
   "metadata": {
    "execution": {
     "iopub.execute_input": "2024-04-15T16:40:49.045268Z",
     "iopub.status.busy": "2024-04-15T16:40:49.044451Z",
     "iopub.status.idle": "2024-04-15T16:40:49.176065Z",
     "shell.execute_reply": "2024-04-15T16:40:49.175010Z"
    },
    "papermill": {
     "duration": 0.15492,
     "end_time": "2024-04-15T16:40:49.178653",
     "exception": false,
     "start_time": "2024-04-15T16:40:49.023733",
     "status": "completed"
    },
    "tags": []
   },
   "outputs": [
    {
     "name": "stdout",
     "output_type": "stream",
     "text": [
      "data augmentation is interesting. lots of surprises!\n",
      "['data augmentation is interesting. heap of surprises!']\n",
      "['data augmentation is interesting. lots of surprises!']\n",
      "['data augmentation is interest. lots of surprises!']\n",
      "['data augmentation is interesting. lot of surprises!']\n",
      "['data augmentation is interesting. destiny of surprises!']\n"
     ]
    }
   ],
   "source": [
    "syn_aug = naw.SynonymAug(aug_src='wordnet', \n",
    "                         model_path=None, \n",
    "                         name='Synonym_Aug', \n",
    "                         aug_min=1, \n",
    "                         aug_max=4, \n",
    "                         aug_p=0.1, \n",
    "                         lang='eng', \n",
    "                         stopwords=stopwords_en, \n",
    "                         tokenizer=None, \n",
    "                         reverse_tokenizer=None, \n",
    "                         stopwords_regex=None, \n",
    "                         force_reload=False, \n",
    "                         verbose=0)\n",
    "\n",
    "print(text_example)\n",
    "for _ in range(5):\n",
    "    example_aug = syn_aug.augment(text_example)    \n",
    "    print(example_aug)"
   ]
  },
  {
   "cell_type": "code",
   "execution_count": 11,
   "id": "5a634ddc",
   "metadata": {
    "execution": {
     "iopub.execute_input": "2024-04-15T16:40:49.222658Z",
     "iopub.status.busy": "2024-04-15T16:40:49.222338Z",
     "iopub.status.idle": "2024-04-15T16:40:49.228923Z",
     "shell.execute_reply": "2024-04-15T16:40:49.227976Z"
    },
    "papermill": {
     "duration": 0.031997,
     "end_time": "2024-04-15T16:40:49.231080",
     "exception": false,
     "start_time": "2024-04-15T16:40:49.199083",
     "status": "completed"
    },
    "tags": []
   },
   "outputs": [
    {
     "name": "stdout",
     "output_type": "stream",
     "text": [
      "data augmentation is interesting. lots of surprises!\n",
      "['data augmentation is interesting. lots of! surprises']\n",
      "['augmentation data is interesting. lots of surprises!']\n",
      "['data is augmentation interesting. lots of surprises!']\n",
      "['data augmentation is interesting. of lots surprises!']\n",
      "['data augmentation is interesting lots. of surprises!']\n"
     ]
    }
   ],
   "source": [
    "swap_aug = naw.RandomWordAug(action=\"swap\",\n",
    "                             aug_min=1, \n",
    "                             aug_max=4, \n",
    "                             aug_p=0.1,  \n",
    "                             stopwords=stopwords_en\n",
    "                             )\n",
    "\n",
    "print(text_example)\n",
    "for _ in range(5):\n",
    "    example_aug = swap_aug.augment(text_example)    \n",
    "    print(example_aug)"
   ]
  },
  {
   "cell_type": "code",
   "execution_count": 12,
   "id": "c2125387",
   "metadata": {
    "execution": {
     "iopub.execute_input": "2024-04-15T16:40:49.272051Z",
     "iopub.status.busy": "2024-04-15T16:40:49.271790Z",
     "iopub.status.idle": "2024-04-15T16:40:49.277743Z",
     "shell.execute_reply": "2024-04-15T16:40:49.276912Z"
    },
    "papermill": {
     "duration": 0.029881,
     "end_time": "2024-04-15T16:40:49.280892",
     "exception": false,
     "start_time": "2024-04-15T16:40:49.251011",
     "status": "completed"
    },
    "tags": []
   },
   "outputs": [
    {
     "name": "stdout",
     "output_type": "stream",
     "text": [
      "data augmentation is interesting. lots of surprises!\n",
      "['data is interesting. lots of surprises!']\n",
      "['augmentation is interesting. lots of surprises!']\n",
      "['data augmentation is interesting. of surprises!']\n",
      "['data augmentation is interesting. of surprises!']\n",
      "['data augmentation is interesting. of surprises!']\n"
     ]
    }
   ],
   "source": [
    "del_aug = naw.RandomWordAug(aug_min=1, \n",
    "                            aug_max=4, \n",
    "                            aug_p=0.1,  \n",
    "                            stopwords=stopwords_en)\n",
    "\n",
    "print(text_example)\n",
    "for _ in range(5):\n",
    "    example_aug = del_aug.augment(text_example)    \n",
    "    print(example_aug)"
   ]
  },
  {
   "cell_type": "markdown",
   "id": "a6e69ab6",
   "metadata": {
    "papermill": {
     "duration": 0.020304,
     "end_time": "2024-04-15T16:40:49.321151",
     "exception": false,
     "start_time": "2024-04-15T16:40:49.300847",
     "status": "completed"
    },
    "tags": []
   },
   "source": [
    "### 2.2- Using Word Embeddings <a class=\"anchor\"  id=\"embeddings\"></a>"
   ]
  },
  {
   "cell_type": "markdown",
   "id": "d47d8466",
   "metadata": {
    "papermill": {
     "duration": 0.022584,
     "end_time": "2024-04-15T16:40:49.363513",
     "exception": false,
     "start_time": "2024-04-15T16:40:49.340929",
     "status": "completed"
    },
    "tags": []
   },
   "source": [
    "Instead of using a fixed dictionary, we can use word embeddings like Word2Vec, GloVe, and FastText.\n",
    "\n",
    "\"action\" values:\n",
    "- **Insert**: randomly insert the synonym of a word in the sentence.\n",
    "- **Substitute**: randomly replace a word in the sentence with its synonym."
   ]
  },
  {
   "cell_type": "code",
   "execution_count": 13,
   "id": "7526a840",
   "metadata": {
    "execution": {
     "iopub.execute_input": "2024-04-15T16:40:49.404386Z",
     "iopub.status.busy": "2024-04-15T16:40:49.404082Z",
     "iopub.status.idle": "2024-04-15T16:45:27.972908Z",
     "shell.execute_reply": "2024-04-15T16:45:27.971600Z"
    },
    "papermill": {
     "duration": 278.593529,
     "end_time": "2024-04-15T16:45:27.976865",
     "exception": false,
     "start_time": "2024-04-15T16:40:49.383336",
     "status": "completed"
    },
    "tags": []
   },
   "outputs": [
    {
     "name": "stdout",
     "output_type": "stream",
     "text": [
      "data augmentation is interesting. lots of surprises!\n",
      "['methodology augmentation is interesting. lots of surprises!']\n",
      "['data augmentation is interesting. all of surprises!']\n",
      "['data transformation is interesting. lots of surprises!']\n",
      "['data augmentation is difficult. lots of surprises!']\n",
      "['datas augmentation is interesting. lots of surprises!']\n"
     ]
    }
   ],
   "source": [
    "emde_aug_subs = naw.WordEmbsAug(\n",
    "    model_type='fasttext', \n",
    "    model_path='/kaggle/working/wiki-news-300d-1M.vec',\n",
    "    aug_min=1, \n",
    "    aug_max=4, \n",
    "    aug_p=0.1, \n",
    "    stopwords=stopwords_en,\n",
    "    action=\"substitute\"\n",
    ")\n",
    "\n",
    "print(text_example)\n",
    "for _ in range(5):\n",
    "    example_aug = emde_aug_subs.augment(text_example)    \n",
    "    print(example_aug)"
   ]
  },
  {
   "cell_type": "markdown",
   "id": "5dfb892d",
   "metadata": {
    "papermill": {
     "duration": 0.044483,
     "end_time": "2024-04-15T16:45:28.066171",
     "exception": false,
     "start_time": "2024-04-15T16:45:28.021688",
     "status": "completed"
    },
    "tags": []
   },
   "source": [
    "This technique could be very useful if trained on the data. However, using embeddings trained from other datasets will not get good results as the words are associate with irrelevant words."
   ]
  },
  {
   "cell_type": "markdown",
   "id": "dfaf4533",
   "metadata": {
    "papermill": {
     "duration": 0.020054,
     "end_time": "2024-04-15T16:45:28.111969",
     "exception": false,
     "start_time": "2024-04-15T16:45:28.091915",
     "status": "completed"
    },
    "tags": []
   },
   "source": [
    "### 2.3- Using Language Models Like BERT and RoBERTa <a class=\"anchor\" id=\"languageModel\"></a>"
   ]
  },
  {
   "cell_type": "markdown",
   "id": "841c101c",
   "metadata": {
    "papermill": {
     "duration": 0.019686,
     "end_time": "2024-04-15T16:45:28.151681",
     "exception": false,
     "start_time": "2024-04-15T16:45:28.131995",
     "status": "completed"
    },
    "tags": []
   },
   "source": [
    "For this technique, instead of substituting a word with a synonym or dictionary, we use language models to generate a new word to replace it. \n",
    "\n",
    "- **pros:** Predicts the words taking into account the rest of the sentence unlike previous methods that only use the word embeddings or dictionary synonyms.\n",
    "- **cons:** It takes more time and processing because a larger model is used (RoBERTa)"
   ]
  },
  {
   "cell_type": "code",
   "execution_count": 14,
   "id": "c65215fd",
   "metadata": {
    "execution": {
     "iopub.execute_input": "2024-04-15T16:45:28.195077Z",
     "iopub.status.busy": "2024-04-15T16:45:28.194699Z",
     "iopub.status.idle": "2024-04-15T16:45:48.551814Z",
     "shell.execute_reply": "2024-04-15T16:45:48.550736Z"
    },
    "papermill": {
     "duration": 20.381623,
     "end_time": "2024-04-15T16:45:48.554203",
     "exception": false,
     "start_time": "2024-04-15T16:45:28.172580",
     "status": "completed"
    },
    "tags": []
   },
   "outputs": [
    {
     "data": {
      "application/vnd.jupyter.widget-view+json": {
       "model_id": "49a6ac366ed04e2799154bd3bc518e3b",
       "version_major": 2,
       "version_minor": 0
      },
      "text/plain": [
       "tokenizer_config.json:   0%|          | 0.00/25.0 [00:00<?, ?B/s]"
      ]
     },
     "metadata": {},
     "output_type": "display_data"
    },
    {
     "data": {
      "application/vnd.jupyter.widget-view+json": {
       "model_id": "45cb7054171845eba7d9c8690cc8ca66",
       "version_major": 2,
       "version_minor": 0
      },
      "text/plain": [
       "config.json:   0%|          | 0.00/481 [00:00<?, ?B/s]"
      ]
     },
     "metadata": {},
     "output_type": "display_data"
    },
    {
     "data": {
      "application/vnd.jupyter.widget-view+json": {
       "model_id": "5f7e13cbd76345d4b420608c16db8984",
       "version_major": 2,
       "version_minor": 0
      },
      "text/plain": [
       "vocab.json:   0%|          | 0.00/899k [00:00<?, ?B/s]"
      ]
     },
     "metadata": {},
     "output_type": "display_data"
    },
    {
     "data": {
      "application/vnd.jupyter.widget-view+json": {
       "model_id": "183065d730a1436ead6d57522d225303",
       "version_major": 2,
       "version_minor": 0
      },
      "text/plain": [
       "merges.txt:   0%|          | 0.00/456k [00:00<?, ?B/s]"
      ]
     },
     "metadata": {},
     "output_type": "display_data"
    },
    {
     "data": {
      "application/vnd.jupyter.widget-view+json": {
       "model_id": "055177b214894a889ec368e985263229",
       "version_major": 2,
       "version_minor": 0
      },
      "text/plain": [
       "tokenizer.json:   0%|          | 0.00/1.36M [00:00<?, ?B/s]"
      ]
     },
     "metadata": {},
     "output_type": "display_data"
    },
    {
     "data": {
      "application/vnd.jupyter.widget-view+json": {
       "model_id": "b3abbdb3cf114768b0d4362e64ddb05a",
       "version_major": 2,
       "version_minor": 0
      },
      "text/plain": [
       "model.safetensors:   0%|          | 0.00/499M [00:00<?, ?B/s]"
      ]
     },
     "metadata": {},
     "output_type": "display_data"
    },
    {
     "name": "stdout",
     "output_type": "stream",
     "text": [
      "data augmentation is interesting. lots of surprises!\n",
      "['data augmentation is accurate. End of surprises!']\n",
      "['data that is new. lots of surprises!']\n",
      "['data augmentation is beautiful. lots of use!']\n",
      "['data this is big. lots of surprises!']\n",
      "['data summary is interesting. Beware of surprises!']\n"
     ]
    }
   ],
   "source": [
    "aug_lang_model_sub = naw.ContextualWordEmbsAug(\n",
    "    model_path='roberta-base', \n",
    "    action=\"substitute\",\n",
    "    aug_min=1, \n",
    "    aug_max=4, \n",
    "    aug_p=0.1,  \n",
    "    stopwords=stopwords_en,\n",
    "    device=device)\n",
    "# augmented_text = aug.augment(text)\n",
    "\n",
    "print(text_example)\n",
    "for _ in range(5):\n",
    "    example_aug = aug_lang_model_sub.augment(text_example)\n",
    "    print(example_aug)"
   ]
  },
  {
   "cell_type": "code",
   "execution_count": 15,
   "id": "780f2943",
   "metadata": {
    "execution": {
     "iopub.execute_input": "2024-04-15T16:45:48.602147Z",
     "iopub.status.busy": "2024-04-15T16:45:48.601811Z",
     "iopub.status.idle": "2024-04-15T16:45:48.763469Z",
     "shell.execute_reply": "2024-04-15T16:45:48.762367Z"
    },
    "papermill": {
     "duration": 0.187669,
     "end_time": "2024-04-15T16:45:48.765663",
     "exception": false,
     "start_time": "2024-04-15T16:45:48.577994",
     "status": "completed"
    },
    "tags": []
   },
   "outputs": [
    {
     "name": "stdout",
     "output_type": "stream",
     "text": [
      "data augmentation is interesting. lots of surprises!\n",
      "['data column augmentation is always interesting. lots of surprises!']\n",
      "['data augmentation is surprisingly interesting. lots of potential surprises!']\n",
      "['data Genetic augmentation is interesting. Mostly lots of surprises!']\n",
      "['data The augmentation is interesting. lots of pleasant surprises!']\n",
      "['data augmentation is interesting. Hopefully lots of interesting surprises!']\n"
     ]
    }
   ],
   "source": [
    "aug_lang_model_insert = naw.ContextualWordEmbsAug(\n",
    "    model_path='roberta-base', \n",
    "    action=\"insert\",\n",
    "    aug_min=1, \n",
    "    aug_max=4, \n",
    "    aug_p=0.1,  \n",
    "    stopwords=stopwords_en,\n",
    "    device=device)\n",
    "# augmented_text = aug.augment(text)\n",
    "\n",
    "print(text_example)\n",
    "for _ in range(5):\n",
    "    example_aug = aug_lang_model_insert.augment(text_example)\n",
    "    print(example_aug)"
   ]
  },
  {
   "cell_type": "markdown",
   "id": "1a6b229f",
   "metadata": {
    "papermill": {
     "duration": 0.024772,
     "end_time": "2024-04-15T16:45:48.815115",
     "exception": false,
     "start_time": "2024-04-15T16:45:48.790343",
     "status": "completed"
    },
    "tags": []
   },
   "source": [
    "### 2.4- Back-Translation <a class=\"anchor\" id=\"backtranslation\"/>"
   ]
  },
  {
   "cell_type": "markdown",
   "id": "b3b30e15",
   "metadata": {
    "papermill": {
     "duration": 0.021944,
     "end_time": "2024-04-15T16:45:48.860052",
     "exception": false,
     "start_time": "2024-04-15T16:45:48.838108",
     "status": "completed"
    },
    "tags": []
   },
   "source": [
    "Last, we implement back-propagation. Essentially, we translate from use language to another, and then back to original language."
   ]
  },
  {
   "cell_type": "code",
   "execution_count": 16,
   "id": "dad64a64",
   "metadata": {
    "execution": {
     "iopub.execute_input": "2024-04-15T16:45:48.911752Z",
     "iopub.status.busy": "2024-04-15T16:45:48.911304Z",
     "iopub.status.idle": "2024-04-15T16:47:03.215706Z",
     "shell.execute_reply": "2024-04-15T16:47:03.214564Z"
    },
    "papermill": {
     "duration": 74.333004,
     "end_time": "2024-04-15T16:47:03.217900",
     "exception": false,
     "start_time": "2024-04-15T16:45:48.884896",
     "status": "completed"
    },
    "tags": []
   },
   "outputs": [
    {
     "data": {
      "application/vnd.jupyter.widget-view+json": {
       "model_id": "827ab2d28aba4bbfafb564944a018815",
       "version_major": 2,
       "version_minor": 0
      },
      "text/plain": [
       "config.json:   0%|          | 0.00/825 [00:00<?, ?B/s]"
      ]
     },
     "metadata": {},
     "output_type": "display_data"
    },
    {
     "data": {
      "application/vnd.jupyter.widget-view+json": {
       "model_id": "269937773f7847a2b82c3836aed90afe",
       "version_major": 2,
       "version_minor": 0
      },
      "text/plain": [
       "pytorch_model.bin:   0%|          | 0.00/1.08G [00:00<?, ?B/s]"
      ]
     },
     "metadata": {},
     "output_type": "display_data"
    },
    {
     "name": "stderr",
     "output_type": "stream",
     "text": [
      "/opt/conda/lib/python3.10/site-packages/torch/_utils.py:831: UserWarning: TypedStorage is deprecated. It will be removed in the future and UntypedStorage will be the only storage class. This should only matter to you if you are using storages directly.  To access UntypedStorage directly, use tensor.untyped_storage() instead of tensor.storage()\n",
      "  return self.fget.__get__(instance, owner)()\n",
      "Some weights of FSMTForConditionalGeneration were not initialized from the model checkpoint at facebook/wmt19-en-de and are newly initialized: ['model.decoder.embed_positions.weight', 'model.encoder.embed_positions.weight']\n",
      "You should probably TRAIN this model on a down-stream task to be able to use it for predictions and inference.\n"
     ]
    },
    {
     "data": {
      "application/vnd.jupyter.widget-view+json": {
       "model_id": "2fdc8a3715cb46a8a8fba9cba5d08fd7",
       "version_major": 2,
       "version_minor": 0
      },
      "text/plain": [
       "generation_config.json:   0%|          | 0.00/235 [00:00<?, ?B/s]"
      ]
     },
     "metadata": {},
     "output_type": "display_data"
    },
    {
     "data": {
      "application/vnd.jupyter.widget-view+json": {
       "model_id": "2041fd947b7248acb085006bab3bd74a",
       "version_major": 2,
       "version_minor": 0
      },
      "text/plain": [
       "config.json:   0%|          | 0.00/825 [00:00<?, ?B/s]"
      ]
     },
     "metadata": {},
     "output_type": "display_data"
    },
    {
     "data": {
      "application/vnd.jupyter.widget-view+json": {
       "model_id": "d7ea0669d59d4424916c5212dcde480d",
       "version_major": 2,
       "version_minor": 0
      },
      "text/plain": [
       "model.safetensors:   0%|          | 0.00/1.08G [00:00<?, ?B/s]"
      ]
     },
     "metadata": {},
     "output_type": "display_data"
    },
    {
     "name": "stderr",
     "output_type": "stream",
     "text": [
      "Some weights of FSMTForConditionalGeneration were not initialized from the model checkpoint at facebook/wmt19-de-en and are newly initialized: ['model.decoder.embed_positions.weight', 'model.encoder.embed_positions.weight']\n",
      "You should probably TRAIN this model on a down-stream task to be able to use it for predictions and inference.\n"
     ]
    },
    {
     "data": {
      "application/vnd.jupyter.widget-view+json": {
       "model_id": "0d3becdd35b34e749c904d9a853f302b",
       "version_major": 2,
       "version_minor": 0
      },
      "text/plain": [
       "generation_config.json:   0%|          | 0.00/260 [00:00<?, ?B/s]"
      ]
     },
     "metadata": {},
     "output_type": "display_data"
    },
    {
     "data": {
      "application/vnd.jupyter.widget-view+json": {
       "model_id": "8a45bbaae9f9462cabe1cf7a5b01398f",
       "version_major": 2,
       "version_minor": 0
      },
      "text/plain": [
       "tokenizer_config.json:   0%|          | 0.00/67.0 [00:00<?, ?B/s]"
      ]
     },
     "metadata": {},
     "output_type": "display_data"
    },
    {
     "data": {
      "application/vnd.jupyter.widget-view+json": {
       "model_id": "71853388dee34db6bfe5728b332850a6",
       "version_major": 2,
       "version_minor": 0
      },
      "text/plain": [
       "vocab-src.json:   0%|          | 0.00/849k [00:00<?, ?B/s]"
      ]
     },
     "metadata": {},
     "output_type": "display_data"
    },
    {
     "data": {
      "application/vnd.jupyter.widget-view+json": {
       "model_id": "784042046a2d43f6b4a74113d151646f",
       "version_major": 2,
       "version_minor": 0
      },
      "text/plain": [
       "merges.txt:   0%|          | 0.00/315k [00:00<?, ?B/s]"
      ]
     },
     "metadata": {},
     "output_type": "display_data"
    },
    {
     "data": {
      "application/vnd.jupyter.widget-view+json": {
       "model_id": "d144d5b7f9fd4dbba60ca47fd27eb3dc",
       "version_major": 2,
       "version_minor": 0
      },
      "text/plain": [
       "tokenizer_config.json:   0%|          | 0.00/67.0 [00:00<?, ?B/s]"
      ]
     },
     "metadata": {},
     "output_type": "display_data"
    },
    {
     "data": {
      "application/vnd.jupyter.widget-view+json": {
       "model_id": "cbe6c4c5107b423187853b9e7d944d3f",
       "version_major": 2,
       "version_minor": 0
      },
      "text/plain": [
       "vocab-src.json:   0%|          | 0.00/849k [00:00<?, ?B/s]"
      ]
     },
     "metadata": {},
     "output_type": "display_data"
    },
    {
     "data": {
      "application/vnd.jupyter.widget-view+json": {
       "model_id": "a11d29e2a69a41dba49727d9a0674e18",
       "version_major": 2,
       "version_minor": 0
      },
      "text/plain": [
       "merges.txt:   0%|          | 0.00/315k [00:00<?, ?B/s]"
      ]
     },
     "metadata": {},
     "output_type": "display_data"
    },
    {
     "name": "stdout",
     "output_type": "stream",
     "text": [
      "data augmentation is interesting. lots of surprises!\n",
      "['Data expansion is interesting. Many surprises!']\n"
     ]
    }
   ],
   "source": [
    "back_translation_aug = naw.BackTranslationAug(\n",
    "    from_model_name='facebook/wmt19-en-de', \n",
    "    to_model_name='facebook/wmt19-de-en',\n",
    "    device=device\n",
    ")\n",
    "# back_translation_aug.augment(text)\n",
    "\n",
    "print(text_example)\n",
    "example_aug = back_translation_aug.augment(text_example)\n",
    "print(example_aug)"
   ]
  },
  {
   "cell_type": "markdown",
   "id": "85597085",
   "metadata": {
    "papermill": {
     "duration": 0.023998,
     "end_time": "2024-04-15T16:47:03.266647",
     "exception": false,
     "start_time": "2024-04-15T16:47:03.242649",
     "status": "completed"
    },
    "tags": []
   },
   "source": [
    "**Dictionary of augmentations used above**"
   ]
  },
  {
   "cell_type": "code",
   "execution_count": 17,
   "id": "9f08b63e",
   "metadata": {
    "execution": {
     "iopub.execute_input": "2024-04-15T16:47:03.315978Z",
     "iopub.status.busy": "2024-04-15T16:47:03.315672Z",
     "iopub.status.idle": "2024-04-15T16:47:03.320545Z",
     "shell.execute_reply": "2024-04-15T16:47:03.319710Z"
    },
    "papermill": {
     "duration": 0.031934,
     "end_time": "2024-04-15T16:47:03.322391",
     "exception": false,
     "start_time": "2024-04-15T16:47:03.290457",
     "status": "completed"
    },
    "tags": []
   },
   "outputs": [],
   "source": [
    "augmentation={\n",
    "    \"synonym\":syn_aug,\n",
    "    \"swap\":swap_aug,\n",
    "    \"delete\":del_aug,\n",
    "    \"embedding_sub\":emde_aug_subs,\n",
    "    \"embedding_insert\":aug_lang_model_insert,\n",
    "    \"lan_sub\":aug_lang_model_sub,\n",
    "    \"back-translation\":back_translation_aug\n",
    "}"
   ]
  },
  {
   "cell_type": "markdown",
   "id": "3dbfa723",
   "metadata": {
    "papermill": {
     "duration": 0.023397,
     "end_time": "2024-04-15T16:47:03.369764",
     "exception": false,
     "start_time": "2024-04-15T16:47:03.346367",
     "status": "completed"
    },
    "tags": []
   },
   "source": [
    "# 3- Defining Parameters <a class=\"anchor\" id=\"definitions\"/>"
   ]
  },
  {
   "cell_type": "code",
   "execution_count": 18,
   "id": "b75370bf",
   "metadata": {
    "execution": {
     "iopub.execute_input": "2024-04-15T16:47:03.419066Z",
     "iopub.status.busy": "2024-04-15T16:47:03.418344Z",
     "iopub.status.idle": "2024-04-15T16:47:03.424741Z",
     "shell.execute_reply": "2024-04-15T16:47:03.423912Z"
    },
    "papermill": {
     "duration": 0.032989,
     "end_time": "2024-04-15T16:47:03.426536",
     "exception": false,
     "start_time": "2024-04-15T16:47:03.393547",
     "status": "completed"
    },
    "tags": []
   },
   "outputs": [],
   "source": [
    "data_filename='/kaggle/input/emotions/text.csv'\n",
    "batch_size=128\n",
    "random_state=20\n",
    "aug_prob=0.3\n",
    "epochs=5\n",
    "plt.style.use('ggplot')\n",
    "\n",
    "run_no_aug=True\n",
    "run_aug_batch=True\n",
    "run_aug_min=False\n",
    "\n",
    "label_to_meaning={\n",
    "    0:'sadness',\n",
    "    1:'joy',\n",
    "    2:'love',\n",
    "    3:'anger',\n",
    "    4:'fear',\n",
    "    5:'surprise'\n",
    "}"
   ]
  },
  {
   "cell_type": "markdown",
   "id": "03365197",
   "metadata": {
    "papermill": {
     "duration": 0.023486,
     "end_time": "2024-04-15T16:47:03.473569",
     "exception": false,
     "start_time": "2024-04-15T16:47:03.450083",
     "status": "completed"
    },
    "tags": []
   },
   "source": [
    "# 4- Data Preparation and Visualization <a class=\"anchor\" id=\"Data\"/>"
   ]
  },
  {
   "cell_type": "code",
   "execution_count": 19,
   "id": "1b62b9b6",
   "metadata": {
    "execution": {
     "iopub.execute_input": "2024-04-15T16:47:03.527299Z",
     "iopub.status.busy": "2024-04-15T16:47:03.526519Z",
     "iopub.status.idle": "2024-04-15T16:47:04.682533Z",
     "shell.execute_reply": "2024-04-15T16:47:04.681518Z"
    },
    "papermill": {
     "duration": 1.185741,
     "end_time": "2024-04-15T16:47:04.684563",
     "exception": false,
     "start_time": "2024-04-15T16:47:03.498822",
     "status": "completed"
    },
    "tags": []
   },
   "outputs": [
    {
     "data": {
      "text/html": [
       "<div>\n",
       "<style scoped>\n",
       "    .dataframe tbody tr th:only-of-type {\n",
       "        vertical-align: middle;\n",
       "    }\n",
       "\n",
       "    .dataframe tbody tr th {\n",
       "        vertical-align: top;\n",
       "    }\n",
       "\n",
       "    .dataframe thead th {\n",
       "        text-align: right;\n",
       "    }\n",
       "</style>\n",
       "<table border=\"1\" class=\"dataframe\">\n",
       "  <thead>\n",
       "    <tr style=\"text-align: right;\">\n",
       "      <th></th>\n",
       "      <th>Unnamed: 0</th>\n",
       "      <th>text</th>\n",
       "      <th>label</th>\n",
       "    </tr>\n",
       "  </thead>\n",
       "  <tbody>\n",
       "    <tr>\n",
       "      <th>0</th>\n",
       "      <td>0</td>\n",
       "      <td>i just feel really helpless and heavy hearted</td>\n",
       "      <td>4</td>\n",
       "    </tr>\n",
       "    <tr>\n",
       "      <th>1</th>\n",
       "      <td>1</td>\n",
       "      <td>ive enjoyed being able to slouch about relax a...</td>\n",
       "      <td>0</td>\n",
       "    </tr>\n",
       "    <tr>\n",
       "      <th>2</th>\n",
       "      <td>2</td>\n",
       "      <td>i gave up my internship with the dmrg and am f...</td>\n",
       "      <td>4</td>\n",
       "    </tr>\n",
       "    <tr>\n",
       "      <th>3</th>\n",
       "      <td>3</td>\n",
       "      <td>i dont know i feel so lost</td>\n",
       "      <td>0</td>\n",
       "    </tr>\n",
       "    <tr>\n",
       "      <th>4</th>\n",
       "      <td>4</td>\n",
       "      <td>i am a kindergarten teacher and i am thoroughl...</td>\n",
       "      <td>4</td>\n",
       "    </tr>\n",
       "    <tr>\n",
       "      <th>...</th>\n",
       "      <td>...</td>\n",
       "      <td>...</td>\n",
       "      <td>...</td>\n",
       "    </tr>\n",
       "    <tr>\n",
       "      <th>416804</th>\n",
       "      <td>416804</td>\n",
       "      <td>i feel like telling these horny devils to find...</td>\n",
       "      <td>2</td>\n",
       "    </tr>\n",
       "    <tr>\n",
       "      <th>416805</th>\n",
       "      <td>416805</td>\n",
       "      <td>i began to realize that when i was feeling agi...</td>\n",
       "      <td>3</td>\n",
       "    </tr>\n",
       "    <tr>\n",
       "      <th>416806</th>\n",
       "      <td>416806</td>\n",
       "      <td>i feel very curious be why previous early dawn...</td>\n",
       "      <td>5</td>\n",
       "    </tr>\n",
       "    <tr>\n",
       "      <th>416807</th>\n",
       "      <td>416807</td>\n",
       "      <td>i feel that becuase of the tyranical nature of...</td>\n",
       "      <td>3</td>\n",
       "    </tr>\n",
       "    <tr>\n",
       "      <th>416808</th>\n",
       "      <td>416808</td>\n",
       "      <td>i think that after i had spent some time inves...</td>\n",
       "      <td>5</td>\n",
       "    </tr>\n",
       "  </tbody>\n",
       "</table>\n",
       "<p>416809 rows × 3 columns</p>\n",
       "</div>"
      ],
      "text/plain": [
       "        Unnamed: 0                                               text  label\n",
       "0                0      i just feel really helpless and heavy hearted      4\n",
       "1                1  ive enjoyed being able to slouch about relax a...      0\n",
       "2                2  i gave up my internship with the dmrg and am f...      4\n",
       "3                3                         i dont know i feel so lost      0\n",
       "4                4  i am a kindergarten teacher and i am thoroughl...      4\n",
       "...            ...                                                ...    ...\n",
       "416804      416804  i feel like telling these horny devils to find...      2\n",
       "416805      416805  i began to realize that when i was feeling agi...      3\n",
       "416806      416806  i feel very curious be why previous early dawn...      5\n",
       "416807      416807  i feel that becuase of the tyranical nature of...      3\n",
       "416808      416808  i think that after i had spent some time inves...      5\n",
       "\n",
       "[416809 rows x 3 columns]"
      ]
     },
     "execution_count": 19,
     "metadata": {},
     "output_type": "execute_result"
    }
   ],
   "source": [
    "dataset=pd.read_csv(data_filename)\n",
    "#only keep class 0 and 1 to avoid class imbalance\n",
    "# dataset=dataset[dataset['label'].isin([0,1,2,3,4])]\n",
    "dataset"
   ]
  },
  {
   "cell_type": "code",
   "execution_count": 20,
   "id": "f7482932",
   "metadata": {
    "execution": {
     "iopub.execute_input": "2024-04-15T16:47:04.735338Z",
     "iopub.status.busy": "2024-04-15T16:47:04.735021Z",
     "iopub.status.idle": "2024-04-15T16:47:05.176446Z",
     "shell.execute_reply": "2024-04-15T16:47:05.175634Z"
    },
    "papermill": {
     "duration": 0.469381,
     "end_time": "2024-04-15T16:47:05.178771",
     "exception": false,
     "start_time": "2024-04-15T16:47:04.709390",
     "status": "completed"
    },
    "tags": []
   },
   "outputs": [],
   "source": [
    "X=dataset.index.values.tolist()\n",
    "y=dataset['label'].values.tolist()\n",
    "test_size=0.3\n",
    "X_train, X_test, y_train, y_test=train_test_split(X, y, test_size=test_size, random_state=random_state,stratify=y)"
   ]
  },
  {
   "cell_type": "code",
   "execution_count": 21,
   "id": "13934128",
   "metadata": {
    "execution": {
     "iopub.execute_input": "2024-04-15T16:47:05.228977Z",
     "iopub.status.busy": "2024-04-15T16:47:05.228686Z",
     "iopub.status.idle": "2024-04-15T16:47:05.334686Z",
     "shell.execute_reply": "2024-04-15T16:47:05.333899Z"
    },
    "papermill": {
     "duration": 0.133358,
     "end_time": "2024-04-15T16:47:05.336850",
     "exception": false,
     "start_time": "2024-04-15T16:47:05.203492",
     "status": "completed"
    },
    "tags": []
   },
   "outputs": [],
   "source": [
    "train_df=dataset.loc[X_train]\n",
    "test_df=dataset.loc[X_test]"
   ]
  },
  {
   "cell_type": "markdown",
   "id": "3ce5a386",
   "metadata": {
    "papermill": {
     "duration": 0.024255,
     "end_time": "2024-04-15T16:47:05.385824",
     "exception": false,
     "start_time": "2024-04-15T16:47:05.361569",
     "status": "completed"
    },
    "tags": []
   },
   "source": [
    "### 4.1- Data Distributions <a class=\"anchor\" id=\"distributions\"/>"
   ]
  },
  {
   "cell_type": "markdown",
   "id": "12b26a5e",
   "metadata": {
    "papermill": {
     "duration": 0.023581,
     "end_time": "2024-04-15T16:47:05.433290",
     "exception": false,
     "start_time": "2024-04-15T16:47:05.409709",
     "status": "completed"
    },
    "tags": []
   },
   "source": [
    "Below you can find a graph of the distribution of classes given text length. At the end, you will see the percentage of each class in the train dataset."
   ]
  },
  {
   "cell_type": "code",
   "execution_count": 22,
   "id": "adba82b2",
   "metadata": {
    "execution": {
     "iopub.execute_input": "2024-04-15T16:47:05.482805Z",
     "iopub.status.busy": "2024-04-15T16:47:05.481890Z",
     "iopub.status.idle": "2024-04-15T16:47:07.914765Z",
     "shell.execute_reply": "2024-04-15T16:47:07.913927Z"
    },
    "papermill": {
     "duration": 2.460523,
     "end_time": "2024-04-15T16:47:07.917620",
     "exception": false,
     "start_time": "2024-04-15T16:47:05.457097",
     "status": "completed"
    },
    "tags": []
   },
   "outputs": [
    {
     "name": "stdout",
     "output_type": "stream",
     "text": [
      "Examples for sadness:\n",
      "\n",
      "im probally in the worst mood ever right now and i feel heartbroken \n",
      "\n",
      "i feel like im tattooed with the word damaged on my forehead \n",
      "\n",
      "i thought by holding back i could save some feeligns and not get totally heartbroken \n",
      "\n",
      "there are 84831 samples\n",
      "\n",
      "\n",
      "\n",
      "\n",
      "Examples for joy:\n",
      "\n",
      "i feel like i did so much this past weekend yet have no fabulous before and after photos to show for all my work \n",
      "\n",
      "i feel really is vital and what keeps me involved with the church is the notion that we should no must love one another and that our whole reason for being in the world is to do good for each other \n",
      "\n",
      "i feel when my girlfriend isn t satisfied with any restaurant suggestion \n",
      "\n",
      "there are 98747 samples\n",
      "\n",
      "\n",
      "\n",
      "\n",
      "Examples for love:\n",
      "\n",
      "i feel a need to say a very fond farewell to the pickled bean \n",
      "\n",
      "ive never been able to describe the feeling i get doing theatre and what makes me so passionate about it but this book really does explain it really well \n",
      "\n",
      "i say his helpless the phone muttered the i love you love his feeling always feel very sweet always feel to have him with me i nothing a person undertaking no matter where there is a he \n",
      "\n",
      "there are 24188 samples\n",
      "\n",
      "\n",
      "\n",
      "\n",
      "Examples for anger:\n",
      "\n",
      "i was finally feeling the effects of that vile repugnance i mistakenly allowed near my oral cavity that probably did a number sterilizing my small intestine if not liver \n",
      "\n",
      "i feel so fucking disgusted by myself \n",
      "\n",
      "i can just feel the bitchy side of me underneath my skin seeping out slowly but surely \n",
      "\n",
      "there are 40122 samples\n",
      "\n",
      "\n",
      "\n",
      "\n",
      "Examples for fear:\n",
      "\n",
      "i didn t want to make the big fellow feel too intimidated after all \n",
      "\n",
      "i laid the thick mattress pad on the king size bed only to start feeling a little apprehensive about my count sheets \n",
      "\n",
      "i stopped him and asked for a minute to which he acceded feeling a bit intimidated \n",
      "\n",
      "there are 33398 samples\n",
      "\n",
      "\n",
      "\n",
      "\n",
      "Examples for surprise:\n",
      "\n",
      "i actually feel amazed \n",
      "\n",
      "i went to the pro evolution wrestling show in trowbridge and i still feel weird and bad that i didnt do my usual weekend of wrestling post \n",
      "\n",
      "i hardly find the feeling hardly laugh when some people is talking something funny to me \n",
      "\n",
      "there are 10480 samples\n",
      "\n",
      "\n",
      "\n",
      "\n"
     ]
    },
    {
     "data": {
      "image/png": "[encoded data removed]",
      "text/plain": [
       "<Figure size 1000x2400 with 6 Axes>"
      ]
     },
     "metadata": {},
     "output_type": "display_data"
    }
   ],
   "source": [
    "fig, ax = plt.subplots(nrows=6,ncols=1,figsize=(10,24), sharex=True, sharey=True)\n",
    "\n",
    "i=0\n",
    "for label, data_group in train_df.groupby('label'):\n",
    "    print(f'Examples for {label_to_meaning[label]}:\\n')\n",
    "    \n",
    "    for index,row in data_group.sample(n=3).iterrows():\n",
    "        print(row['text'],'\\n')\n",
    "        \n",
    "    print(f'there are {len(data_group)} samples')\n",
    "    \n",
    "    data_group['len']=data_group['text'].str.count(' ')+1\n",
    "    data_group.hist(column='len',ax=ax[i],figsize=(10,4))\n",
    "    print('\\n\\n\\n')\n",
    "    \n",
    "    ax[i].set_title(label_to_meaning[label].capitalize(),fontsize=18)\n",
    "    ax[i].set_ylabel('word count', fontsize='large')\n",
    "    \n",
    "    i+=1"
   ]
  },
  {
   "cell_type": "code",
   "execution_count": 23,
   "id": "97a20ded",
   "metadata": {
    "execution": {
     "iopub.execute_input": "2024-04-15T16:47:07.971700Z",
     "iopub.status.busy": "2024-04-15T16:47:07.971373Z",
     "iopub.status.idle": "2024-04-15T16:47:08.032885Z",
     "shell.execute_reply": "2024-04-15T16:47:08.031964Z"
    },
    "papermill": {
     "duration": 0.089937,
     "end_time": "2024-04-15T16:47:08.034737",
     "exception": false,
     "start_time": "2024-04-15T16:47:07.944800",
     "status": "completed"
    },
    "tags": []
   },
   "outputs": [
    {
     "data": {
      "text/html": [
       "<div>\n",
       "<style scoped>\n",
       "    .dataframe tbody tr th:only-of-type {\n",
       "        vertical-align: middle;\n",
       "    }\n",
       "\n",
       "    .dataframe tbody tr th {\n",
       "        vertical-align: top;\n",
       "    }\n",
       "\n",
       "    .dataframe thead th {\n",
       "        text-align: right;\n",
       "    }\n",
       "</style>\n",
       "<table border=\"1\" class=\"dataframe\">\n",
       "  <thead>\n",
       "    <tr style=\"text-align: right;\">\n",
       "      <th></th>\n",
       "      <th>Unnamed: 0</th>\n",
       "      <th>text</th>\n",
       "    </tr>\n",
       "    <tr>\n",
       "      <th>label</th>\n",
       "      <th></th>\n",
       "      <th></th>\n",
       "    </tr>\n",
       "  </thead>\n",
       "  <tbody>\n",
       "    <tr>\n",
       "      <th>0</th>\n",
       "      <td>0.290750</td>\n",
       "      <td>0.290750</td>\n",
       "    </tr>\n",
       "    <tr>\n",
       "      <th>1</th>\n",
       "      <td>0.338446</td>\n",
       "      <td>0.338446</td>\n",
       "    </tr>\n",
       "    <tr>\n",
       "      <th>2</th>\n",
       "      <td>0.082902</td>\n",
       "      <td>0.082902</td>\n",
       "    </tr>\n",
       "    <tr>\n",
       "      <th>3</th>\n",
       "      <td>0.137514</td>\n",
       "      <td>0.137514</td>\n",
       "    </tr>\n",
       "    <tr>\n",
       "      <th>4</th>\n",
       "      <td>0.114468</td>\n",
       "      <td>0.114468</td>\n",
       "    </tr>\n",
       "    <tr>\n",
       "      <th>5</th>\n",
       "      <td>0.035919</td>\n",
       "      <td>0.035919</td>\n",
       "    </tr>\n",
       "  </tbody>\n",
       "</table>\n",
       "</div>"
      ],
      "text/plain": [
       "       Unnamed: 0      text\n",
       "label                      \n",
       "0        0.290750  0.290750\n",
       "1        0.338446  0.338446\n",
       "2        0.082902  0.082902\n",
       "3        0.137514  0.137514\n",
       "4        0.114468  0.114468\n",
       "5        0.035919  0.035919"
      ]
     },
     "execution_count": 23,
     "metadata": {},
     "output_type": "execute_result"
    }
   ],
   "source": [
    "train_df.groupby('label').count()/len(train_df)"
   ]
  },
  {
   "cell_type": "code",
   "execution_count": 24,
   "id": "f8393b22",
   "metadata": {
    "execution": {
     "iopub.execute_input": "2024-04-15T16:47:08.089929Z",
     "iopub.status.busy": "2024-04-15T16:47:08.089647Z",
     "iopub.status.idle": "2024-04-15T16:47:08.148616Z",
     "shell.execute_reply": "2024-04-15T16:47:08.147786Z"
    },
    "papermill": {
     "duration": 0.088996,
     "end_time": "2024-04-15T16:47:08.150585",
     "exception": false,
     "start_time": "2024-04-15T16:47:08.061589",
     "status": "completed"
    },
    "tags": []
   },
   "outputs": [
    {
     "data": {
      "text/html": [
       "<div>\n",
       "<style scoped>\n",
       "    .dataframe tbody tr th:only-of-type {\n",
       "        vertical-align: middle;\n",
       "    }\n",
       "\n",
       "    .dataframe tbody tr th {\n",
       "        vertical-align: top;\n",
       "    }\n",
       "\n",
       "    .dataframe thead th {\n",
       "        text-align: right;\n",
       "    }\n",
       "</style>\n",
       "<table border=\"1\" class=\"dataframe\">\n",
       "  <thead>\n",
       "    <tr style=\"text-align: right;\">\n",
       "      <th></th>\n",
       "      <th>Unnamed: 0</th>\n",
       "      <th>text</th>\n",
       "    </tr>\n",
       "    <tr>\n",
       "      <th>label</th>\n",
       "      <th></th>\n",
       "      <th></th>\n",
       "    </tr>\n",
       "  </thead>\n",
       "  <tbody>\n",
       "    <tr>\n",
       "      <th>0</th>\n",
       "      <td>84831</td>\n",
       "      <td>84831</td>\n",
       "    </tr>\n",
       "    <tr>\n",
       "      <th>1</th>\n",
       "      <td>98747</td>\n",
       "      <td>98747</td>\n",
       "    </tr>\n",
       "    <tr>\n",
       "      <th>2</th>\n",
       "      <td>24188</td>\n",
       "      <td>24188</td>\n",
       "    </tr>\n",
       "    <tr>\n",
       "      <th>3</th>\n",
       "      <td>40122</td>\n",
       "      <td>40122</td>\n",
       "    </tr>\n",
       "    <tr>\n",
       "      <th>4</th>\n",
       "      <td>33398</td>\n",
       "      <td>33398</td>\n",
       "    </tr>\n",
       "    <tr>\n",
       "      <th>5</th>\n",
       "      <td>10480</td>\n",
       "      <td>10480</td>\n",
       "    </tr>\n",
       "  </tbody>\n",
       "</table>\n",
       "</div>"
      ],
      "text/plain": [
       "       Unnamed: 0   text\n",
       "label                   \n",
       "0           84831  84831\n",
       "1           98747  98747\n",
       "2           24188  24188\n",
       "3           40122  40122\n",
       "4           33398  33398\n",
       "5           10480  10480"
      ]
     },
     "execution_count": 24,
     "metadata": {},
     "output_type": "execute_result"
    }
   ],
   "source": [
    "train_df.groupby('label').count()"
   ]
  },
  {
   "cell_type": "markdown",
   "id": "3b3e3498",
   "metadata": {
    "papermill": {
     "duration": 0.026306,
     "end_time": "2024-04-15T16:47:08.203233",
     "exception": false,
     "start_time": "2024-04-15T16:47:08.176927",
     "status": "completed"
    },
    "tags": []
   },
   "source": [
    "### 4.2- Vectorization <a class=\"anchor\" id=\"Vectorization\"/>"
   ]
  },
  {
   "cell_type": "markdown",
   "id": "75800b59",
   "metadata": {
    "papermill": {
     "duration": 0.026777,
     "end_time": "2024-04-15T16:47:08.256127",
     "exception": false,
     "start_time": "2024-04-15T16:47:08.229350",
     "status": "completed"
    },
    "tags": []
   },
   "source": [
    "We create and train the vectorizer that will contain a dictionary of words to convert our text inputs to numbers. Note that usually stopwords are removed as they carry little value. However, I ommit this step to focus on data augmentation."
   ]
  },
  {
   "cell_type": "code",
   "execution_count": 25,
   "id": "42f95ce5",
   "metadata": {
    "execution": {
     "iopub.execute_input": "2024-04-15T16:47:08.310965Z",
     "iopub.status.busy": "2024-04-15T16:47:08.310670Z",
     "iopub.status.idle": "2024-04-15T16:47:10.207489Z",
     "shell.execute_reply": "2024-04-15T16:47:10.206588Z"
    },
    "papermill": {
     "duration": 1.926406,
     "end_time": "2024-04-15T16:47:10.209807",
     "exception": false,
     "start_time": "2024-04-15T16:47:08.283401",
     "status": "completed"
    },
    "tags": []
   },
   "outputs": [],
   "source": [
    "vectorizer = tf.keras.layers.TextVectorization(\n",
    "    max_tokens=None,\n",
    "    standardize='lower_and_strip_punctuation',\n",
    "    split='whitespace',\n",
    "    ngrams=None,\n",
    "    output_mode='int',\n",
    "    output_sequence_length=60,\n",
    "    pad_to_max_tokens=False,\n",
    "    vocabulary=None,\n",
    "    idf_weights=None,\n",
    "    sparse=False,\n",
    "    ragged=False,\n",
    "    encoding='utf-8',\n",
    "    name=None)\n",
    "\n",
    "vectorizer.adapt(train_df['text'].values)\n",
    "# vectorizer.get_vocabulary()"
   ]
  },
  {
   "cell_type": "code",
   "execution_count": 26,
   "id": "68f24ef4",
   "metadata": {
    "execution": {
     "iopub.execute_input": "2024-04-15T16:47:10.264095Z",
     "iopub.status.busy": "2024-04-15T16:47:10.263756Z",
     "iopub.status.idle": "2024-04-15T16:47:10.531225Z",
     "shell.execute_reply": "2024-04-15T16:47:10.530138Z"
    },
    "papermill": {
     "duration": 0.297021,
     "end_time": "2024-04-15T16:47:10.533489",
     "exception": false,
     "start_time": "2024-04-15T16:47:10.236468",
     "status": "completed"
    },
    "tags": []
   },
   "outputs": [
    {
     "name": "stdout",
     "output_type": "stream",
     "text": [
      "There are 63769 words in the dictionary\n"
     ]
    }
   ],
   "source": [
    "print(f'There are {len(vectorizer.get_vocabulary())} words in the dictionary')"
   ]
  },
  {
   "cell_type": "code",
   "execution_count": 27,
   "id": "93131a6a",
   "metadata": {
    "execution": {
     "iopub.execute_input": "2024-04-15T16:47:10.589094Z",
     "iopub.status.busy": "2024-04-15T16:47:10.588799Z",
     "iopub.status.idle": "2024-04-15T16:47:11.821738Z",
     "shell.execute_reply": "2024-04-15T16:47:11.820659Z"
    },
    "papermill": {
     "duration": 1.263075,
     "end_time": "2024-04-15T16:47:11.823939",
     "exception": false,
     "start_time": "2024-04-15T16:47:10.560864",
     "status": "completed"
    },
    "tags": []
   },
   "outputs": [
    {
     "data": {
      "text/plain": [
       "<tf.Tensor: shape=(1, 60), dtype=int64, numpy=\n",
       "array([[  11, 1431, 2890,    5,   89,  164,   13,   22,  340,   29, 2943,\n",
       "           0,    0,    0,    0,    0,    0,    0,    0,    0,    0,    0,\n",
       "           0,    0,    0,    0,    0,    0,    0,    0,    0,    0,    0,\n",
       "           0,    0,    0,    0,    0,    0,    0,    0,    0,    0,    0,\n",
       "           0,    0,    0,    0,    0,    0,    0,    0,    0,    0,    0,\n",
       "           0,    0,    0,    0,    0]])>"
      ]
     },
     "execution_count": 27,
     "metadata": {},
     "output_type": "execute_result"
    }
   ],
   "source": [
    "test=vectorizer(['my test sentence to make sure it is working as intended'])\n",
    "test"
   ]
  },
  {
   "cell_type": "code",
   "execution_count": 28,
   "id": "e0382f7c",
   "metadata": {
    "execution": {
     "iopub.execute_input": "2024-04-15T16:47:11.878998Z",
     "iopub.status.busy": "2024-04-15T16:47:11.878683Z",
     "iopub.status.idle": "2024-04-15T16:47:12.800472Z",
     "shell.execute_reply": "2024-04-15T16:47:12.799561Z"
    },
    "papermill": {
     "duration": 0.951461,
     "end_time": "2024-04-15T16:47:12.802515",
     "exception": false,
     "start_time": "2024-04-15T16:47:11.851054",
     "status": "completed"
    },
    "tags": []
   },
   "outputs": [
    {
     "data": {
      "text/plain": [
       "TensorShape([1, 60, 128])"
      ]
     },
     "execution_count": 28,
     "metadata": {},
     "output_type": "execute_result"
    }
   ],
   "source": [
    "embedding=keras.layers.Embedding(input_dim=vectorizer.vocabulary_size()+1, output_dim=128)\n",
    "embedding(test).shape"
   ]
  },
  {
   "cell_type": "markdown",
   "id": "f0c78594",
   "metadata": {
    "papermill": {
     "duration": 0.026685,
     "end_time": "2024-04-15T16:47:12.856609",
     "exception": false,
     "start_time": "2024-04-15T16:47:12.829924",
     "status": "completed"
    },
    "tags": []
   },
   "source": [
    "# 5- Testing/Implementation <a class=\"anchor\" id=\"testing\"/>"
   ]
  },
  {
   "cell_type": "code",
   "execution_count": 29,
   "id": "2b704f9d",
   "metadata": {
    "execution": {
     "iopub.execute_input": "2024-04-15T16:47:12.911252Z",
     "iopub.status.busy": "2024-04-15T16:47:12.910939Z",
     "iopub.status.idle": "2024-04-15T16:47:12.918170Z",
     "shell.execute_reply": "2024-04-15T16:47:12.917191Z"
    },
    "papermill": {
     "duration": 0.037125,
     "end_time": "2024-04-15T16:47:12.920102",
     "exception": false,
     "start_time": "2024-04-15T16:47:12.882977",
     "status": "completed"
    },
    "tags": []
   },
   "outputs": [],
   "source": [
    "def model_train(model, x_train, y_train, x_test, y_test, epochs=epochs,title='Model Accuracy'):\n",
    "\n",
    "    start=time.time()\n",
    "    model_hist = model.fit(x_train,y_train,epochs=epochs,validation_data=(x_test, y_test),verbose=1)\n",
    "    end=time.time()\n",
    "\n",
    "    train_time=end-start\n",
    "    print(f\"it took {train_time/60 if train_time>60 else train_time} {'min' if train_time>60 else 'sec'}\")\n",
    "    plt.plot(model_hist.history['accuracy'])\n",
    "    plt.plot(model_hist.history['val_accuracy'])\n",
    "\n",
    "    plt.title(title)\n",
    "    plt.ylabel('accuracy')\n",
    "    plt.xlabel('epoch')\n",
    "    plt.legend(['train', 'test'], loc='upper left')\n",
    "    plt.show()"
   ]
  },
  {
   "cell_type": "code",
   "execution_count": 30,
   "id": "61835cfe",
   "metadata": {
    "execution": {
     "iopub.execute_input": "2024-04-15T16:47:12.973826Z",
     "iopub.status.busy": "2024-04-15T16:47:12.973552Z",
     "iopub.status.idle": "2024-04-15T16:47:13.157615Z",
     "shell.execute_reply": "2024-04-15T16:47:13.156657Z"
    },
    "papermill": {
     "duration": 0.213566,
     "end_time": "2024-04-15T16:47:13.160010",
     "exception": false,
     "start_time": "2024-04-15T16:47:12.946444",
     "status": "completed"
    },
    "tags": []
   },
   "outputs": [],
   "source": [
    "model=keras.models.Sequential([\n",
    "    keras.layers.Input(shape=(60,)),\n",
    "    keras.layers.Embedding(input_dim=vectorizer.vocabulary_size()+1, output_dim=128),\n",
    "    keras.layers.LSTM(128,return_sequences=True),\n",
    "    keras.layers.Flatten(),\n",
    "    keras.layers.Dense(60, activation='relu'),\n",
    "    keras.layers.Dense(6)\n",
    "])\n",
    "\n",
    "model.compile(optimizer='adam',\n",
    "  loss=keras.losses.SparseCategoricalCrossentropy(from_logits=True),\n",
    "  metrics=['accuracy'])"
   ]
  },
  {
   "cell_type": "markdown",
   "id": "acf0845f",
   "metadata": {
    "papermill": {
     "duration": 0.026398,
     "end_time": "2024-04-15T16:47:13.213682",
     "exception": false,
     "start_time": "2024-04-15T16:47:13.187284",
     "status": "completed"
    },
    "tags": []
   },
   "source": [
    "### 5.1- No Augmentation <a class=\"anchor\" id=\"noAug\"/>"
   ]
  },
  {
   "cell_type": "markdown",
   "id": "1515d8c3",
   "metadata": {
    "papermill": {
     "duration": 0.026566,
     "end_time": "2024-04-15T16:47:13.266643",
     "exception": false,
     "start_time": "2024-04-15T16:47:13.240077",
     "status": "completed"
    },
    "tags": []
   },
   "source": [
    "we train 1 epoch at a time to claculate F1 using scikit-learn F1 implementation."
   ]
  },
  {
   "cell_type": "code",
   "execution_count": 31,
   "id": "60cd459f",
   "metadata": {
    "execution": {
     "iopub.execute_input": "2024-04-15T16:47:13.321698Z",
     "iopub.status.busy": "2024-04-15T16:47:13.321123Z",
     "iopub.status.idle": "2024-04-15T16:56:53.666702Z",
     "shell.execute_reply": "2024-04-15T16:56:53.665736Z"
    },
    "papermill": {
     "duration": 580.374843,
     "end_time": "2024-04-15T16:56:53.668664",
     "exception": false,
     "start_time": "2024-04-15T16:47:13.293821",
     "status": "completed"
    },
    "tags": []
   },
   "outputs": [
    {
     "name": "stdout",
     "output_type": "stream",
     "text": [
      "epoch 1:\n",
      "\n",
      "\u001b[1m9118/9118\u001b[0m \u001b[32m━━━━━━━━━━━━━━━━━━━━\u001b[0m\u001b[37m\u001b[0m \u001b[1m83s\u001b[0m 9ms/step - accuracy: 0.8681 - loss: 0.3225 - val_accuracy: 0.9369 - val_loss: 0.1006\n",
      "\u001b[1m3908/3908\u001b[0m \u001b[32m━━━━━━━━━━━━━━━━━━━━\u001b[0m\u001b[37m\u001b[0m \u001b[1m8s\u001b[0m 2ms/step\n",
      "\u001b[1m9118/9118\u001b[0m \u001b[32m━━━━━━━━━━━━━━━━━━━━\u001b[0m\u001b[37m\u001b[0m \u001b[1m20s\u001b[0m 2ms/step\n",
      "\n",
      "\n",
      "\n",
      "epoch 2:\n",
      "\n",
      "\u001b[1m9118/9118\u001b[0m \u001b[32m━━━━━━━━━━━━━━━━━━━━\u001b[0m\u001b[37m\u001b[0m \u001b[1m81s\u001b[0m 9ms/step - accuracy: 0.9402 - loss: 0.0941 - val_accuracy: 0.9353 - val_loss: 0.1185\n",
      "\u001b[1m3908/3908\u001b[0m \u001b[32m━━━━━━━━━━━━━━━━━━━━\u001b[0m\u001b[37m\u001b[0m \u001b[1m8s\u001b[0m 2ms/step\n",
      "\u001b[1m9118/9118\u001b[0m \u001b[32m━━━━━━━━━━━━━━━━━━━━\u001b[0m\u001b[37m\u001b[0m \u001b[1m19s\u001b[0m 2ms/step\n",
      "\n",
      "\n",
      "\n",
      "epoch 3:\n",
      "\n",
      "\u001b[1m9118/9118\u001b[0m \u001b[32m━━━━━━━━━━━━━━━━━━━━\u001b[0m\u001b[37m\u001b[0m \u001b[1m81s\u001b[0m 9ms/step - accuracy: 0.9434 - loss: 0.0865 - val_accuracy: 0.9394 - val_loss: 0.0941\n",
      "\u001b[1m3908/3908\u001b[0m \u001b[32m━━━━━━━━━━━━━━━━━━━━\u001b[0m\u001b[37m\u001b[0m \u001b[1m8s\u001b[0m 2ms/step\n",
      "\u001b[1m9118/9118\u001b[0m \u001b[32m━━━━━━━━━━━━━━━━━━━━\u001b[0m\u001b[37m\u001b[0m \u001b[1m20s\u001b[0m 2ms/step\n",
      "\n",
      "\n",
      "\n",
      "epoch 4:\n",
      "\n",
      "\u001b[1m9118/9118\u001b[0m \u001b[32m━━━━━━━━━━━━━━━━━━━━\u001b[0m\u001b[37m\u001b[0m \u001b[1m81s\u001b[0m 9ms/step - accuracy: 0.9446 - loss: 0.0828 - val_accuracy: 0.9393 - val_loss: 0.0960\n",
      "\u001b[1m3908/3908\u001b[0m \u001b[32m━━━━━━━━━━━━━━━━━━━━\u001b[0m\u001b[37m\u001b[0m \u001b[1m8s\u001b[0m 2ms/step\n",
      "\u001b[1m9118/9118\u001b[0m \u001b[32m━━━━━━━━━━━━━━━━━━━━\u001b[0m\u001b[37m\u001b[0m \u001b[1m20s\u001b[0m 2ms/step\n",
      "\n",
      "\n",
      "\n",
      "epoch 5:\n",
      "\n",
      "\u001b[1m9118/9118\u001b[0m \u001b[32m━━━━━━━━━━━━━━━━━━━━\u001b[0m\u001b[37m\u001b[0m \u001b[1m81s\u001b[0m 9ms/step - accuracy: 0.9438 - loss: 0.0811 - val_accuracy: 0.9394 - val_loss: 0.1018\n",
      "\u001b[1m3908/3908\u001b[0m \u001b[32m━━━━━━━━━━━━━━━━━━━━\u001b[0m\u001b[37m\u001b[0m \u001b[1m8s\u001b[0m 2ms/step\n",
      "\u001b[1m9118/9118\u001b[0m \u001b[32m━━━━━━━━━━━━━━━━━━━━\u001b[0m\u001b[37m\u001b[0m \u001b[1m19s\u001b[0m 2ms/step\n",
      "\n",
      "\n",
      "\n"
     ]
    },
    {
     "data": {
      "image/png": "[encoded data removed]",
      "text/plain": [
       "<Figure size 640x480 with 1 Axes>"
      ]
     },
     "metadata": {},
     "output_type": "display_data"
    }
   ],
   "source": [
    "x_train=vectorizer(train_df['text'].values) \n",
    "y_train=train_df['label'].values\n",
    "x_test=vectorizer(test_df['text'].values)\n",
    "y_test=test_df['label'].values\n",
    "y_true=y_test\n",
    "\n",
    "accuracy_ls=[]\n",
    "f1_ls=[]\n",
    "train_acc_ls=[]\n",
    "train_f1_ls=[]\n",
    "\n",
    "if run_no_aug:\n",
    "    for i in range(epochs):\n",
    "        print(f'epoch {i+1}:\\n')\n",
    "        model_hist = model.fit(x_train,y_train,epochs=1,validation_data=(x_test, y_test),verbose=1)\n",
    "\n",
    "        #test data\n",
    "        y_pred=np.argmax(model.predict(x_test),axis=-1)\n",
    "        y_train_pred=np.argmax(model.predict(x_train),axis=-1)\n",
    "\n",
    "        acc_current=accuracy_score(y_true, y_pred)\n",
    "        f1_current=f1_score(y_true, y_pred, average='macro')\n",
    "\n",
    "        accuracy_ls.append(acc_current)\n",
    "        f1_ls.append(f1_current)\n",
    "\n",
    "        #train data\n",
    "        acc_current=accuracy_score(y_train, y_train_pred)\n",
    "        f1_current=f1_score(y_train, y_train_pred, average='macro')\n",
    "\n",
    "        train_acc_ls.append(acc_current)\n",
    "        train_f1_ls.append(f1_current)\n",
    "\n",
    "        print('\\n\\n')\n",
    "\n",
    "    plt.plot(train_acc_ls,label='Train Accuracy')\n",
    "    plt.plot(accuracy_ls,label='Test Accuracy')\n",
    "\n",
    "    plt.plot(train_f1_ls,label='Train F1')\n",
    "    plt.plot(f1_ls,label='Test F1')\n",
    "\n",
    "    plt.title('No augmentation')\n",
    "    plt.ylabel('accuracy')\n",
    "    plt.xlabel('epoch')\n",
    "\n",
    "    plt.legend()\n",
    "    plt.show()\n"
   ]
  },
  {
   "cell_type": "code",
   "execution_count": 32,
   "id": "9ae7b6fd",
   "metadata": {
    "execution": {
     "iopub.execute_input": "2024-04-15T16:56:55.219830Z",
     "iopub.status.busy": "2024-04-15T16:56:55.219439Z",
     "iopub.status.idle": "2024-04-15T16:56:55.308464Z",
     "shell.execute_reply": "2024-04-15T16:56:55.307287Z"
    },
    "papermill": {
     "duration": 0.866823,
     "end_time": "2024-04-15T16:56:55.310461",
     "exception": false,
     "start_time": "2024-04-15T16:56:54.443638",
     "status": "completed"
    },
    "tags": []
   },
   "outputs": [
    {
     "name": "stdout",
     "output_type": "stream",
     "text": [
      "              precision    recall  f1-score   support\n",
      "\n",
      "           0     0.9777    0.9724    0.9751     36356\n",
      "           1     0.9851    0.9254    0.9543     42320\n",
      "           2     0.7741    0.9956    0.8710     10366\n",
      "           3     0.9058    0.9896    0.9459     17195\n",
      "           4     0.9853    0.8104    0.8893     14314\n",
      "           5     0.7653    0.8920    0.8238      4492\n",
      "\n",
      "    accuracy                         0.9394    125043\n",
      "   macro avg     0.8989    0.9309    0.9099    125043\n",
      "weighted avg     0.9467    0.9394    0.9402    125043\n",
      "\n"
     ]
    }
   ],
   "source": [
    "if run_no_aug: print(classification_report(y_true,y_pred,digits=4))"
   ]
  },
  {
   "cell_type": "code",
   "execution_count": 33,
   "id": "b2bd423f",
   "metadata": {
    "execution": {
     "iopub.execute_input": "2024-04-15T16:56:56.895683Z",
     "iopub.status.busy": "2024-04-15T16:56:56.894740Z",
     "iopub.status.idle": "2024-04-15T16:56:56.899101Z",
     "shell.execute_reply": "2024-04-15T16:56:56.898196Z"
    },
    "papermill": {
     "duration": 0.775596,
     "end_time": "2024-04-15T16:56:56.901051",
     "exception": false,
     "start_time": "2024-04-15T16:56:56.125455",
     "status": "completed"
    },
    "tags": []
   },
   "outputs": [],
   "source": [
    "if run_no_aug: f1_ls"
   ]
  },
  {
   "cell_type": "code",
   "execution_count": 34,
   "id": "8155ccb3",
   "metadata": {
    "execution": {
     "iopub.execute_input": "2024-04-15T16:56:58.561164Z",
     "iopub.status.busy": "2024-04-15T16:56:58.560789Z",
     "iopub.status.idle": "2024-04-15T16:56:58.565076Z",
     "shell.execute_reply": "2024-04-15T16:56:58.564169Z"
    },
    "papermill": {
     "duration": 0.849279,
     "end_time": "2024-04-15T16:56:58.566915",
     "exception": false,
     "start_time": "2024-04-15T16:56:57.717636",
     "status": "completed"
    },
    "tags": []
   },
   "outputs": [],
   "source": [
    "if run_no_aug: accuracy_ls"
   ]
  },
  {
   "cell_type": "markdown",
   "id": "a4e38b9d",
   "metadata": {
    "papermill": {
     "duration": 0.783126,
     "end_time": "2024-04-15T16:57:00.120151",
     "exception": false,
     "start_time": "2024-04-15T16:56:59.337025",
     "status": "completed"
    },
    "tags": []
   },
   "source": [
    "### 5.2- With Augmentation <a class=\"anchor\" id=\"WithAug\"/>"
   ]
  },
  {
   "cell_type": "markdown",
   "id": "46154187",
   "metadata": {
    "papermill": {
     "duration": 0.796866,
     "end_time": "2024-04-15T16:57:01.734302",
     "exception": false,
     "start_time": "2024-04-15T16:57:00.937436",
     "status": "completed"
    },
    "tags": []
   },
   "source": [
    "In order to randomly apply data augmentation on a bacth as it enters the model, I will make a custom training loop.\n",
    "\n",
    "- for each batch, I will randomly decide if we need to apply data augmentation.\n",
    "- Apply data augmentation if selected.\n",
    "- I will convert tokenize the words.\n",
    "\n",
    "Implement the training loop according to tensorflow guide:\n",
    "\n",
    "https://www.tensorflow.org/guide/keras/writing_a_training_loop_from_scratch"
   ]
  },
  {
   "cell_type": "code",
   "execution_count": 35,
   "id": "29115c24",
   "metadata": {
    "execution": {
     "iopub.execute_input": "2024-04-15T16:57:03.344300Z",
     "iopub.status.busy": "2024-04-15T16:57:03.343932Z",
     "iopub.status.idle": "2024-04-15T16:57:03.348981Z",
     "shell.execute_reply": "2024-04-15T16:57:03.348141Z"
    },
    "papermill": {
     "duration": 0.785392,
     "end_time": "2024-04-15T16:57:03.350873",
     "exception": false,
     "start_time": "2024-04-15T16:57:02.565481",
     "status": "completed"
    },
    "tags": []
   },
   "outputs": [],
   "source": [
    "def random_batch(X:pd.DataFrame, y:pd.DataFrame, batch_size=32):\n",
    "    idx = np.random.randint(len(X), size=batch_size)\n",
    "    return X[idx], y[idx]"
   ]
  },
  {
   "cell_type": "code",
   "execution_count": 36,
   "id": "68b99266",
   "metadata": {
    "execution": {
     "iopub.execute_input": "2024-04-15T16:57:04.954693Z",
     "iopub.status.busy": "2024-04-15T16:57:04.954211Z",
     "iopub.status.idle": "2024-04-15T16:57:04.961075Z",
     "shell.execute_reply": "2024-04-15T16:57:04.960141Z"
    },
    "papermill": {
     "duration": 0.792192,
     "end_time": "2024-04-15T16:57:04.962945",
     "exception": false,
     "start_time": "2024-04-15T16:57:04.170753",
     "status": "completed"
    },
    "tags": []
   },
   "outputs": [],
   "source": [
    "def print_status_bar(iteration, total, loss, metrics=None):\n",
    "    metrics = \" - \".join([\"{}: {:.4f}\".format(m.name, m.result()) for m in [loss] + (metrics or [])])\n",
    "    end = \"\" if iteration < total else \"\\n\"\n",
    "    print(\"\\r{}/{} - \".format(iteration, total) + metrics,\n",
    "    end=end)"
   ]
  },
  {
   "cell_type": "markdown",
   "id": "d0c1508b",
   "metadata": {
    "papermill": {
     "duration": 0.829403,
     "end_time": "2024-04-15T16:57:06.563444",
     "exception": false,
     "start_time": "2024-04-15T16:57:05.734041",
     "status": "completed"
    },
    "tags": []
   },
   "source": [
    "Select the augmentations to apply"
   ]
  },
  {
   "cell_type": "code",
   "execution_count": 37,
   "id": "f6344bb3",
   "metadata": {
    "execution": {
     "iopub.execute_input": "2024-04-15T16:57:08.113336Z",
     "iopub.status.busy": "2024-04-15T16:57:08.112957Z",
     "iopub.status.idle": "2024-04-15T16:57:08.118722Z",
     "shell.execute_reply": "2024-04-15T16:57:08.117870Z"
    },
    "papermill": {
     "duration": 0.782696,
     "end_time": "2024-04-15T16:57:08.120768",
     "exception": false,
     "start_time": "2024-04-15T16:57:07.338072",
     "status": "completed"
    },
    "tags": []
   },
   "outputs": [
    {
     "data": {
      "text/plain": [
       "dict_keys(['synonym', 'swap', 'delete', 'embedding_sub', 'embedding_insert', 'lan_sub', 'back-translation'])"
      ]
     },
     "execution_count": 37,
     "metadata": {},
     "output_type": "execute_result"
    }
   ],
   "source": [
    "augmentation.keys()"
   ]
  },
  {
   "cell_type": "code",
   "execution_count": 38,
   "id": "3dc10fa6",
   "metadata": {
    "execution": {
     "iopub.execute_input": "2024-04-15T16:57:09.746250Z",
     "iopub.status.busy": "2024-04-15T16:57:09.745881Z",
     "iopub.status.idle": "2024-04-15T16:57:09.796067Z",
     "shell.execute_reply": "2024-04-15T16:57:09.795306Z"
    },
    "papermill": {
     "duration": 0.850576,
     "end_time": "2024-04-15T16:57:09.798066",
     "exception": false,
     "start_time": "2024-04-15T16:57:08.947490",
     "status": "completed"
    },
    "tags": []
   },
   "outputs": [],
   "source": [
    "model=keras.models.Sequential([\n",
    "    keras.layers.Input(shape=(60,)),\n",
    "    keras.layers.Embedding(input_dim=vectorizer.vocabulary_size()+1, output_dim=128),\n",
    "    keras.layers.LSTM(128,return_sequences=True),\n",
    "    keras.layers.Flatten(),\n",
    "    keras.layers.Dense(60, activation='relu'),\n",
    "    keras.layers.Dense(6)\n",
    "])"
   ]
  },
  {
   "cell_type": "code",
   "execution_count": 39,
   "id": "8efe7ae4",
   "metadata": {
    "execution": {
     "iopub.execute_input": "2024-04-15T16:57:11.422761Z",
     "iopub.status.busy": "2024-04-15T16:57:11.422384Z",
     "iopub.status.idle": "2024-04-15T22:05:35.883219Z",
     "shell.execute_reply": "2024-04-15T22:05:35.882155Z"
    },
    "papermill": {
     "duration": 18505.2676,
     "end_time": "2024-04-15T22:05:35.885388",
     "exception": false,
     "start_time": "2024-04-15T16:57:10.617788",
     "status": "completed"
    },
    "tags": []
   },
   "outputs": [
    {
     "name": "stdout",
     "output_type": "stream",
     "text": [
      "Epoch 1/5\n",
      "291766/291766 - mean: 0.4076 - mean_absolute_error: 0.0000\n",
      "\u001b[1m3908/3908\u001b[0m \u001b[32m━━━━━━━━━━━━━━━━━━━━\u001b[0m\u001b[37m\u001b[0m \u001b[1m9s\u001b[0m 2ms/step\n",
      "\u001b[1m9118/9118\u001b[0m \u001b[32m━━━━━━━━━━━━━━━━━━━━\u001b[0m\u001b[37m\u001b[0m \u001b[1m20s\u001b[0m 2ms/step\n",
      "augmentations applied:\n",
      "{'back-translation': 113, 'lan_sub': 478, 'delete': 105}\n",
      "\n",
      "accuracy:  [0.9331749878041954]\n",
      "F1:  [0.9006043531071586]\n",
      "\n",
      "\n",
      "\n",
      "Epoch 2/5\n",
      "291766/291766 - mean: 0.2602 - mean_absolute_error: 0.0000\n",
      "\u001b[1m3908/3908\u001b[0m \u001b[32m━━━━━━━━━━━━━━━━━━━━\u001b[0m\u001b[37m\u001b[0m \u001b[1m8s\u001b[0m 2ms/step\n",
      "\u001b[1m9118/9118\u001b[0m \u001b[32m━━━━━━━━━━━━━━━━━━━━\u001b[0m\u001b[37m\u001b[0m \u001b[1m20s\u001b[0m 2ms/step\n",
      "augmentations applied:\n",
      "{'back-translation': 254, 'lan_sub': 892, 'delete': 200}\n",
      "\n",
      "accuracy:  [0.9331749878041954, 0.9340067016946171]\n",
      "F1:  [0.9006043531071586, 0.9002097433538566]\n",
      "\n",
      "\n",
      "\n",
      "Epoch 3/5\n",
      "291766/291766 - mean: 0.2589 - mean_absolute_error: 0.0000\n",
      "\u001b[1m3908/3908\u001b[0m \u001b[32m━━━━━━━━━━━━━━━━━━━━\u001b[0m\u001b[37m\u001b[0m \u001b[1m8s\u001b[0m 2ms/step\n",
      "\u001b[1m9118/9118\u001b[0m \u001b[32m━━━━━━━━━━━━━━━━━━━━\u001b[0m\u001b[37m\u001b[0m \u001b[1m20s\u001b[0m 2ms/step\n",
      "augmentations applied:\n",
      "{'back-translation': 386, 'lan_sub': 1341, 'delete': 314}\n",
      "\n",
      "accuracy:  [0.9331749878041954, 0.9340067016946171, 0.9332149740489272]\n",
      "F1:  [0.9006043531071586, 0.9002097433538566, 0.8953622996619034]\n",
      "\n",
      "\n",
      "\n",
      "Epoch 4/5\n",
      "291766/291766 - mean: 0.2461 - mean_absolute_error: 0.0000\n",
      "\u001b[1m3908/3908\u001b[0m \u001b[32m━━━━━━━━━━━━━━━━━━━━\u001b[0m\u001b[37m\u001b[0m \u001b[1m8s\u001b[0m 2ms/step\n",
      "\u001b[1m9118/9118\u001b[0m \u001b[32m━━━━━━━━━━━━━━━━━━━━\u001b[0m\u001b[37m\u001b[0m \u001b[1m19s\u001b[0m 2ms/step\n",
      "augmentations applied:\n",
      "{'back-translation': 522, 'lan_sub': 1770, 'delete': 433}\n",
      "\n",
      "accuracy:  [0.9331749878041954, 0.9340067016946171, 0.9332149740489272, 0.9342226274161688]\n",
      "F1:  [0.9006043531071586, 0.9002097433538566, 0.8953622996619034, 0.8994936135738342]\n",
      "\n",
      "\n",
      "\n",
      "Epoch 5/5\n",
      "291766/291766 - mean: 0.2543 - mean_absolute_error: 0.0000\n",
      "\u001b[1m3908/3908\u001b[0m \u001b[32m━━━━━━━━━━━━━━━━━━━━\u001b[0m\u001b[37m\u001b[0m \u001b[1m8s\u001b[0m 2ms/step\n",
      "\u001b[1m9118/9118\u001b[0m \u001b[32m━━━━━━━━━━━━━━━━━━━━\u001b[0m\u001b[37m\u001b[0m \u001b[1m20s\u001b[0m 2ms/step\n",
      "augmentations applied:\n",
      "{'back-translation': 635, 'lan_sub': 2249, 'delete': 552}\n",
      "\n",
      "accuracy:  [0.9331749878041954, 0.9340067016946171, 0.9332149740489272, 0.9342226274161688, 0.9330150428252681]\n",
      "F1:  [0.9006043531071586, 0.9002097433538566, 0.8953622996619034, 0.8994936135738342, 0.8923390691010228]\n",
      "\n",
      "\n",
      "\n"
     ]
    },
    {
     "data": {
      "image/png": "[encoded data removed]",
      "text/plain": [
       "<Figure size 640x480 with 1 Axes>"
      ]
     },
     "metadata": {},
     "output_type": "display_data"
    }
   ],
   "source": [
    "n_epochs = epochs\n",
    "# batch_size = batch_size\n",
    "n_steps = len(X_train) // batch_size\n",
    "optimizer = keras.optimizers.Adam()\n",
    "loss_fn = keras.losses.SparseCategoricalCrossentropy(from_logits=True)\n",
    "mean_loss = keras.metrics.Mean()\n",
    "accuracy_metric=keras.metrics.Accuracy()\n",
    "metrics = [keras.metrics.MeanAbsoluteError()]\n",
    "\n",
    "# aug_keys=[\"synonym\",\"lan_sub\",\"back-translation\",\"delete\",\"swap\"]\n",
    "\n",
    "#back-translation should always be the first because i want either to do back-translation or other aug\n",
    "# the items of the list are in the form (augmentation, probability of applying it)\n",
    "aug_keys=[(\"lan_sub\",0.8),(\"delete\",0.2)]\n",
    "aug_keys=[(\"back-translation\",0.2)]+aug_keys\n",
    "\n",
    "use_aug=True\n",
    "\n",
    "X_train=train_df['text'].values\n",
    "y_train=train_df['label'].values\n",
    "\n",
    "train_dataset = tf.data.Dataset.from_tensor_slices((X_train, y_train))\n",
    "train_dataset = train_dataset.shuffle(buffer_size=1024).batch(batch_size)\n",
    "\n",
    "x_test=test_df['text'].values \n",
    "y_test=test_df['label'].values\n",
    "\n",
    "epochs_ls=[]\n",
    "accuracy_train=[]\n",
    "accuracy_test=[]\n",
    "\n",
    "accuracy_ls=[]\n",
    "f1_ls=[]\n",
    "train_acc_ls=[]\n",
    "train_f1_ls=[]\n",
    "\n",
    "n_batch_aug={method:0 for method,_ in aug_keys}\n",
    "\n",
    "if run_aug_batch:\n",
    "    for epoch in range(1, n_epochs + 1):\n",
    "        print(\"Epoch {}/{}\".format(epoch, n_epochs))\n",
    "    #     for step in range(1, n_steps + 1):\n",
    "        for step, (X_batch, y_batch) in enumerate(train_dataset):\n",
    "\n",
    "            #data augmentation\n",
    "            if use_aug and np.random.rand()<aug_prob:\n",
    "    #             print(\"AUGMENTATION\")\n",
    "                X_batch=X_batch.numpy().tolist()\n",
    "                X_batch=list(map(lambda x: x.decode('utf-8'), X_batch))\n",
    "\n",
    "                #apply data augmentation\n",
    "                for key,prob in aug_keys:\n",
    "                    # I will not apply all augmentations always.\n",
    "                    if np.random.rand() < prob:\n",
    "                        X_batch=augmentation[key].augment(X_batch)\n",
    "\n",
    "                        n_batch_aug[key]=n_batch_aug[key]+1\n",
    "\n",
    "                        # if back-translation was applied, then stop applying augmentations.\n",
    "                        if key == 'back-translation':\n",
    "                            break\n",
    "\n",
    "    #         print(\"VECTORIZE\")\n",
    "            #tokenize the data\n",
    "            X_batch=vectorizer(X_batch)\n",
    "\n",
    "    #         print(\"GRADIENT\")\n",
    "            #Calculate the gradients\n",
    "            with tf.GradientTape() as tape:\n",
    "                y_pred = model(X_batch, training=True)\n",
    "    #             main_loss = tf.reduce_mean(loss_fn(y_batch, y_pred))\n",
    "                main_loss = loss_fn(y_batch, y_pred)\n",
    "                loss = tf.add_n([main_loss] + model.losses)\n",
    "\n",
    "    #         print(\"OPTIMIZE\")\n",
    "            #Optimize the model\n",
    "            gradients = tape.gradient(loss, model.trainable_variables)\n",
    "            optimizer.apply_gradients(zip(gradients, model.trainable_variables))\n",
    "            mean_loss(loss)\n",
    "\n",
    "    #         print(\"METRICS\")\n",
    "            y_pred = np.argmax(y_pred,axis=-1)\n",
    "\n",
    "            accuracy_metric(y_batch, y_pred)\n",
    "\n",
    "    #         for metric in metrics:\n",
    "    #             metric(y_batch, y_pred)\n",
    "    #         print_status_bar(step * batch_size, len(y_train), mean_loss, metrics)\n",
    "\n",
    "        print_status_bar(len(y_train), len(y_train), mean_loss, metrics)\n",
    "        mean_loss.reset_state()\n",
    "\n",
    "        epochs_ls.append(epoch)\n",
    "        accuracy_train.append(accuracy_metric.result())\n",
    "        accuracy_metric.reset_state()\n",
    "\n",
    "        y_pred = model.predict(vectorizer(x_test))\n",
    "        y_pred = np.argmax(y_pred,axis=-1)\n",
    "\n",
    "        accuracy_metric(y_test, y_pred)\n",
    "\n",
    "        accuracy_test.append(accuracy_metric.result())\n",
    "        accuracy_metric.reset_state()\n",
    "\n",
    "        #test data\n",
    "        y_train_pred=np.argmax(model.predict(vectorizer(X_train)),axis=-1)\n",
    "\n",
    "        acc_current=accuracy_score(y_test, y_pred)\n",
    "        f1_current=f1_score(y_test, y_pred, average='macro')\n",
    "\n",
    "        accuracy_ls.append(acc_current)\n",
    "        f1_ls.append(f1_current)\n",
    "\n",
    "        #train data\n",
    "        acc_current=accuracy_score(y_train, y_train_pred)\n",
    "        f1_current=f1_score(y_train, y_train_pred, average='macro')\n",
    "\n",
    "        train_acc_ls.append(acc_current)\n",
    "        train_f1_ls.append(f1_current)\n",
    "\n",
    "        print(f'augmentations applied:\\n{n_batch_aug}\\n')\n",
    "\n",
    "        print(\"accuracy: \", accuracy_ls)\n",
    "        print(\"F1: \", f1_ls)\n",
    "\n",
    "        print('\\n\\n')\n",
    "\n",
    "    plt.plot(accuracy_ls,label='Test Accuracy')\n",
    "    plt.plot(f1_ls,label='Test F1')\n",
    "\n",
    "    plt.plot(train_acc_ls,label='Train Accuracy')\n",
    "    plt.plot(train_f1_ls,label='Train F1')\n",
    "\n",
    "    plt.title('Augmented')\n",
    "    plt.ylabel('accuracy')\n",
    "    plt.xlabel('epoch')\n",
    "\n",
    "    plt.legend()\n",
    "    plt.show()"
   ]
  },
  {
   "cell_type": "code",
   "execution_count": 40,
   "id": "f000b202",
   "metadata": {
    "execution": {
     "iopub.execute_input": "2024-04-15T22:05:37.959558Z",
     "iopub.status.busy": "2024-04-15T22:05:37.959126Z",
     "iopub.status.idle": "2024-04-15T22:05:38.044769Z",
     "shell.execute_reply": "2024-04-15T22:05:38.043687Z"
    },
    "papermill": {
     "duration": 1.086729,
     "end_time": "2024-04-15T22:05:38.046686",
     "exception": false,
     "start_time": "2024-04-15T22:05:36.959957",
     "status": "completed"
    },
    "tags": []
   },
   "outputs": [
    {
     "name": "stdout",
     "output_type": "stream",
     "text": [
      "              precision    recall  f1-score   support\n",
      "\n",
      "           0     0.9674    0.9708    0.9691     36356\n",
      "           1     0.9299    0.9774    0.9531     42320\n",
      "           2     0.9396    0.7330    0.8235     10366\n",
      "           3     0.9497    0.9184    0.9338     17195\n",
      "           4     0.8568    0.9386    0.8958     14314\n",
      "           5     0.8638    0.7088    0.7787      4492\n",
      "\n",
      "    accuracy                         0.9330    125043\n",
      "   macro avg     0.9179    0.8745    0.8923    125043\n",
      "weighted avg     0.9336    0.9330    0.9315    125043\n",
      "\n"
     ]
    }
   ],
   "source": [
    "if run_aug_batch: print(classification_report(y_test,y_pred,digits=4))"
   ]
  },
  {
   "cell_type": "markdown",
   "id": "06d36db4",
   "metadata": {
    "papermill": {
     "duration": 1.080011,
     "end_time": "2024-04-15T22:05:40.119468",
     "exception": false,
     "start_time": "2024-04-15T22:05:39.039457",
     "status": "completed"
    },
    "tags": []
   },
   "source": [
    "### 5.3- Augment Minorities Only <a class=\"anchor\" id=\"augMinority\"/>"
   ]
  },
  {
   "cell_type": "code",
   "execution_count": 41,
   "id": "175b78c2",
   "metadata": {
    "execution": {
     "iopub.execute_input": "2024-04-15T22:05:42.130738Z",
     "iopub.status.busy": "2024-04-15T22:05:42.130366Z",
     "iopub.status.idle": "2024-04-15T22:05:42.185033Z",
     "shell.execute_reply": "2024-04-15T22:05:42.184215Z"
    },
    "papermill": {
     "duration": 1.076458,
     "end_time": "2024-04-15T22:05:42.187125",
     "exception": false,
     "start_time": "2024-04-15T22:05:41.110667",
     "status": "completed"
    },
    "tags": []
   },
   "outputs": [],
   "source": [
    "model=keras.models.Sequential([\n",
    "    keras.layers.Input(shape=(60,)),\n",
    "    keras.layers.Embedding(input_dim=vectorizer.vocabulary_size()+1, output_dim=128),\n",
    "    keras.layers.LSTM(128,return_sequences=True),\n",
    "    keras.layers.Flatten(),\n",
    "    keras.layers.Dense(60, activation='relu'),\n",
    "    keras.layers.Dense(6)\n",
    "])\n",
    "\n",
    "model.compile(optimizer='adam',\n",
    "  loss=keras.losses.SparseCategoricalCrossentropy(from_logits=True),\n",
    "  metrics=['accuracy'])"
   ]
  },
  {
   "cell_type": "markdown",
   "id": "37cea343",
   "metadata": {
    "papermill": {
     "duration": 0.994568,
     "end_time": "2024-04-15T22:05:44.206630",
     "exception": false,
     "start_time": "2024-04-15T22:05:43.212062",
     "status": "completed"
    },
    "tags": []
   },
   "source": [
    "I will pick class 2 and 5 as they are the minorities and augment them and add the to train dataset"
   ]
  },
  {
   "cell_type": "code",
   "execution_count": 42,
   "id": "b5ea2c40",
   "metadata": {
    "execution": {
     "iopub.execute_input": "2024-04-15T22:05:46.270700Z",
     "iopub.status.busy": "2024-04-15T22:05:46.269939Z",
     "iopub.status.idle": "2024-04-15T22:05:46.276410Z",
     "shell.execute_reply": "2024-04-15T22:05:46.275540Z"
    },
    "papermill": {
     "duration": 1.004368,
     "end_time": "2024-04-15T22:05:46.278247",
     "exception": false,
     "start_time": "2024-04-15T22:05:45.273879",
     "status": "completed"
    },
    "tags": []
   },
   "outputs": [],
   "source": [
    "def apply_aug(sentence,aug_keys:list(tuple()),augmentation:dict):\n",
    "    '''\n",
    "    sentence is a list of str\n",
    "    '''\n",
    "    #apply data augmentation\n",
    "    for key,prob in aug_keys:\n",
    "        # I will not apply all augmentations always.\n",
    "        if np.random.rand() < prob:\n",
    "            sentence=augmentation[key].augment(sentence)\n",
    "\n",
    "            # if back-translation was applied, then stop applying augmentations.\n",
    "            if key == 'back-translation':\n",
    "                break\n",
    "                \n",
    "    return sentence"
   ]
  },
  {
   "cell_type": "code",
   "execution_count": 43,
   "id": "ed5290b3",
   "metadata": {
    "execution": {
     "iopub.execute_input": "2024-04-15T22:05:48.347934Z",
     "iopub.status.busy": "2024-04-15T22:05:48.347603Z",
     "iopub.status.idle": "2024-04-15T22:05:48.353790Z",
     "shell.execute_reply": "2024-04-15T22:05:48.352868Z"
    },
    "papermill": {
     "duration": 1.091559,
     "end_time": "2024-04-15T22:05:48.355826",
     "exception": false,
     "start_time": "2024-04-15T22:05:47.264267",
     "status": "completed"
    },
    "tags": []
   },
   "outputs": [],
   "source": [
    "if run_aug_min:\n",
    "    minority_df=train_df[train_df['label'].isin([2,5])]\n",
    "#     mid_df=train_df[train_df['label'].isin([3,4])]\n",
    "\n",
    "#     minority_df = pd.DataFrame(np.repeat(minority_df.values, 2, axis=0), columns=minority_df.columns)\n",
    "#     mid_df = pd.DataFrame(np.repeat(mid_df.values, 2, axis=0), columns=mid_df.columns)\n",
    "\n",
    "#     augmented_df=pd.concat([minority_df,mid_df])\n",
    "\n",
    "    n_groups=len(minority_df)//64#batch size of 64\n",
    "    \n",
    "    minority_df['group']=np.random.randint(0,n_groups,size=len(minority_df))\n",
    "    \n",
    "    augmented_df=minority_df.copy()\n",
    "    \n",
    "    print(f'there are {len(augmented_df)} augmented samples')\n",
    "    \n",
    "    augmented_df.head()"
   ]
  },
  {
   "cell_type": "markdown",
   "id": "3f7ccc81",
   "metadata": {
    "papermill": {
     "duration": 1.038022,
     "end_time": "2024-04-15T22:05:50.414843",
     "exception": false,
     "start_time": "2024-04-15T22:05:49.376821",
     "status": "completed"
    },
    "tags": []
   },
   "source": [
    "we cannot train using all the data. I will randomly pick enough datapoint to balance the original dataset."
   ]
  },
  {
   "cell_type": "code",
   "execution_count": 44,
   "id": "f7f7273c",
   "metadata": {
    "execution": {
     "iopub.execute_input": "2024-04-15T22:05:52.494791Z",
     "iopub.status.busy": "2024-04-15T22:05:52.493987Z",
     "iopub.status.idle": "2024-04-15T22:05:52.498401Z",
     "shell.execute_reply": "2024-04-15T22:05:52.497481Z"
    },
    "papermill": {
     "duration": 1.082952,
     "end_time": "2024-04-15T22:05:52.500358",
     "exception": false,
     "start_time": "2024-04-15T22:05:51.417406",
     "status": "completed"
    },
    "tags": []
   },
   "outputs": [],
   "source": [
    "# if run_aug_min:\n",
    "#     X=augmented_df.index.values.tolist()\n",
    "#     y=augmented_df['label'].values.tolist()\n",
    "#     train_size=80000\n",
    "#     X_aug, _, y_aug, _=train_test_split(X, y, train_size=train_size, random_state=random_state, stratify=y)"
   ]
  },
  {
   "cell_type": "code",
   "execution_count": 45,
   "id": "834bca02",
   "metadata": {
    "execution": {
     "iopub.execute_input": "2024-04-15T22:05:54.477462Z",
     "iopub.status.busy": "2024-04-15T22:05:54.477032Z",
     "iopub.status.idle": "2024-04-15T22:05:54.481378Z",
     "shell.execute_reply": "2024-04-15T22:05:54.480445Z"
    },
    "papermill": {
     "duration": 0.989279,
     "end_time": "2024-04-15T22:05:54.483305",
     "exception": false,
     "start_time": "2024-04-15T22:05:53.494026",
     "status": "completed"
    },
    "tags": []
   },
   "outputs": [],
   "source": [
    "# if run_aug_min: aug_df=augmented_df.loc[X_aug]"
   ]
  },
  {
   "cell_type": "code",
   "execution_count": 46,
   "id": "a85323f2",
   "metadata": {
    "execution": {
     "iopub.execute_input": "2024-04-15T22:05:56.526671Z",
     "iopub.status.busy": "2024-04-15T22:05:56.525984Z",
     "iopub.status.idle": "2024-04-15T22:05:56.532992Z",
     "shell.execute_reply": "2024-04-15T22:05:56.532102Z"
    },
    "papermill": {
     "duration": 0.993237,
     "end_time": "2024-04-15T22:05:56.534853",
     "exception": false,
     "start_time": "2024-04-15T22:05:55.541616",
     "status": "completed"
    },
    "tags": []
   },
   "outputs": [],
   "source": [
    "if run_aug_min:\n",
    "    # aug_keys=[\"synonym\", \"lan_sub\", \"embedding_insert\", \"back-translation\", \"delete\", \"swap\"]\n",
    "\n",
    "    #back-translation should always be the first because i want either to do back-translation or other aug\n",
    "    # the items of the list are in the form (augmentation, probability of applying it)\n",
    "    aug_keys=[(\"lan_sub\",0.4),(\"delete\",0.2),(\"swap\",0.2)]\n",
    "    aug_keys=[(\"back-translation\",0.2)]+aug_keys\n",
    "\n",
    "    print(\"started augmentation\")\n",
    "#     augmented_df['text']=augmented_df['text'].apply(lambda sentence: apply_aug(sentence,aug_keys,augmentation))\n",
    "\n",
    "    aug_df=pd.DataFrame(columns=augmented_df.columns)\n",
    "    \n",
    "    for group_index, group_df in augmented_df.groupby(['group']):\n",
    "        group_df['text']=apply_aug(group_df['text'].tolist(),aug_keys,augmentation)\n",
    "        \n",
    "        aug_df=pd.concat([aug_df,group_df])\n",
    "    \n",
    "    augmented_df=aug_df\n",
    "    print(\"finished augmenting\")\n",
    "    \n",
    "    augmented_df"
   ]
  },
  {
   "cell_type": "code",
   "execution_count": 47,
   "id": "4e00e3c0",
   "metadata": {
    "execution": {
     "iopub.execute_input": "2024-04-15T22:05:58.518242Z",
     "iopub.status.busy": "2024-04-15T22:05:58.517798Z",
     "iopub.status.idle": "2024-04-15T22:05:58.522723Z",
     "shell.execute_reply": "2024-04-15T22:05:58.521784Z"
    },
    "papermill": {
     "duration": 1.006805,
     "end_time": "2024-04-15T22:05:58.524628",
     "exception": false,
     "start_time": "2024-04-15T22:05:57.517823",
     "status": "completed"
    },
    "tags": []
   },
   "outputs": [],
   "source": [
    "if run_aug_min: train_df=pd.concat([train_df,augmented_df]).reset_index(drop=True)"
   ]
  },
  {
   "cell_type": "code",
   "execution_count": 48,
   "id": "d742dc06",
   "metadata": {
    "execution": {
     "iopub.execute_input": "2024-04-15T22:06:00.567126Z",
     "iopub.status.busy": "2024-04-15T22:06:00.566763Z",
     "iopub.status.idle": "2024-04-15T22:06:00.571229Z",
     "shell.execute_reply": "2024-04-15T22:06:00.570294Z"
    },
    "papermill": {
     "duration": 0.995177,
     "end_time": "2024-04-15T22:06:00.573141",
     "exception": false,
     "start_time": "2024-04-15T22:05:59.577964",
     "status": "completed"
    },
    "tags": []
   },
   "outputs": [],
   "source": [
    "if run_aug_min: train_df"
   ]
  },
  {
   "cell_type": "code",
   "execution_count": 49,
   "id": "8b97cfda",
   "metadata": {
    "execution": {
     "iopub.execute_input": "2024-04-15T22:06:02.696224Z",
     "iopub.status.busy": "2024-04-15T22:06:02.695445Z",
     "iopub.status.idle": "2024-04-15T22:06:05.038864Z",
     "shell.execute_reply": "2024-04-15T22:06:05.037965Z"
    },
    "papermill": {
     "duration": 3.412577,
     "end_time": "2024-04-15T22:06:05.041158",
     "exception": false,
     "start_time": "2024-04-15T22:06:01.628581",
     "status": "completed"
    },
    "tags": []
   },
   "outputs": [],
   "source": [
    "x_train=vectorizer(train_df['text'].values) \n",
    "y_train=train_df['label'].values\n",
    "x_test=vectorizer(test_df['text'].values)\n",
    "y_test=test_df['label'].values\n",
    "y_true=y_test\n",
    "\n",
    "accuracy_ls=[]\n",
    "f1_ls=[]\n",
    "train_acc_ls=[]\n",
    "train_f1_ls=[]\n",
    "\n",
    "if run_aug_min:\n",
    "    for i in range(epochs):\n",
    "        print(f'epoch {i+1}:\\n')\n",
    "        model_hist = model.fit(x_train,y_train,epochs=1,validation_data=(x_test, y_test),verbose=1)\n",
    "\n",
    "        #test data\n",
    "        y_pred=np.argmax(model.predict(x_test),axis=-1)\n",
    "        y_train_pred=np.argmax(model.predict(x_train),axis=-1)\n",
    "\n",
    "        acc_current=accuracy_score(y_true, y_pred)\n",
    "        f1_current=f1_score(y_true, y_pred, average='macro')\n",
    "\n",
    "        accuracy_ls.append(acc_current)\n",
    "        f1_ls.append(f1_current)\n",
    "\n",
    "        #train data\n",
    "        acc_current=accuracy_score(y_train, y_train_pred)\n",
    "        f1_current=f1_score(y_train, y_train_pred, average='macro')\n",
    "\n",
    "        train_acc_ls.append(acc_current)\n",
    "        train_f1_ls.append(f1_current)\n",
    "\n",
    "        print('\\n\\n')\n",
    "\n",
    "    plt.plot(train_acc_ls,label='Train Accuracy')\n",
    "    plt.plot(accuracy_ls,label='Test Accuracy')\n",
    "\n",
    "    plt.plot(train_f1_ls,label='Train F1')\n",
    "    plt.plot(f1_ls,label='Test F1')\n",
    "\n",
    "    plt.title('No augmentation')\n",
    "    plt.ylabel('accuracy')\n",
    "    plt.xlabel('epoch')\n",
    "\n",
    "    plt.legend()\n",
    "    plt.show()"
   ]
  },
  {
   "cell_type": "code",
   "execution_count": 50,
   "id": "be9dffcb",
   "metadata": {
    "execution": {
     "iopub.execute_input": "2024-04-15T22:06:07.018029Z",
     "iopub.status.busy": "2024-04-15T22:06:07.017170Z",
     "iopub.status.idle": "2024-04-15T22:06:07.021938Z",
     "shell.execute_reply": "2024-04-15T22:06:07.021026Z"
    },
    "papermill": {
     "duration": 0.996512,
     "end_time": "2024-04-15T22:06:07.023751",
     "exception": false,
     "start_time": "2024-04-15T22:06:06.027239",
     "status": "completed"
    },
    "tags": []
   },
   "outputs": [],
   "source": [
    "if run_aug_min: print(classification_report(y_true,y_pred,digits=4))"
   ]
  },
  {
   "cell_type": "code",
   "execution_count": 51,
   "id": "97bb6d1d",
   "metadata": {
    "execution": {
     "iopub.execute_input": "2024-04-15T22:06:09.071818Z",
     "iopub.status.busy": "2024-04-15T22:06:09.071443Z",
     "iopub.status.idle": "2024-04-15T22:06:09.075687Z",
     "shell.execute_reply": "2024-04-15T22:06:09.074878Z"
    },
    "papermill": {
     "duration": 0.993651,
     "end_time": "2024-04-15T22:06:09.077531",
     "exception": false,
     "start_time": "2024-04-15T22:06:08.083880",
     "status": "completed"
    },
    "tags": []
   },
   "outputs": [],
   "source": [
    "if run_aug_min: f1_ls"
   ]
  },
  {
   "cell_type": "code",
   "execution_count": 52,
   "id": "4687b620",
   "metadata": {
    "execution": {
     "iopub.execute_input": "2024-04-15T22:06:11.117898Z",
     "iopub.status.busy": "2024-04-15T22:06:11.116746Z",
     "iopub.status.idle": "2024-04-15T22:06:11.121202Z",
     "shell.execute_reply": "2024-04-15T22:06:11.120481Z"
    },
    "papermill": {
     "duration": 1.064804,
     "end_time": "2024-04-15T22:06:11.123218",
     "exception": false,
     "start_time": "2024-04-15T22:06:10.058414",
     "status": "completed"
    },
    "tags": []
   },
   "outputs": [],
   "source": [
    "if run_aug_min: accuracy_ls"
   ]
  },
  {
   "cell_type": "markdown",
   "id": "55ad2021",
   "metadata": {
    "papermill": {
     "duration": 0.987493,
     "end_time": "2024-04-15T22:06:13.115307",
     "exception": false,
     "start_time": "2024-04-15T22:06:12.127814",
     "status": "completed"
    },
    "tags": []
   },
   "source": [
    "# 6- Conclusion <a class=\"anchor\" id=\"conclusion\"/>"
   ]
  },
  {
   "cell_type": "markdown",
   "id": "1e4e55a7",
   "metadata": {
    "papermill": {
     "duration": 0.985788,
     "end_time": "2024-04-15T22:06:15.091412",
     "exception": false,
     "start_time": "2024-04-15T22:06:14.105624",
     "status": "completed"
    },
    "tags": []
   },
   "source": [
    "This notebook shows that it is not easy to use data augmentation for NLP. The reasons:\n",
    "- The increase in training time is huge. The augmentation techniques use language models for augmentation which increase training time. Moreover, we vectorize the data at every batch instead of just once.\n",
    "\n",
    "- No performance boost. As we can see the performance was lower than without data augmentation. The reason is that it requires further investigations on what augmentations to apply and to which words. For example, see the results to check which words are mistakenly attributed to a class. Maybe the word sad only appears in sentences which are sad. Then, whenever the model sees the word sad, it classifies to that class. Therefore, adding data augmentation to those word specifically, may enhance performance.\n",
    "\n",
    "- Not easy to implement. Unlike, computer vision, we need to augment text before we can vectorize, and we need to vectorize before we can pass the data through the model. Thus, we needed to implement a custom training loop. Alternatively, we can augment the minority classes only and the trainning becomes similar to \"No Augmnetation\" section."
   ]
  }
 ],
 "metadata": {
  "kaggle": {
   "accelerator": "none",
   "dataSources": [
    {
     "datasetId": 4403839,
     "sourceId": 7563141,
     "sourceType": "datasetVersion"
    }
   ],
   "dockerImageVersionId": 30673,
   "isGpuEnabled": false,
   "isInternetEnabled": true,
   "language": "python",
   "sourceType": "notebook"
  },
  "kernelspec": {
   "display_name": "Python 3",
   "language": "python",
   "name": "python3"
  },
  "language_info": {
   "codemirror_mode": {
    "name": "ipython",
    "version": 3
   },
   "file_extension": ".py",
   "mimetype": "text/x-python",
   "name": "python",
   "nbconvert_exporter": "python",
   "pygments_lexer": "ipython3",
   "version": "3.10.13"
  },
  "papermill": {
   "default_parameters": {},
   "duration": 19646.92592,
   "end_time": "2024-04-15T22:06:19.636113",
   "environment_variables": {},
   "exception": null,
   "input_path": "__notebook__.ipynb",
   "output_path": "__notebook__.ipynb",
   "parameters": {},
   "start_time": "2024-04-15T16:38:52.710193",
   "version": "2.5.0"
  },
  "widgets": {
   "application/vnd.jupyter.widget-state+json": {
    "state": {
     "00c825d9417d426487a058dad78ea75f": {
      "model_module": "@jupyter-widgets/controls",
      "model_module_version": "1.5.0",
      "model_name": "DescriptionStyleModel",
      "state": {
       "_model_module": "@jupyter-widgets/controls",
       "_model_module_version": "1.5.0",
       "_model_name": "DescriptionStyleModel",
       "_view_count": null,
       "_view_module": "@jupyter-widgets/base",
       "_view_module_version": "1.2.0",
       "_view_name": "StyleView",
       "description_width": ""
      }
     },
     "00e312df59ad49cb999578eecfd43399": {
      "model_module": "@jupyter-widgets/base",
      "model_module_version": "1.2.0",
      "model_name": "LayoutModel",
      "state": {
       "_model_module": "@jupyter-widgets/base",
       "_model_module_version": "1.2.0",
       "_model_name": "LayoutModel",
       "_view_count": null,
       "_view_module": "@jupyter-widgets/base",
       "_view_module_version": "1.2.0",
       "_view_name": "LayoutView",
       "align_content": null,
       "align_items": null,
       "align_self": null,
       "border": null,
       "bottom": null,
       "display": null,
       "flex": null,
       "flex_flow": null,
       "grid_area": null,
       "grid_auto_columns": null,
       "grid_auto_flow": null,
       "grid_auto_rows": null,
       "grid_column": null,
       "grid_gap": null,
       "grid_row": null,
       "grid_template_areas": null,
       "grid_template_columns": null,
       "grid_template_rows": null,
       "height": null,
       "justify_content": null,
       "justify_items": null,
       "left": null,
       "margin": null,
       "max_height": null,
       "max_width": null,
       "min_height": null,
       "min_width": null,
       "object_fit": null,
       "object_position": null,
       "order": null,
       "overflow": null,
       "overflow_x": null,
       "overflow_y": null,
       "padding": null,
       "right": null,
       "top": null,
       "visibility": null,
       "width": null
      }
     },
     "054261049f964ac1befce25ef63fe20a": {
      "model_module": "@jupyter-widgets/controls",
      "model_module_version": "1.5.0",
      "model_name": "ProgressStyleModel",
      "state": {
       "_model_module": "@jupyter-widgets/controls",
       "_model_module_version": "1.5.0",
       "_model_name": "ProgressStyleModel",
       "_view_count": null,
       "_view_module": "@jupyter-widgets/base",
       "_view_module_version": "1.2.0",
       "_view_name": "StyleView",
       "bar_color": null,
       "description_width": ""
      }
     },
     "055177b214894a889ec368e985263229": {
      "model_module": "@jupyter-widgets/controls",
      "model_module_version": "1.5.0",
      "model_name": "HBoxModel",
      "state": {
       "_dom_classes": [],
       "_model_module": "@jupyter-widgets/controls",
       "_model_module_version": "1.5.0",
       "_model_name": "HBoxModel",
       "_view_count": null,
       "_view_module": "@jupyter-widgets/controls",
       "_view_module_version": "1.5.0",
       "_view_name": "HBoxView",
       "box_style": "",
       "children": [
        "IPY_MODEL_d0f81e43368f435c81746c2d96dec1ab",
        "IPY_MODEL_22350a7c4c324087a437c0cb54d5a79e",
        "IPY_MODEL_95684e27ebc84a519ae932df45ba434f"
       ],
       "layout": "IPY_MODEL_60870471203048abbc2a69b5321bd2e0"
      }
     },
     "08176fa473b643f0b25d47b22a659f0f": {
      "model_module": "@jupyter-widgets/base",
      "model_module_version": "1.2.0",
      "model_name": "LayoutModel",
      "state": {
       "_model_module": "@jupyter-widgets/base",
       "_model_module_version": "1.2.0",
       "_model_name": "LayoutModel",
       "_view_count": null,
       "_view_module": "@jupyter-widgets/base",
       "_view_module_version": "1.2.0",
       "_view_name": "LayoutView",
       "align_content": null,
       "align_items": null,
       "align_self": null,
       "border": null,
       "bottom": null,
       "display": null,
       "flex": null,
       "flex_flow": null,
       "grid_area": null,
       "grid_auto_columns": null,
       "grid_auto_flow": null,
       "grid_auto_rows": null,
       "grid_column": null,
       "grid_gap": null,
       "grid_row": null,
       "grid_template_areas": null,
       "grid_template_columns": null,
       "grid_template_rows": null,
       "height": null,
       "justify_content": null,
       "justify_items": null,
       "left": null,
       "margin": null,
       "max_height": null,
       "max_width": null,
       "min_height": null,
       "min_width": null,
       "object_fit": null,
       "object_position": null,
       "order": null,
       "overflow": null,
       "overflow_x": null,
       "overflow_y": null,
       "padding": null,
       "right": null,
       "top": null,
       "visibility": null,
       "width": null
      }
     },
     "085fb76951cb42198097d317355732e2": {
      "model_module": "@jupyter-widgets/controls",
      "model_module_version": "1.5.0",
      "model_name": "HTMLModel",
      "state": {
       "_dom_classes": [],
       "_model_module": "@jupyter-widgets/controls",
       "_model_module_version": "1.5.0",
       "_model_name": "HTMLModel",
       "_view_count": null,
       "_view_module": "@jupyter-widgets/controls",
       "_view_module_version": "1.5.0",
       "_view_name": "HTMLView",
       "description": "",
       "description_tooltip": null,
       "layout": "IPY_MODEL_9de923a3504f439dafde2189cb86ed22",
       "placeholder": "​",
       "style": "IPY_MODEL_7b154d8e1f094e84a836a0bfc7a8ab0d",
       "value": "generation_config.json: 100%"
      }
     },
     "08d5022bc839497497f25431d1a28705": {
      "model_module": "@jupyter-widgets/controls",
      "model_module_version": "1.5.0",
      "model_name": "ProgressStyleModel",
      "state": {
       "_model_module": "@jupyter-widgets/controls",
       "_model_module_version": "1.5.0",
       "_model_name": "ProgressStyleModel",
       "_view_count": null,
       "_view_module": "@jupyter-widgets/base",
       "_view_module_version": "1.2.0",
       "_view_name": "StyleView",
       "bar_color": null,
       "description_width": ""
      }
     },
     "08d747448cd94edfb0df4d5c930001d1": {
      "model_module": "@jupyter-widgets/controls",
      "model_module_version": "1.5.0",
      "model_name": "ProgressStyleModel",
      "state": {
       "_model_module": "@jupyter-widgets/controls",
       "_model_module_version": "1.5.0",
       "_model_name": "ProgressStyleModel",
       "_view_count": null,
       "_view_module": "@jupyter-widgets/base",
       "_view_module_version": "1.2.0",
       "_view_name": "StyleView",
       "bar_color": null,
       "description_width": ""
      }
     },
     "0943b20c6f2b4659a4667d65fbef2d8b": {
      "model_module": "@jupyter-widgets/base",
      "model_module_version": "1.2.0",
      "model_name": "LayoutModel",
      "state": {
       "_model_module": "@jupyter-widgets/base",
       "_model_module_version": "1.2.0",
       "_model_name": "LayoutModel",
       "_view_count": null,
       "_view_module": "@jupyter-widgets/base",
       "_view_module_version": "1.2.0",
       "_view_name": "LayoutView",
       "align_content": null,
       "align_items": null,
       "align_self": null,
       "border": null,
       "bottom": null,
       "display": null,
       "flex": null,
       "flex_flow": null,
       "grid_area": null,
       "grid_auto_columns": null,
       "grid_auto_flow": null,
       "grid_auto_rows": null,
       "grid_column": null,
       "grid_gap": null,
       "grid_row": null,
       "grid_template_areas": null,
       "grid_template_columns": null,
       "grid_template_rows": null,
       "height": null,
       "justify_content": null,
       "justify_items": null,
       "left": null,
       "margin": null,
       "max_height": null,
       "max_width": null,
       "min_height": null,
       "min_width": null,
       "object_fit": null,
       "object_position": null,
       "order": null,
       "overflow": null,
       "overflow_x": null,
       "overflow_y": null,
       "padding": null,
       "right": null,
       "top": null,
       "visibility": null,
       "width": null
      }
     },
     "0ac820f4644545c78e03ef852764b730": {
      "model_module": "@jupyter-widgets/base",
      "model_module_version": "1.2.0",
      "model_name": "LayoutModel",
      "state": {
       "_model_module": "@jupyter-widgets/base",
       "_model_module_version": "1.2.0",
       "_model_name": "LayoutModel",
       "_view_count": null,
       "_view_module": "@jupyter-widgets/base",
       "_view_module_version": "1.2.0",
       "_view_name": "LayoutView",
       "align_content": null,
       "align_items": null,
       "align_self": null,
       "border": null,
       "bottom": null,
       "display": null,
       "flex": null,
       "flex_flow": null,
       "grid_area": null,
       "grid_auto_columns": null,
       "grid_auto_flow": null,
       "grid_auto_rows": null,
       "grid_column": null,
       "grid_gap": null,
       "grid_row": null,
       "grid_template_areas": null,
       "grid_template_columns": null,
       "grid_template_rows": null,
       "height": null,
       "justify_content": null,
       "justify_items": null,
       "left": null,
       "margin": null,
       "max_height": null,
       "max_width": null,
       "min_height": null,
       "min_width": null,
       "object_fit": null,
       "object_position": null,
       "order": null,
       "overflow": null,
       "overflow_x": null,
       "overflow_y": null,
       "padding": null,
       "right": null,
       "top": null,
       "visibility": null,
       "width": null
      }
     },
     "0d3becdd35b34e749c904d9a853f302b": {
      "model_module": "@jupyter-widgets/controls",
      "model_module_version": "1.5.0",
      "model_name": "HBoxModel",
      "state": {
       "_dom_classes": [],
       "_model_module": "@jupyter-widgets/controls",
       "_model_module_version": "1.5.0",
       "_model_name": "HBoxModel",
       "_view_count": null,
       "_view_module": "@jupyter-widgets/controls",
       "_view_module_version": "1.5.0",
       "_view_name": "HBoxView",
       "box_style": "",
       "children": [
        "IPY_MODEL_085fb76951cb42198097d317355732e2",
        "IPY_MODEL_1509cc9c89eb476a94a210efdda4d6c1",
        "IPY_MODEL_ec7307c8634247d49b975432e504dbf0"
       ],
       "layout": "IPY_MODEL_4facd0b661f64820a255d2963df2bdfd"
      }
     },
     "0dfe088519d04173a7d777b14d464dca": {
      "model_module": "@jupyter-widgets/controls",
      "model_module_version": "1.5.0",
      "model_name": "HTMLModel",
      "state": {
       "_dom_classes": [],
       "_model_module": "@jupyter-widgets/controls",
       "_model_module_version": "1.5.0",
       "_model_name": "HTMLModel",
       "_view_count": null,
       "_view_module": "@jupyter-widgets/controls",
       "_view_module_version": "1.5.0",
       "_view_name": "HTMLView",
       "description": "",
       "description_tooltip": null,
       "layout": "IPY_MODEL_14175c0bcb2d440fa138b8c12ca5b2b9",
       "placeholder": "​",
       "style": "IPY_MODEL_f75346f54a5341df8b0d5569239b19a4",
       "value": "vocab.json: 100%"
      }
     },
     "0e9b16bead0d4fb192ece8ca156bb665": {
      "model_module": "@jupyter-widgets/controls",
      "model_module_version": "1.5.0",
      "model_name": "ProgressStyleModel",
      "state": {
       "_model_module": "@jupyter-widgets/controls",
       "_model_module_version": "1.5.0",
       "_model_name": "ProgressStyleModel",
       "_view_count": null,
       "_view_module": "@jupyter-widgets/base",
       "_view_module_version": "1.2.0",
       "_view_name": "StyleView",
       "bar_color": null,
       "description_width": ""
      }
     },
     "0f3ce00b967e4b64ae8644c177ca00dc": {
      "model_module": "@jupyter-widgets/base",
      "model_module_version": "1.2.0",
      "model_name": "LayoutModel",
      "state": {
       "_model_module": "@jupyter-widgets/base",
       "_model_module_version": "1.2.0",
       "_model_name": "LayoutModel",
       "_view_count": null,
       "_view_module": "@jupyter-widgets/base",
       "_view_module_version": "1.2.0",
       "_view_name": "LayoutView",
       "align_content": null,
       "align_items": null,
       "align_self": null,
       "border": null,
       "bottom": null,
       "display": null,
       "flex": null,
       "flex_flow": null,
       "grid_area": null,
       "grid_auto_columns": null,
       "grid_auto_flow": null,
       "grid_auto_rows": null,
       "grid_column": null,
       "grid_gap": null,
       "grid_row": null,
       "grid_template_areas": null,
       "grid_template_columns": null,
       "grid_template_rows": null,
       "height": null,
       "justify_content": null,
       "justify_items": null,
       "left": null,
       "margin": null,
       "max_height": null,
       "max_width": null,
       "min_height": null,
       "min_width": null,
       "object_fit": null,
       "object_position": null,
       "order": null,
       "overflow": null,
       "overflow_x": null,
       "overflow_y": null,
       "padding": null,
       "right": null,
       "top": null,
       "visibility": null,
       "width": null
      }
     },
     "0fc12b7e418e4b1caf1a2f3374a5ad76": {
      "model_module": "@jupyter-widgets/base",
      "model_module_version": "1.2.0",
      "model_name": "LayoutModel",
      "state": {
       "_model_module": "@jupyter-widgets/base",
       "_model_module_version": "1.2.0",
       "_model_name": "LayoutModel",
       "_view_count": null,
       "_view_module": "@jupyter-widgets/base",
       "_view_module_version": "1.2.0",
       "_view_name": "LayoutView",
       "align_content": null,
       "align_items": null,
       "align_self": null,
       "border": null,
       "bottom": null,
       "display": null,
       "flex": null,
       "flex_flow": null,
       "grid_area": null,
       "grid_auto_columns": null,
       "grid_auto_flow": null,
       "grid_auto_rows": null,
       "grid_column": null,
       "grid_gap": null,
       "grid_row": null,
       "grid_template_areas": null,
       "grid_template_columns": null,
       "grid_template_rows": null,
       "height": null,
       "justify_content": null,
       "justify_items": null,
       "left": null,
       "margin": null,
       "max_height": null,
       "max_width": null,
       "min_height": null,
       "min_width": null,
       "object_fit": null,
       "object_position": null,
       "order": null,
       "overflow": null,
       "overflow_x": null,
       "overflow_y": null,
       "padding": null,
       "right": null,
       "top": null,
       "visibility": null,
       "width": null
      }
     },
     "10457ed45b2f46dfac50d3526d4c746a": {
      "model_module": "@jupyter-widgets/controls",
      "model_module_version": "1.5.0",
      "model_name": "ProgressStyleModel",
      "state": {
       "_model_module": "@jupyter-widgets/controls",
       "_model_module_version": "1.5.0",
       "_model_name": "ProgressStyleModel",
       "_view_count": null,
       "_view_module": "@jupyter-widgets/base",
       "_view_module_version": "1.2.0",
       "_view_name": "StyleView",
       "bar_color": null,
       "description_width": ""
      }
     },
     "1106fcf7d5a4456d95936b57080952a2": {
      "model_module": "@jupyter-widgets/controls",
      "model_module_version": "1.5.0",
      "model_name": "DescriptionStyleModel",
      "state": {
       "_model_module": "@jupyter-widgets/controls",
       "_model_module_version": "1.5.0",
       "_model_name": "DescriptionStyleModel",
       "_view_count": null,
       "_view_module": "@jupyter-widgets/base",
       "_view_module_version": "1.2.0",
       "_view_name": "StyleView",
       "description_width": ""
      }
     },
     "123eee2e1ff749a4b9e4c3d842da3259": {
      "model_module": "@jupyter-widgets/base",
      "model_module_version": "1.2.0",
      "model_name": "LayoutModel",
      "state": {
       "_model_module": "@jupyter-widgets/base",
       "_model_module_version": "1.2.0",
       "_model_name": "LayoutModel",
       "_view_count": null,
       "_view_module": "@jupyter-widgets/base",
       "_view_module_version": "1.2.0",
       "_view_name": "LayoutView",
       "align_content": null,
       "align_items": null,
       "align_self": null,
       "border": null,
       "bottom": null,
       "display": null,
       "flex": null,
       "flex_flow": null,
       "grid_area": null,
       "grid_auto_columns": null,
       "grid_auto_flow": null,
       "grid_auto_rows": null,
       "grid_column": null,
       "grid_gap": null,
       "grid_row": null,
       "grid_template_areas": null,
       "grid_template_columns": null,
       "grid_template_rows": null,
       "height": null,
       "justify_content": null,
       "justify_items": null,
       "left": null,
       "margin": null,
       "max_height": null,
       "max_width": null,
       "min_height": null,
       "min_width": null,
       "object_fit": null,
       "object_position": null,
       "order": null,
       "overflow": null,
       "overflow_x": null,
       "overflow_y": null,
       "padding": null,
       "right": null,
       "top": null,
       "visibility": null,
       "width": null
      }
     },
     "13e309883c204ed2b365c79ec2e256e7": {
      "model_module": "@jupyter-widgets/base",
      "model_module_version": "1.2.0",
      "model_name": "LayoutModel",
      "state": {
       "_model_module": "@jupyter-widgets/base",
       "_model_module_version": "1.2.0",
       "_model_name": "LayoutModel",
       "_view_count": null,
       "_view_module": "@jupyter-widgets/base",
       "_view_module_version": "1.2.0",
       "_view_name": "LayoutView",
       "align_content": null,
       "align_items": null,
       "align_self": null,
       "border": null,
       "bottom": null,
       "display": null,
       "flex": null,
       "flex_flow": null,
       "grid_area": null,
       "grid_auto_columns": null,
       "grid_auto_flow": null,
       "grid_auto_rows": null,
       "grid_column": null,
       "grid_gap": null,
       "grid_row": null,
       "grid_template_areas": null,
       "grid_template_columns": null,
       "grid_template_rows": null,
       "height": null,
       "justify_content": null,
       "justify_items": null,
       "left": null,
       "margin": null,
       "max_height": null,
       "max_width": null,
       "min_height": null,
       "min_width": null,
       "object_fit": null,
       "object_position": null,
       "order": null,
       "overflow": null,
       "overflow_x": null,
       "overflow_y": null,
       "padding": null,
       "right": null,
       "top": null,
       "visibility": null,
       "width": null
      }
     },
     "14175c0bcb2d440fa138b8c12ca5b2b9": {
      "model_module": "@jupyter-widgets/base",
      "model_module_version": "1.2.0",
      "model_name": "LayoutModel",
      "state": {
       "_model_module": "@jupyter-widgets/base",
       "_model_module_version": "1.2.0",
       "_model_name": "LayoutModel",
       "_view_count": null,
       "_view_module": "@jupyter-widgets/base",
       "_view_module_version": "1.2.0",
       "_view_name": "LayoutView",
       "align_content": null,
       "align_items": null,
       "align_self": null,
       "border": null,
       "bottom": null,
       "display": null,
       "flex": null,
       "flex_flow": null,
       "grid_area": null,
       "grid_auto_columns": null,
       "grid_auto_flow": null,
       "grid_auto_rows": null,
       "grid_column": null,
       "grid_gap": null,
       "grid_row": null,
       "grid_template_areas": null,
       "grid_template_columns": null,
       "grid_template_rows": null,
       "height": null,
       "justify_content": null,
       "justify_items": null,
       "left": null,
       "margin": null,
       "max_height": null,
       "max_width": null,
       "min_height": null,
       "min_width": null,
       "object_fit": null,
       "object_position": null,
       "order": null,
       "overflow": null,
       "overflow_x": null,
       "overflow_y": null,
       "padding": null,
       "right": null,
       "top": null,
       "visibility": null,
       "width": null
      }
     },
     "1509cc9c89eb476a94a210efdda4d6c1": {
      "model_module": "@jupyter-widgets/controls",
      "model_module_version": "1.5.0",
      "model_name": "FloatProgressModel",
      "state": {
       "_dom_classes": [],
       "_model_module": "@jupyter-widgets/controls",
       "_model_module_version": "1.5.0",
       "_model_name": "FloatProgressModel",
       "_view_count": null,
       "_view_module": "@jupyter-widgets/controls",
       "_view_module_version": "1.5.0",
       "_view_name": "ProgressView",
       "bar_style": "success",
       "description": "",
       "description_tooltip": null,
       "layout": "IPY_MODEL_a637c3a39ae04b43a9b73c2babb18e7d",
       "max": 260.0,
       "min": 0.0,
       "orientation": "horizontal",
       "style": "IPY_MODEL_eebbd44206b149fe959af668540ba877",
       "value": 260.0
      }
     },
     "16d2cfc32a2e497a992e9aca19326c69": {
      "model_module": "@jupyter-widgets/base",
      "model_module_version": "1.2.0",
      "model_name": "LayoutModel",
      "state": {
       "_model_module": "@jupyter-widgets/base",
       "_model_module_version": "1.2.0",
       "_model_name": "LayoutModel",
       "_view_count": null,
       "_view_module": "@jupyter-widgets/base",
       "_view_module_version": "1.2.0",
       "_view_name": "LayoutView",
       "align_content": null,
       "align_items": null,
       "align_self": null,
       "border": null,
       "bottom": null,
       "display": null,
       "flex": null,
       "flex_flow": null,
       "grid_area": null,
       "grid_auto_columns": null,
       "grid_auto_flow": null,
       "grid_auto_rows": null,
       "grid_column": null,
       "grid_gap": null,
       "grid_row": null,
       "grid_template_areas": null,
       "grid_template_columns": null,
       "grid_template_rows": null,
       "height": null,
       "justify_content": null,
       "justify_items": null,
       "left": null,
       "margin": null,
       "max_height": null,
       "max_width": null,
       "min_height": null,
       "min_width": null,
       "object_fit": null,
       "object_position": null,
       "order": null,
       "overflow": null,
       "overflow_x": null,
       "overflow_y": null,
       "padding": null,
       "right": null,
       "top": null,
       "visibility": null,
       "width": null
      }
     },
     "1762bdb881c84829b8b2912710afa270": {
      "model_module": "@jupyter-widgets/controls",
      "model_module_version": "1.5.0",
      "model_name": "HTMLModel",
      "state": {
       "_dom_classes": [],
       "_model_module": "@jupyter-widgets/controls",
       "_model_module_version": "1.5.0",
       "_model_name": "HTMLModel",
       "_view_count": null,
       "_view_module": "@jupyter-widgets/controls",
       "_view_module_version": "1.5.0",
       "_view_name": "HTMLView",
       "description": "",
       "description_tooltip": null,
       "layout": "IPY_MODEL_e51f3c7d65ca478881ace494d8c22925",
       "placeholder": "​",
       "style": "IPY_MODEL_c1a4ad9b363f4c8d9d1eab5eb753cc60",
       "value": " 849k/849k [00:00&lt;00:00, 1.09MB/s]"
      }
     },
     "177e33170e2642819aeb28a1ffd33825": {
      "model_module": "@jupyter-widgets/controls",
      "model_module_version": "1.5.0",
      "model_name": "ProgressStyleModel",
      "state": {
       "_model_module": "@jupyter-widgets/controls",
       "_model_module_version": "1.5.0",
       "_model_name": "ProgressStyleModel",
       "_view_count": null,
       "_view_module": "@jupyter-widgets/base",
       "_view_module_version": "1.2.0",
       "_view_name": "StyleView",
       "bar_color": null,
       "description_width": ""
      }
     },
     "17a86c139769484996f980ab1941ec6c": {
      "model_module": "@jupyter-widgets/base",
      "model_module_version": "1.2.0",
      "model_name": "LayoutModel",
      "state": {
       "_model_module": "@jupyter-widgets/base",
       "_model_module_version": "1.2.0",
       "_model_name": "LayoutModel",
       "_view_count": null,
       "_view_module": "@jupyter-widgets/base",
       "_view_module_version": "1.2.0",
       "_view_name": "LayoutView",
       "align_content": null,
       "align_items": null,
       "align_self": null,
       "border": null,
       "bottom": null,
       "display": null,
       "flex": null,
       "flex_flow": null,
       "grid_area": null,
       "grid_auto_columns": null,
       "grid_auto_flow": null,
       "grid_auto_rows": null,
       "grid_column": null,
       "grid_gap": null,
       "grid_row": null,
       "grid_template_areas": null,
       "grid_template_columns": null,
       "grid_template_rows": null,
       "height": null,
       "justify_content": null,
       "justify_items": null,
       "left": null,
       "margin": null,
       "max_height": null,
       "max_width": null,
       "min_height": null,
       "min_width": null,
       "object_fit": null,
       "object_position": null,
       "order": null,
       "overflow": null,
       "overflow_x": null,
       "overflow_y": null,
       "padding": null,
       "right": null,
       "top": null,
       "visibility": null,
       "width": null
      }
     },
     "17e5b47ffeb44ff2b0c0745f1a1b997d": {
      "model_module": "@jupyter-widgets/controls",
      "model_module_version": "1.5.0",
      "model_name": "DescriptionStyleModel",
      "state": {
       "_model_module": "@jupyter-widgets/controls",
       "_model_module_version": "1.5.0",
       "_model_name": "DescriptionStyleModel",
       "_view_count": null,
       "_view_module": "@jupyter-widgets/base",
       "_view_module_version": "1.2.0",
       "_view_name": "StyleView",
       "description_width": ""
      }
     },
     "182450127c28473bbb798b5502b7de1b": {
      "model_module": "@jupyter-widgets/base",
      "model_module_version": "1.2.0",
      "model_name": "LayoutModel",
      "state": {
       "_model_module": "@jupyter-widgets/base",
       "_model_module_version": "1.2.0",
       "_model_name": "LayoutModel",
       "_view_count": null,
       "_view_module": "@jupyter-widgets/base",
       "_view_module_version": "1.2.0",
       "_view_name": "LayoutView",
       "align_content": null,
       "align_items": null,
       "align_self": null,
       "border": null,
       "bottom": null,
       "display": null,
       "flex": null,
       "flex_flow": null,
       "grid_area": null,
       "grid_auto_columns": null,
       "grid_auto_flow": null,
       "grid_auto_rows": null,
       "grid_column": null,
       "grid_gap": null,
       "grid_row": null,
       "grid_template_areas": null,
       "grid_template_columns": null,
       "grid_template_rows": null,
       "height": null,
       "justify_content": null,
       "justify_items": null,
       "left": null,
       "margin": null,
       "max_height": null,
       "max_width": null,
       "min_height": null,
       "min_width": null,
       "object_fit": null,
       "object_position": null,
       "order": null,
       "overflow": null,
       "overflow_x": null,
       "overflow_y": null,
       "padding": null,
       "right": null,
       "top": null,
       "visibility": null,
       "width": null
      }
     },
     "183065d730a1436ead6d57522d225303": {
      "model_module": "@jupyter-widgets/controls",
      "model_module_version": "1.5.0",
      "model_name": "HBoxModel",
      "state": {
       "_dom_classes": [],
       "_model_module": "@jupyter-widgets/controls",
       "_model_module_version": "1.5.0",
       "_model_name": "HBoxModel",
       "_view_count": null,
       "_view_module": "@jupyter-widgets/controls",
       "_view_module_version": "1.5.0",
       "_view_name": "HBoxView",
       "box_style": "",
       "children": [
        "IPY_MODEL_326cefa1c4864a3cb5c3fe364244ffe5",
        "IPY_MODEL_fcf0730a9e084f4e80b316c0f17747a5",
        "IPY_MODEL_9d1c3d3fe786468f9e9425a4a543cc55"
       ],
       "layout": "IPY_MODEL_90a78cde005c44a79402ff8152c0c6bb"
      }
     },
     "18e96a7d223c440b85dddca602887c9e": {
      "model_module": "@jupyter-widgets/base",
      "model_module_version": "1.2.0",
      "model_name": "LayoutModel",
      "state": {
       "_model_module": "@jupyter-widgets/base",
       "_model_module_version": "1.2.0",
       "_model_name": "LayoutModel",
       "_view_count": null,
       "_view_module": "@jupyter-widgets/base",
       "_view_module_version": "1.2.0",
       "_view_name": "LayoutView",
       "align_content": null,
       "align_items": null,
       "align_self": null,
       "border": null,
       "bottom": null,
       "display": null,
       "flex": null,
       "flex_flow": null,
       "grid_area": null,
       "grid_auto_columns": null,
       "grid_auto_flow": null,
       "grid_auto_rows": null,
       "grid_column": null,
       "grid_gap": null,
       "grid_row": null,
       "grid_template_areas": null,
       "grid_template_columns": null,
       "grid_template_rows": null,
       "height": null,
       "justify_content": null,
       "justify_items": null,
       "left": null,
       "margin": null,
       "max_height": null,
       "max_width": null,
       "min_height": null,
       "min_width": null,
       "object_fit": null,
       "object_position": null,
       "order": null,
       "overflow": null,
       "overflow_x": null,
       "overflow_y": null,
       "padding": null,
       "right": null,
       "top": null,
       "visibility": null,
       "width": null
      }
     },
     "199784c861ab4410bc7d8e7ad9e5cc0d": {
      "model_module": "@jupyter-widgets/base",
      "model_module_version": "1.2.0",
      "model_name": "LayoutModel",
      "state": {
       "_model_module": "@jupyter-widgets/base",
       "_model_module_version": "1.2.0",
       "_model_name": "LayoutModel",
       "_view_count": null,
       "_view_module": "@jupyter-widgets/base",
       "_view_module_version": "1.2.0",
       "_view_name": "LayoutView",
       "align_content": null,
       "align_items": null,
       "align_self": null,
       "border": null,
       "bottom": null,
       "display": null,
       "flex": null,
       "flex_flow": null,
       "grid_area": null,
       "grid_auto_columns": null,
       "grid_auto_flow": null,
       "grid_auto_rows": null,
       "grid_column": null,
       "grid_gap": null,
       "grid_row": null,
       "grid_template_areas": null,
       "grid_template_columns": null,
       "grid_template_rows": null,
       "height": null,
       "justify_content": null,
       "justify_items": null,
       "left": null,
       "margin": null,
       "max_height": null,
       "max_width": null,
       "min_height": null,
       "min_width": null,
       "object_fit": null,
       "object_position": null,
       "order": null,
       "overflow": null,
       "overflow_x": null,
       "overflow_y": null,
       "padding": null,
       "right": null,
       "top": null,
       "visibility": null,
       "width": null
      }
     },
     "1abbcb9cde014d478ef82eced2bc8333": {
      "model_module": "@jupyter-widgets/controls",
      "model_module_version": "1.5.0",
      "model_name": "FloatProgressModel",
      "state": {
       "_dom_classes": [],
       "_model_module": "@jupyter-widgets/controls",
       "_model_module_version": "1.5.0",
       "_model_name": "FloatProgressModel",
       "_view_count": null,
       "_view_module": "@jupyter-widgets/controls",
       "_view_module_version": "1.5.0",
       "_view_name": "ProgressView",
       "bar_style": "success",
       "description": "",
       "description_tooltip": null,
       "layout": "IPY_MODEL_8c9550e8c68547cd94833f61d288b78c",
       "max": 481.0,
       "min": 0.0,
       "orientation": "horizontal",
       "style": "IPY_MODEL_10457ed45b2f46dfac50d3526d4c746a",
       "value": 481.0
      }
     },
     "1ad7f7cd05094647ad6d1b1e8fff77be": {
      "model_module": "@jupyter-widgets/controls",
      "model_module_version": "1.5.0",
      "model_name": "DescriptionStyleModel",
      "state": {
       "_model_module": "@jupyter-widgets/controls",
       "_model_module_version": "1.5.0",
       "_model_name": "DescriptionStyleModel",
       "_view_count": null,
       "_view_module": "@jupyter-widgets/base",
       "_view_module_version": "1.2.0",
       "_view_name": "StyleView",
       "description_width": ""
      }
     },
     "1c271ae2008040728c9d73082afe2cbd": {
      "model_module": "@jupyter-widgets/controls",
      "model_module_version": "1.5.0",
      "model_name": "DescriptionStyleModel",
      "state": {
       "_model_module": "@jupyter-widgets/controls",
       "_model_module_version": "1.5.0",
       "_model_name": "DescriptionStyleModel",
       "_view_count": null,
       "_view_module": "@jupyter-widgets/base",
       "_view_module_version": "1.2.0",
       "_view_name": "StyleView",
       "description_width": ""
      }
     },
     "1fa710fae2de4f6f9c26ec03c994c922": {
      "model_module": "@jupyter-widgets/controls",
      "model_module_version": "1.5.0",
      "model_name": "FloatProgressModel",
      "state": {
       "_dom_classes": [],
       "_model_module": "@jupyter-widgets/controls",
       "_model_module_version": "1.5.0",
       "_model_name": "FloatProgressModel",
       "_view_count": null,
       "_view_module": "@jupyter-widgets/controls",
       "_view_module_version": "1.5.0",
       "_view_name": "ProgressView",
       "bar_style": "success",
       "description": "",
       "description_tooltip": null,
       "layout": "IPY_MODEL_5a9157e0b6254b7d828d4ab6a2ae6717",
       "max": 1079071572.0,
       "min": 0.0,
       "orientation": "horizontal",
       "style": "IPY_MODEL_672bd78575764707aae2fffbd349a036",
       "value": 1079071572.0
      }
     },
     "2041fd947b7248acb085006bab3bd74a": {
      "model_module": "@jupyter-widgets/controls",
      "model_module_version": "1.5.0",
      "model_name": "HBoxModel",
      "state": {
       "_dom_classes": [],
       "_model_module": "@jupyter-widgets/controls",
       "_model_module_version": "1.5.0",
       "_model_name": "HBoxModel",
       "_view_count": null,
       "_view_module": "@jupyter-widgets/controls",
       "_view_module_version": "1.5.0",
       "_view_name": "HBoxView",
       "box_style": "",
       "children": [
        "IPY_MODEL_e99d49a9425841aba93c19f0b05c4458",
        "IPY_MODEL_c9f30fd4fefc479ca4073848ea483a81",
        "IPY_MODEL_fa3806e8214f473180938c3359a4bbe4"
       ],
       "layout": "IPY_MODEL_4f2c9990e1744d28ad277e7e7b89b3e5"
      }
     },
     "21ce9eae8f5d4ed686627da727cef049": {
      "model_module": "@jupyter-widgets/controls",
      "model_module_version": "1.5.0",
      "model_name": "DescriptionStyleModel",
      "state": {
       "_model_module": "@jupyter-widgets/controls",
       "_model_module_version": "1.5.0",
       "_model_name": "DescriptionStyleModel",
       "_view_count": null,
       "_view_module": "@jupyter-widgets/base",
       "_view_module_version": "1.2.0",
       "_view_name": "StyleView",
       "description_width": ""
      }
     },
     "22350a7c4c324087a437c0cb54d5a79e": {
      "model_module": "@jupyter-widgets/controls",
      "model_module_version": "1.5.0",
      "model_name": "FloatProgressModel",
      "state": {
       "_dom_classes": [],
       "_model_module": "@jupyter-widgets/controls",
       "_model_module_version": "1.5.0",
       "_model_name": "FloatProgressModel",
       "_view_count": null,
       "_view_module": "@jupyter-widgets/controls",
       "_view_module_version": "1.5.0",
       "_view_name": "ProgressView",
       "bar_style": "success",
       "description": "",
       "description_tooltip": null,
       "layout": "IPY_MODEL_c8e6cf286e0047eba4fcc437319bdd21",
       "max": 1355863.0,
       "min": 0.0,
       "orientation": "horizontal",
       "style": "IPY_MODEL_2dcc58e3387245c4a28d4278ffb66d65",
       "value": 1355863.0
      }
     },
     "225b8704cf8b41d5b242c24d4624401e": {
      "model_module": "@jupyter-widgets/controls",
      "model_module_version": "1.5.0",
      "model_name": "DescriptionStyleModel",
      "state": {
       "_model_module": "@jupyter-widgets/controls",
       "_model_module_version": "1.5.0",
       "_model_name": "DescriptionStyleModel",
       "_view_count": null,
       "_view_module": "@jupyter-widgets/base",
       "_view_module_version": "1.2.0",
       "_view_name": "StyleView",
       "description_width": ""
      }
     },
     "269937773f7847a2b82c3836aed90afe": {
      "model_module": "@jupyter-widgets/controls",
      "model_module_version": "1.5.0",
      "model_name": "HBoxModel",
      "state": {
       "_dom_classes": [],
       "_model_module": "@jupyter-widgets/controls",
       "_model_module_version": "1.5.0",
       "_model_name": "HBoxModel",
       "_view_count": null,
       "_view_module": "@jupyter-widgets/controls",
       "_view_module_version": "1.5.0",
       "_view_name": "HBoxView",
       "box_style": "",
       "children": [
        "IPY_MODEL_9876df0b64fd4d258263230376034514",
        "IPY_MODEL_1fa710fae2de4f6f9c26ec03c994c922",
        "IPY_MODEL_78a16e1efb864bfd82dc4426bb663560"
       ],
       "layout": "IPY_MODEL_a9f353441f3f402a8f4efe7c4a29980f"
      }
     },
     "2729a116ade5411db9e5ec173d86d2aa": {
      "model_module": "@jupyter-widgets/controls",
      "model_module_version": "1.5.0",
      "model_name": "FloatProgressModel",
      "state": {
       "_dom_classes": [],
       "_model_module": "@jupyter-widgets/controls",
       "_model_module_version": "1.5.0",
       "_model_name": "FloatProgressModel",
       "_view_count": null,
       "_view_module": "@jupyter-widgets/controls",
       "_view_module_version": "1.5.0",
       "_view_name": "ProgressView",
       "bar_style": "success",
       "description": "",
       "description_tooltip": null,
       "layout": "IPY_MODEL_a4a40e347b7e4c60b34355e0a4303624",
       "max": 898823.0,
       "min": 0.0,
       "orientation": "horizontal",
       "style": "IPY_MODEL_46b68a193fcc4acf81ea7afe1d8c8201",
       "value": 898823.0
      }
     },
     "2756768157da4cbb9c72da38c6b33fd3": {
      "model_module": "@jupyter-widgets/controls",
      "model_module_version": "1.5.0",
      "model_name": "FloatProgressModel",
      "state": {
       "_dom_classes": [],
       "_model_module": "@jupyter-widgets/controls",
       "_model_module_version": "1.5.0",
       "_model_name": "FloatProgressModel",
       "_view_count": null,
       "_view_module": "@jupyter-widgets/controls",
       "_view_module_version": "1.5.0",
       "_view_name": "ProgressView",
       "bar_style": "success",
       "description": "",
       "description_tooltip": null,
       "layout": "IPY_MODEL_afe26c217098453b973bda74cd299d5d",
       "max": 848917.0,
       "min": 0.0,
       "orientation": "horizontal",
       "style": "IPY_MODEL_08d747448cd94edfb0df4d5c930001d1",
       "value": 848917.0
      }
     },
     "27bd15d8abda4a1cafbb41f9ec9fea71": {
      "model_module": "@jupyter-widgets/base",
      "model_module_version": "1.2.0",
      "model_name": "LayoutModel",
      "state": {
       "_model_module": "@jupyter-widgets/base",
       "_model_module_version": "1.2.0",
       "_model_name": "LayoutModel",
       "_view_count": null,
       "_view_module": "@jupyter-widgets/base",
       "_view_module_version": "1.2.0",
       "_view_name": "LayoutView",
       "align_content": null,
       "align_items": null,
       "align_self": null,
       "border": null,
       "bottom": null,
       "display": null,
       "flex": null,
       "flex_flow": null,
       "grid_area": null,
       "grid_auto_columns": null,
       "grid_auto_flow": null,
       "grid_auto_rows": null,
       "grid_column": null,
       "grid_gap": null,
       "grid_row": null,
       "grid_template_areas": null,
       "grid_template_columns": null,
       "grid_template_rows": null,
       "height": null,
       "justify_content": null,
       "justify_items": null,
       "left": null,
       "margin": null,
       "max_height": null,
       "max_width": null,
       "min_height": null,
       "min_width": null,
       "object_fit": null,
       "object_position": null,
       "order": null,
       "overflow": null,
       "overflow_x": null,
       "overflow_y": null,
       "padding": null,
       "right": null,
       "top": null,
       "visibility": null,
       "width": null
      }
     },
     "27c37d0baa974d15a5cf76facaa3cf0a": {
      "model_module": "@jupyter-widgets/base",
      "model_module_version": "1.2.0",
      "model_name": "LayoutModel",
      "state": {
       "_model_module": "@jupyter-widgets/base",
       "_model_module_version": "1.2.0",
       "_model_name": "LayoutModel",
       "_view_count": null,
       "_view_module": "@jupyter-widgets/base",
       "_view_module_version": "1.2.0",
       "_view_name": "LayoutView",
       "align_content": null,
       "align_items": null,
       "align_self": null,
       "border": null,
       "bottom": null,
       "display": null,
       "flex": null,
       "flex_flow": null,
       "grid_area": null,
       "grid_auto_columns": null,
       "grid_auto_flow": null,
       "grid_auto_rows": null,
       "grid_column": null,
       "grid_gap": null,
       "grid_row": null,
       "grid_template_areas": null,
       "grid_template_columns": null,
       "grid_template_rows": null,
       "height": null,
       "justify_content": null,
       "justify_items": null,
       "left": null,
       "margin": null,
       "max_height": null,
       "max_width": null,
       "min_height": null,
       "min_width": null,
       "object_fit": null,
       "object_position": null,
       "order": null,
       "overflow": null,
       "overflow_x": null,
       "overflow_y": null,
       "padding": null,
       "right": null,
       "top": null,
       "visibility": null,
       "width": null
      }
     },
     "2c8056f3b8a74365a8d557bba54a741e": {
      "model_module": "@jupyter-widgets/base",
      "model_module_version": "1.2.0",
      "model_name": "LayoutModel",
      "state": {
       "_model_module": "@jupyter-widgets/base",
       "_model_module_version": "1.2.0",
       "_model_name": "LayoutModel",
       "_view_count": null,
       "_view_module": "@jupyter-widgets/base",
       "_view_module_version": "1.2.0",
       "_view_name": "LayoutView",
       "align_content": null,
       "align_items": null,
       "align_self": null,
       "border": null,
       "bottom": null,
       "display": null,
       "flex": null,
       "flex_flow": null,
       "grid_area": null,
       "grid_auto_columns": null,
       "grid_auto_flow": null,
       "grid_auto_rows": null,
       "grid_column": null,
       "grid_gap": null,
       "grid_row": null,
       "grid_template_areas": null,
       "grid_template_columns": null,
       "grid_template_rows": null,
       "height": null,
       "justify_content": null,
       "justify_items": null,
       "left": null,
       "margin": null,
       "max_height": null,
       "max_width": null,
       "min_height": null,
       "min_width": null,
       "object_fit": null,
       "object_position": null,
       "order": null,
       "overflow": null,
       "overflow_x": null,
       "overflow_y": null,
       "padding": null,
       "right": null,
       "top": null,
       "visibility": null,
       "width": null
      }
     },
     "2dcc58e3387245c4a28d4278ffb66d65": {
      "model_module": "@jupyter-widgets/controls",
      "model_module_version": "1.5.0",
      "model_name": "ProgressStyleModel",
      "state": {
       "_model_module": "@jupyter-widgets/controls",
       "_model_module_version": "1.5.0",
       "_model_name": "ProgressStyleModel",
       "_view_count": null,
       "_view_module": "@jupyter-widgets/base",
       "_view_module_version": "1.2.0",
       "_view_name": "StyleView",
       "bar_color": null,
       "description_width": ""
      }
     },
     "2fdc8a3715cb46a8a8fba9cba5d08fd7": {
      "model_module": "@jupyter-widgets/controls",
      "model_module_version": "1.5.0",
      "model_name": "HBoxModel",
      "state": {
       "_dom_classes": [],
       "_model_module": "@jupyter-widgets/controls",
       "_model_module_version": "1.5.0",
       "_model_name": "HBoxModel",
       "_view_count": null,
       "_view_module": "@jupyter-widgets/controls",
       "_view_module_version": "1.5.0",
       "_view_name": "HBoxView",
       "box_style": "",
       "children": [
        "IPY_MODEL_a8fc854e3f794a8497e9230848ac32aa",
        "IPY_MODEL_f3423fec00e648b3885124a5e2ba0176",
        "IPY_MODEL_c1d4237f07e14cf6adee58c1d2312c29"
       ],
       "layout": "IPY_MODEL_199784c861ab4410bc7d8e7ad9e5cc0d"
      }
     },
     "307a4a80c9ee4aab8e1a97025c2e62a1": {
      "model_module": "@jupyter-widgets/controls",
      "model_module_version": "1.5.0",
      "model_name": "DescriptionStyleModel",
      "state": {
       "_model_module": "@jupyter-widgets/controls",
       "_model_module_version": "1.5.0",
       "_model_name": "DescriptionStyleModel",
       "_view_count": null,
       "_view_module": "@jupyter-widgets/base",
       "_view_module_version": "1.2.0",
       "_view_name": "StyleView",
       "description_width": ""
      }
     },
     "3239a8c53e144c039a1cde28b3b36bb1": {
      "model_module": "@jupyter-widgets/controls",
      "model_module_version": "1.5.0",
      "model_name": "DescriptionStyleModel",
      "state": {
       "_model_module": "@jupyter-widgets/controls",
       "_model_module_version": "1.5.0",
       "_model_name": "DescriptionStyleModel",
       "_view_count": null,
       "_view_module": "@jupyter-widgets/base",
       "_view_module_version": "1.2.0",
       "_view_name": "StyleView",
       "description_width": ""
      }
     },
     "326cefa1c4864a3cb5c3fe364244ffe5": {
      "model_module": "@jupyter-widgets/controls",
      "model_module_version": "1.5.0",
      "model_name": "HTMLModel",
      "state": {
       "_dom_classes": [],
       "_model_module": "@jupyter-widgets/controls",
       "_model_module_version": "1.5.0",
       "_model_name": "HTMLModel",
       "_view_count": null,
       "_view_module": "@jupyter-widgets/controls",
       "_view_module_version": "1.5.0",
       "_view_name": "HTMLView",
       "description": "",
       "description_tooltip": null,
       "layout": "IPY_MODEL_fcc095df0da942e99e3ae53dccd312b2",
       "placeholder": "​",
       "style": "IPY_MODEL_21ce9eae8f5d4ed686627da727cef049",
       "value": "merges.txt: 100%"
      }
     },
     "345c2bbc1773429d911692b8375f2245": {
      "model_module": "@jupyter-widgets/controls",
      "model_module_version": "1.5.0",
      "model_name": "DescriptionStyleModel",
      "state": {
       "_model_module": "@jupyter-widgets/controls",
       "_model_module_version": "1.5.0",
       "_model_name": "DescriptionStyleModel",
       "_view_count": null,
       "_view_module": "@jupyter-widgets/base",
       "_view_module_version": "1.2.0",
       "_view_name": "StyleView",
       "description_width": ""
      }
     },
     "3b421bbe5bd74bc78db93393b9c1f859": {
      "model_module": "@jupyter-widgets/base",
      "model_module_version": "1.2.0",
      "model_name": "LayoutModel",
      "state": {
       "_model_module": "@jupyter-widgets/base",
       "_model_module_version": "1.2.0",
       "_model_name": "LayoutModel",
       "_view_count": null,
       "_view_module": "@jupyter-widgets/base",
       "_view_module_version": "1.2.0",
       "_view_name": "LayoutView",
       "align_content": null,
       "align_items": null,
       "align_self": null,
       "border": null,
       "bottom": null,
       "display": null,
       "flex": null,
       "flex_flow": null,
       "grid_area": null,
       "grid_auto_columns": null,
       "grid_auto_flow": null,
       "grid_auto_rows": null,
       "grid_column": null,
       "grid_gap": null,
       "grid_row": null,
       "grid_template_areas": null,
       "grid_template_columns": null,
       "grid_template_rows": null,
       "height": null,
       "justify_content": null,
       "justify_items": null,
       "left": null,
       "margin": null,
       "max_height": null,
       "max_width": null,
       "min_height": null,
       "min_width": null,
       "object_fit": null,
       "object_position": null,
       "order": null,
       "overflow": null,
       "overflow_x": null,
       "overflow_y": null,
       "padding": null,
       "right": null,
       "top": null,
       "visibility": null,
       "width": null
      }
     },
     "3bbd25a5774943d38b71e9b1d7d759fe": {
      "model_module": "@jupyter-widgets/base",
      "model_module_version": "1.2.0",
      "model_name": "LayoutModel",
      "state": {
       "_model_module": "@jupyter-widgets/base",
       "_model_module_version": "1.2.0",
       "_model_name": "LayoutModel",
       "_view_count": null,
       "_view_module": "@jupyter-widgets/base",
       "_view_module_version": "1.2.0",
       "_view_name": "LayoutView",
       "align_content": null,
       "align_items": null,
       "align_self": null,
       "border": null,
       "bottom": null,
       "display": null,
       "flex": null,
       "flex_flow": null,
       "grid_area": null,
       "grid_auto_columns": null,
       "grid_auto_flow": null,
       "grid_auto_rows": null,
       "grid_column": null,
       "grid_gap": null,
       "grid_row": null,
       "grid_template_areas": null,
       "grid_template_columns": null,
       "grid_template_rows": null,
       "height": null,
       "justify_content": null,
       "justify_items": null,
       "left": null,
       "margin": null,
       "max_height": null,
       "max_width": null,
       "min_height": null,
       "min_width": null,
       "object_fit": null,
       "object_position": null,
       "order": null,
       "overflow": null,
       "overflow_x": null,
       "overflow_y": null,
       "padding": null,
       "right": null,
       "top": null,
       "visibility": null,
       "width": null
      }
     },
     "3f3ac01cf25b48d9a42df994256cc725": {
      "model_module": "@jupyter-widgets/controls",
      "model_module_version": "1.5.0",
      "model_name": "HTMLModel",
      "state": {
       "_dom_classes": [],
       "_model_module": "@jupyter-widgets/controls",
       "_model_module_version": "1.5.0",
       "_model_name": "HTMLModel",
       "_view_count": null,
       "_view_module": "@jupyter-widgets/controls",
       "_view_module_version": "1.5.0",
       "_view_name": "HTMLView",
       "description": "",
       "description_tooltip": null,
       "layout": "IPY_MODEL_bd722f9a7fab4f888a584693f3b45bc2",
       "placeholder": "​",
       "style": "IPY_MODEL_75fdfe6bd0694201a09fbda439e4ad41",
       "value": "tokenizer_config.json: 100%"
      }
     },
     "40712f7cafa34bea8f27b05a61aaa013": {
      "model_module": "@jupyter-widgets/controls",
      "model_module_version": "1.5.0",
      "model_name": "HTMLModel",
      "state": {
       "_dom_classes": [],
       "_model_module": "@jupyter-widgets/controls",
       "_model_module_version": "1.5.0",
       "_model_name": "HTMLModel",
       "_view_count": null,
       "_view_module": "@jupyter-widgets/controls",
       "_view_module_version": "1.5.0",
       "_view_name": "HTMLView",
       "description": "",
       "description_tooltip": null,
       "layout": "IPY_MODEL_b920562a919d4e7a95892de801866450",
       "placeholder": "​",
       "style": "IPY_MODEL_a832f5d4c1d84595a65daca6afaca8ee",
       "value": "vocab-src.json: 100%"
      }
     },
     "41475806b0434e9b9898b1fda2829e4d": {
      "model_module": "@jupyter-widgets/controls",
      "model_module_version": "1.5.0",
      "model_name": "DescriptionStyleModel",
      "state": {
       "_model_module": "@jupyter-widgets/controls",
       "_model_module_version": "1.5.0",
       "_model_name": "DescriptionStyleModel",
       "_view_count": null,
       "_view_module": "@jupyter-widgets/base",
       "_view_module_version": "1.2.0",
       "_view_name": "StyleView",
       "description_width": ""
      }
     },
     "41d714f2407b434daaed6766c1f767ca": {
      "model_module": "@jupyter-widgets/base",
      "model_module_version": "1.2.0",
      "model_name": "LayoutModel",
      "state": {
       "_model_module": "@jupyter-widgets/base",
       "_model_module_version": "1.2.0",
       "_model_name": "LayoutModel",
       "_view_count": null,
       "_view_module": "@jupyter-widgets/base",
       "_view_module_version": "1.2.0",
       "_view_name": "LayoutView",
       "align_content": null,
       "align_items": null,
       "align_self": null,
       "border": null,
       "bottom": null,
       "display": null,
       "flex": null,
       "flex_flow": null,
       "grid_area": null,
       "grid_auto_columns": null,
       "grid_auto_flow": null,
       "grid_auto_rows": null,
       "grid_column": null,
       "grid_gap": null,
       "grid_row": null,
       "grid_template_areas": null,
       "grid_template_columns": null,
       "grid_template_rows": null,
       "height": null,
       "justify_content": null,
       "justify_items": null,
       "left": null,
       "margin": null,
       "max_height": null,
       "max_width": null,
       "min_height": null,
       "min_width": null,
       "object_fit": null,
       "object_position": null,
       "order": null,
       "overflow": null,
       "overflow_x": null,
       "overflow_y": null,
       "padding": null,
       "right": null,
       "top": null,
       "visibility": null,
       "width": null
      }
     },
     "4214b6f4ba8045278169f3b8753f0952": {
      "model_module": "@jupyter-widgets/controls",
      "model_module_version": "1.5.0",
      "model_name": "DescriptionStyleModel",
      "state": {
       "_model_module": "@jupyter-widgets/controls",
       "_model_module_version": "1.5.0",
       "_model_name": "DescriptionStyleModel",
       "_view_count": null,
       "_view_module": "@jupyter-widgets/base",
       "_view_module_version": "1.2.0",
       "_view_name": "StyleView",
       "description_width": ""
      }
     },
     "431f813fbfb74ae684d061cbece75602": {
      "model_module": "@jupyter-widgets/base",
      "model_module_version": "1.2.0",
      "model_name": "LayoutModel",
      "state": {
       "_model_module": "@jupyter-widgets/base",
       "_model_module_version": "1.2.0",
       "_model_name": "LayoutModel",
       "_view_count": null,
       "_view_module": "@jupyter-widgets/base",
       "_view_module_version": "1.2.0",
       "_view_name": "LayoutView",
       "align_content": null,
       "align_items": null,
       "align_self": null,
       "border": null,
       "bottom": null,
       "display": null,
       "flex": null,
       "flex_flow": null,
       "grid_area": null,
       "grid_auto_columns": null,
       "grid_auto_flow": null,
       "grid_auto_rows": null,
       "grid_column": null,
       "grid_gap": null,
       "grid_row": null,
       "grid_template_areas": null,
       "grid_template_columns": null,
       "grid_template_rows": null,
       "height": null,
       "justify_content": null,
       "justify_items": null,
       "left": null,
       "margin": null,
       "max_height": null,
       "max_width": null,
       "min_height": null,
       "min_width": null,
       "object_fit": null,
       "object_position": null,
       "order": null,
       "overflow": null,
       "overflow_x": null,
       "overflow_y": null,
       "padding": null,
       "right": null,
       "top": null,
       "visibility": null,
       "width": null
      }
     },
     "4562cfe865824515a0008f4cd08be5a1": {
      "model_module": "@jupyter-widgets/base",
      "model_module_version": "1.2.0",
      "model_name": "LayoutModel",
      "state": {
       "_model_module": "@jupyter-widgets/base",
       "_model_module_version": "1.2.0",
       "_model_name": "LayoutModel",
       "_view_count": null,
       "_view_module": "@jupyter-widgets/base",
       "_view_module_version": "1.2.0",
       "_view_name": "LayoutView",
       "align_content": null,
       "align_items": null,
       "align_self": null,
       "border": null,
       "bottom": null,
       "display": null,
       "flex": null,
       "flex_flow": null,
       "grid_area": null,
       "grid_auto_columns": null,
       "grid_auto_flow": null,
       "grid_auto_rows": null,
       "grid_column": null,
       "grid_gap": null,
       "grid_row": null,
       "grid_template_areas": null,
       "grid_template_columns": null,
       "grid_template_rows": null,
       "height": null,
       "justify_content": null,
       "justify_items": null,
       "left": null,
       "margin": null,
       "max_height": null,
       "max_width": null,
       "min_height": null,
       "min_width": null,
       "object_fit": null,
       "object_position": null,
       "order": null,
       "overflow": null,
       "overflow_x": null,
       "overflow_y": null,
       "padding": null,
       "right": null,
       "top": null,
       "visibility": null,
       "width": null
      }
     },
     "45cb7054171845eba7d9c8690cc8ca66": {
      "model_module": "@jupyter-widgets/controls",
      "model_module_version": "1.5.0",
      "model_name": "HBoxModel",
      "state": {
       "_dom_classes": [],
       "_model_module": "@jupyter-widgets/controls",
       "_model_module_version": "1.5.0",
       "_model_name": "HBoxModel",
       "_view_count": null,
       "_view_module": "@jupyter-widgets/controls",
       "_view_module_version": "1.5.0",
       "_view_name": "HBoxView",
       "box_style": "",
       "children": [
        "IPY_MODEL_66c0dd6f262c4ccbba6ed0f954180d65",
        "IPY_MODEL_1abbcb9cde014d478ef82eced2bc8333",
        "IPY_MODEL_a37f14b3e0124cfe9b4f332697e74160"
       ],
       "layout": "IPY_MODEL_f8cdb3e7800f411e9c6f51b9f4fa667d"
      }
     },
     "461c305978d8438f861ab86b1d58fad3": {
      "model_module": "@jupyter-widgets/controls",
      "model_module_version": "1.5.0",
      "model_name": "DescriptionStyleModel",
      "state": {
       "_model_module": "@jupyter-widgets/controls",
       "_model_module_version": "1.5.0",
       "_model_name": "DescriptionStyleModel",
       "_view_count": null,
       "_view_module": "@jupyter-widgets/base",
       "_view_module_version": "1.2.0",
       "_view_name": "StyleView",
       "description_width": ""
      }
     },
     "46b68a193fcc4acf81ea7afe1d8c8201": {
      "model_module": "@jupyter-widgets/controls",
      "model_module_version": "1.5.0",
      "model_name": "ProgressStyleModel",
      "state": {
       "_model_module": "@jupyter-widgets/controls",
       "_model_module_version": "1.5.0",
       "_model_name": "ProgressStyleModel",
       "_view_count": null,
       "_view_module": "@jupyter-widgets/base",
       "_view_module_version": "1.2.0",
       "_view_name": "StyleView",
       "bar_color": null,
       "description_width": ""
      }
     },
     "49a6ac366ed04e2799154bd3bc518e3b": {
      "model_module": "@jupyter-widgets/controls",
      "model_module_version": "1.5.0",
      "model_name": "HBoxModel",
      "state": {
       "_dom_classes": [],
       "_model_module": "@jupyter-widgets/controls",
       "_model_module_version": "1.5.0",
       "_model_name": "HBoxModel",
       "_view_count": null,
       "_view_module": "@jupyter-widgets/controls",
       "_view_module_version": "1.5.0",
       "_view_name": "HBoxView",
       "box_style": "",
       "children": [
        "IPY_MODEL_3f3ac01cf25b48d9a42df994256cc725",
        "IPY_MODEL_c2abee4361b14187a9660631ffc02187",
        "IPY_MODEL_cc952a14b7e14eca8f8fa93f9eaaf62a"
       ],
       "layout": "IPY_MODEL_2c8056f3b8a74365a8d557bba54a741e"
      }
     },
     "4a07e503e8cb475aacd9e9cb8e5a496d": {
      "model_module": "@jupyter-widgets/controls",
      "model_module_version": "1.5.0",
      "model_name": "DescriptionStyleModel",
      "state": {
       "_model_module": "@jupyter-widgets/controls",
       "_model_module_version": "1.5.0",
       "_model_name": "DescriptionStyleModel",
       "_view_count": null,
       "_view_module": "@jupyter-widgets/base",
       "_view_module_version": "1.2.0",
       "_view_name": "StyleView",
       "description_width": ""
      }
     },
     "4a172c5ce93247a3902b77cbb0df0507": {
      "model_module": "@jupyter-widgets/base",
      "model_module_version": "1.2.0",
      "model_name": "LayoutModel",
      "state": {
       "_model_module": "@jupyter-widgets/base",
       "_model_module_version": "1.2.0",
       "_model_name": "LayoutModel",
       "_view_count": null,
       "_view_module": "@jupyter-widgets/base",
       "_view_module_version": "1.2.0",
       "_view_name": "LayoutView",
       "align_content": null,
       "align_items": null,
       "align_self": null,
       "border": null,
       "bottom": null,
       "display": null,
       "flex": null,
       "flex_flow": null,
       "grid_area": null,
       "grid_auto_columns": null,
       "grid_auto_flow": null,
       "grid_auto_rows": null,
       "grid_column": null,
       "grid_gap": null,
       "grid_row": null,
       "grid_template_areas": null,
       "grid_template_columns": null,
       "grid_template_rows": null,
       "height": null,
       "justify_content": null,
       "justify_items": null,
       "left": null,
       "margin": null,
       "max_height": null,
       "max_width": null,
       "min_height": null,
       "min_width": null,
       "object_fit": null,
       "object_position": null,
       "order": null,
       "overflow": null,
       "overflow_x": null,
       "overflow_y": null,
       "padding": null,
       "right": null,
       "top": null,
       "visibility": null,
       "width": null
      }
     },
     "4a589635af714a6e9252d338031c90de": {
      "model_module": "@jupyter-widgets/controls",
      "model_module_version": "1.5.0",
      "model_name": "HTMLModel",
      "state": {
       "_dom_classes": [],
       "_model_module": "@jupyter-widgets/controls",
       "_model_module_version": "1.5.0",
       "_model_name": "HTMLModel",
       "_view_count": null,
       "_view_module": "@jupyter-widgets/controls",
       "_view_module_version": "1.5.0",
       "_view_name": "HTMLView",
       "description": "",
       "description_tooltip": null,
       "layout": "IPY_MODEL_4af389b3b5a745ce9e5c56428a7b94a6",
       "placeholder": "​",
       "style": "IPY_MODEL_804f0f5248aa453386f7d7f45209c0da",
       "value": " 899k/899k [00:00&lt;00:00, 1.14MB/s]"
      }
     },
     "4af389b3b5a745ce9e5c56428a7b94a6": {
      "model_module": "@jupyter-widgets/base",
      "model_module_version": "1.2.0",
      "model_name": "LayoutModel",
      "state": {
       "_model_module": "@jupyter-widgets/base",
       "_model_module_version": "1.2.0",
       "_model_name": "LayoutModel",
       "_view_count": null,
       "_view_module": "@jupyter-widgets/base",
       "_view_module_version": "1.2.0",
       "_view_name": "LayoutView",
       "align_content": null,
       "align_items": null,
       "align_self": null,
       "border": null,
       "bottom": null,
       "display": null,
       "flex": null,
       "flex_flow": null,
       "grid_area": null,
       "grid_auto_columns": null,
       "grid_auto_flow": null,
       "grid_auto_rows": null,
       "grid_column": null,
       "grid_gap": null,
       "grid_row": null,
       "grid_template_areas": null,
       "grid_template_columns": null,
       "grid_template_rows": null,
       "height": null,
       "justify_content": null,
       "justify_items": null,
       "left": null,
       "margin": null,
       "max_height": null,
       "max_width": null,
       "min_height": null,
       "min_width": null,
       "object_fit": null,
       "object_position": null,
       "order": null,
       "overflow": null,
       "overflow_x": null,
       "overflow_y": null,
       "padding": null,
       "right": null,
       "top": null,
       "visibility": null,
       "width": null
      }
     },
     "4f2c9990e1744d28ad277e7e7b89b3e5": {
      "model_module": "@jupyter-widgets/base",
      "model_module_version": "1.2.0",
      "model_name": "LayoutModel",
      "state": {
       "_model_module": "@jupyter-widgets/base",
       "_model_module_version": "1.2.0",
       "_model_name": "LayoutModel",
       "_view_count": null,
       "_view_module": "@jupyter-widgets/base",
       "_view_module_version": "1.2.0",
       "_view_name": "LayoutView",
       "align_content": null,
       "align_items": null,
       "align_self": null,
       "border": null,
       "bottom": null,
       "display": null,
       "flex": null,
       "flex_flow": null,
       "grid_area": null,
       "grid_auto_columns": null,
       "grid_auto_flow": null,
       "grid_auto_rows": null,
       "grid_column": null,
       "grid_gap": null,
       "grid_row": null,
       "grid_template_areas": null,
       "grid_template_columns": null,
       "grid_template_rows": null,
       "height": null,
       "justify_content": null,
       "justify_items": null,
       "left": null,
       "margin": null,
       "max_height": null,
       "max_width": null,
       "min_height": null,
       "min_width": null,
       "object_fit": null,
       "object_position": null,
       "order": null,
       "overflow": null,
       "overflow_x": null,
       "overflow_y": null,
       "padding": null,
       "right": null,
       "top": null,
       "visibility": null,
       "width": null
      }
     },
     "4facd0b661f64820a255d2963df2bdfd": {
      "model_module": "@jupyter-widgets/base",
      "model_module_version": "1.2.0",
      "model_name": "LayoutModel",
      "state": {
       "_model_module": "@jupyter-widgets/base",
       "_model_module_version": "1.2.0",
       "_model_name": "LayoutModel",
       "_view_count": null,
       "_view_module": "@jupyter-widgets/base",
       "_view_module_version": "1.2.0",
       "_view_name": "LayoutView",
       "align_content": null,
       "align_items": null,
       "align_self": null,
       "border": null,
       "bottom": null,
       "display": null,
       "flex": null,
       "flex_flow": null,
       "grid_area": null,
       "grid_auto_columns": null,
       "grid_auto_flow": null,
       "grid_auto_rows": null,
       "grid_column": null,
       "grid_gap": null,
       "grid_row": null,
       "grid_template_areas": null,
       "grid_template_columns": null,
       "grid_template_rows": null,
       "height": null,
       "justify_content": null,
       "justify_items": null,
       "left": null,
       "margin": null,
       "max_height": null,
       "max_width": null,
       "min_height": null,
       "min_width": null,
       "object_fit": null,
       "object_position": null,
       "order": null,
       "overflow": null,
       "overflow_x": null,
       "overflow_y": null,
       "padding": null,
       "right": null,
       "top": null,
       "visibility": null,
       "width": null
      }
     },
     "520432cec5a946649524827c7ea5c909": {
      "model_module": "@jupyter-widgets/controls",
      "model_module_version": "1.5.0",
      "model_name": "HTMLModel",
      "state": {
       "_dom_classes": [],
       "_model_module": "@jupyter-widgets/controls",
       "_model_module_version": "1.5.0",
       "_model_name": "HTMLModel",
       "_view_count": null,
       "_view_module": "@jupyter-widgets/controls",
       "_view_module_version": "1.5.0",
       "_view_name": "HTMLView",
       "description": "",
       "description_tooltip": null,
       "layout": "IPY_MODEL_17a86c139769484996f980ab1941ec6c",
       "placeholder": "​",
       "style": "IPY_MODEL_461c305978d8438f861ab86b1d58fad3",
       "value": "tokenizer_config.json: 100%"
      }
     },
     "548a09637dbb40a6ac01fd636979b512": {
      "model_module": "@jupyter-widgets/controls",
      "model_module_version": "1.5.0",
      "model_name": "DescriptionStyleModel",
      "state": {
       "_model_module": "@jupyter-widgets/controls",
       "_model_module_version": "1.5.0",
       "_model_name": "DescriptionStyleModel",
       "_view_count": null,
       "_view_module": "@jupyter-widgets/base",
       "_view_module_version": "1.2.0",
       "_view_name": "StyleView",
       "description_width": ""
      }
     },
     "5627a54877b14610a46e14e54c36ebe8": {
      "model_module": "@jupyter-widgets/controls",
      "model_module_version": "1.5.0",
      "model_name": "HTMLModel",
      "state": {
       "_dom_classes": [],
       "_model_module": "@jupyter-widgets/controls",
       "_model_module_version": "1.5.0",
       "_model_name": "HTMLModel",
       "_view_count": null,
       "_view_module": "@jupyter-widgets/controls",
       "_view_module_version": "1.5.0",
       "_view_name": "HTMLView",
       "description": "",
       "description_tooltip": null,
       "layout": "IPY_MODEL_16d2cfc32a2e497a992e9aca19326c69",
       "placeholder": "​",
       "style": "IPY_MODEL_1c271ae2008040728c9d73082afe2cbd",
       "value": " 499M/499M [00:12&lt;00:00, 42.5MB/s]"
      }
     },
     "58490a1471c7486cb6a01e8a1e226e65": {
      "model_module": "@jupyter-widgets/controls",
      "model_module_version": "1.5.0",
      "model_name": "ProgressStyleModel",
      "state": {
       "_model_module": "@jupyter-widgets/controls",
       "_model_module_version": "1.5.0",
       "_model_name": "ProgressStyleModel",
       "_view_count": null,
       "_view_module": "@jupyter-widgets/base",
       "_view_module_version": "1.2.0",
       "_view_name": "StyleView",
       "bar_color": null,
       "description_width": ""
      }
     },
     "59aa2fdfc24f4cf0825c500f4f3f60ec": {
      "model_module": "@jupyter-widgets/controls",
      "model_module_version": "1.5.0",
      "model_name": "DescriptionStyleModel",
      "state": {
       "_model_module": "@jupyter-widgets/controls",
       "_model_module_version": "1.5.0",
       "_model_name": "DescriptionStyleModel",
       "_view_count": null,
       "_view_module": "@jupyter-widgets/base",
       "_view_module_version": "1.2.0",
       "_view_name": "StyleView",
       "description_width": ""
      }
     },
     "59be85ab50e34c1f803d7a7460d61630": {
      "model_module": "@jupyter-widgets/controls",
      "model_module_version": "1.5.0",
      "model_name": "HTMLModel",
      "state": {
       "_dom_classes": [],
       "_model_module": "@jupyter-widgets/controls",
       "_model_module_version": "1.5.0",
       "_model_name": "HTMLModel",
       "_view_count": null,
       "_view_module": "@jupyter-widgets/controls",
       "_view_module_version": "1.5.0",
       "_view_name": "HTMLView",
       "description": "",
       "description_tooltip": null,
       "layout": "IPY_MODEL_0ac820f4644545c78e03ef852764b730",
       "placeholder": "​",
       "style": "IPY_MODEL_619f3dfc9b3f42cf99db5796e5d82e54",
       "value": "tokenizer_config.json: 100%"
      }
     },
     "5a9157e0b6254b7d828d4ab6a2ae6717": {
      "model_module": "@jupyter-widgets/base",
      "model_module_version": "1.2.0",
      "model_name": "LayoutModel",
      "state": {
       "_model_module": "@jupyter-widgets/base",
       "_model_module_version": "1.2.0",
       "_model_name": "LayoutModel",
       "_view_count": null,
       "_view_module": "@jupyter-widgets/base",
       "_view_module_version": "1.2.0",
       "_view_name": "LayoutView",
       "align_content": null,
       "align_items": null,
       "align_self": null,
       "border": null,
       "bottom": null,
       "display": null,
       "flex": null,
       "flex_flow": null,
       "grid_area": null,
       "grid_auto_columns": null,
       "grid_auto_flow": null,
       "grid_auto_rows": null,
       "grid_column": null,
       "grid_gap": null,
       "grid_row": null,
       "grid_template_areas": null,
       "grid_template_columns": null,
       "grid_template_rows": null,
       "height": null,
       "justify_content": null,
       "justify_items": null,
       "left": null,
       "margin": null,
       "max_height": null,
       "max_width": null,
       "min_height": null,
       "min_width": null,
       "object_fit": null,
       "object_position": null,
       "order": null,
       "overflow": null,
       "overflow_x": null,
       "overflow_y": null,
       "padding": null,
       "right": null,
       "top": null,
       "visibility": null,
       "width": null
      }
     },
     "5dddabb8549042919dabc80bbb648e1b": {
      "model_module": "@jupyter-widgets/base",
      "model_module_version": "1.2.0",
      "model_name": "LayoutModel",
      "state": {
       "_model_module": "@jupyter-widgets/base",
       "_model_module_version": "1.2.0",
       "_model_name": "LayoutModel",
       "_view_count": null,
       "_view_module": "@jupyter-widgets/base",
       "_view_module_version": "1.2.0",
       "_view_name": "LayoutView",
       "align_content": null,
       "align_items": null,
       "align_self": null,
       "border": null,
       "bottom": null,
       "display": null,
       "flex": null,
       "flex_flow": null,
       "grid_area": null,
       "grid_auto_columns": null,
       "grid_auto_flow": null,
       "grid_auto_rows": null,
       "grid_column": null,
       "grid_gap": null,
       "grid_row": null,
       "grid_template_areas": null,
       "grid_template_columns": null,
       "grid_template_rows": null,
       "height": null,
       "justify_content": null,
       "justify_items": null,
       "left": null,
       "margin": null,
       "max_height": null,
       "max_width": null,
       "min_height": null,
       "min_width": null,
       "object_fit": null,
       "object_position": null,
       "order": null,
       "overflow": null,
       "overflow_x": null,
       "overflow_y": null,
       "padding": null,
       "right": null,
       "top": null,
       "visibility": null,
       "width": null
      }
     },
     "5e8992d56afa4b0d92f0328d75ce9d0d": {
      "model_module": "@jupyter-widgets/controls",
      "model_module_version": "1.5.0",
      "model_name": "HTMLModel",
      "state": {
       "_dom_classes": [],
       "_model_module": "@jupyter-widgets/controls",
       "_model_module_version": "1.5.0",
       "_model_name": "HTMLModel",
       "_view_count": null,
       "_view_module": "@jupyter-widgets/controls",
       "_view_module_version": "1.5.0",
       "_view_name": "HTMLView",
       "description": "",
       "description_tooltip": null,
       "layout": "IPY_MODEL_18e96a7d223c440b85dddca602887c9e",
       "placeholder": "​",
       "style": "IPY_MODEL_307a4a80c9ee4aab8e1a97025c2e62a1",
       "value": " 67.0/67.0 [00:00&lt;00:00, 5.78kB/s]"
      }
     },
     "5f6cfdc73e034f3bafeb9be8443a2969": {
      "model_module": "@jupyter-widgets/base",
      "model_module_version": "1.2.0",
      "model_name": "LayoutModel",
      "state": {
       "_model_module": "@jupyter-widgets/base",
       "_model_module_version": "1.2.0",
       "_model_name": "LayoutModel",
       "_view_count": null,
       "_view_module": "@jupyter-widgets/base",
       "_view_module_version": "1.2.0",
       "_view_name": "LayoutView",
       "align_content": null,
       "align_items": null,
       "align_self": null,
       "border": null,
       "bottom": null,
       "display": null,
       "flex": null,
       "flex_flow": null,
       "grid_area": null,
       "grid_auto_columns": null,
       "grid_auto_flow": null,
       "grid_auto_rows": null,
       "grid_column": null,
       "grid_gap": null,
       "grid_row": null,
       "grid_template_areas": null,
       "grid_template_columns": null,
       "grid_template_rows": null,
       "height": null,
       "justify_content": null,
       "justify_items": null,
       "left": null,
       "margin": null,
       "max_height": null,
       "max_width": null,
       "min_height": null,
       "min_width": null,
       "object_fit": null,
       "object_position": null,
       "order": null,
       "overflow": null,
       "overflow_x": null,
       "overflow_y": null,
       "padding": null,
       "right": null,
       "top": null,
       "visibility": null,
       "width": null
      }
     },
     "5f7e13cbd76345d4b420608c16db8984": {
      "model_module": "@jupyter-widgets/controls",
      "model_module_version": "1.5.0",
      "model_name": "HBoxModel",
      "state": {
       "_dom_classes": [],
       "_model_module": "@jupyter-widgets/controls",
       "_model_module_version": "1.5.0",
       "_model_name": "HBoxModel",
       "_view_count": null,
       "_view_module": "@jupyter-widgets/controls",
       "_view_module_version": "1.5.0",
       "_view_name": "HBoxView",
       "box_style": "",
       "children": [
        "IPY_MODEL_0dfe088519d04173a7d777b14d464dca",
        "IPY_MODEL_2729a116ade5411db9e5ec173d86d2aa",
        "IPY_MODEL_4a589635af714a6e9252d338031c90de"
       ],
       "layout": "IPY_MODEL_3bbd25a5774943d38b71e9b1d7d759fe"
      }
     },
     "60870471203048abbc2a69b5321bd2e0": {
      "model_module": "@jupyter-widgets/base",
      "model_module_version": "1.2.0",
      "model_name": "LayoutModel",
      "state": {
       "_model_module": "@jupyter-widgets/base",
       "_model_module_version": "1.2.0",
       "_model_name": "LayoutModel",
       "_view_count": null,
       "_view_module": "@jupyter-widgets/base",
       "_view_module_version": "1.2.0",
       "_view_name": "LayoutView",
       "align_content": null,
       "align_items": null,
       "align_self": null,
       "border": null,
       "bottom": null,
       "display": null,
       "flex": null,
       "flex_flow": null,
       "grid_area": null,
       "grid_auto_columns": null,
       "grid_auto_flow": null,
       "grid_auto_rows": null,
       "grid_column": null,
       "grid_gap": null,
       "grid_row": null,
       "grid_template_areas": null,
       "grid_template_columns": null,
       "grid_template_rows": null,
       "height": null,
       "justify_content": null,
       "justify_items": null,
       "left": null,
       "margin": null,
       "max_height": null,
       "max_width": null,
       "min_height": null,
       "min_width": null,
       "object_fit": null,
       "object_position": null,
       "order": null,
       "overflow": null,
       "overflow_x": null,
       "overflow_y": null,
       "padding": null,
       "right": null,
       "top": null,
       "visibility": null,
       "width": null
      }
     },
     "619f3dfc9b3f42cf99db5796e5d82e54": {
      "model_module": "@jupyter-widgets/controls",
      "model_module_version": "1.5.0",
      "model_name": "DescriptionStyleModel",
      "state": {
       "_model_module": "@jupyter-widgets/controls",
       "_model_module_version": "1.5.0",
       "_model_name": "DescriptionStyleModel",
       "_view_count": null,
       "_view_module": "@jupyter-widgets/base",
       "_view_module_version": "1.2.0",
       "_view_name": "StyleView",
       "description_width": ""
      }
     },
     "63842a5b4aee4a0b88ec0cfcf3c78819": {
      "model_module": "@jupyter-widgets/controls",
      "model_module_version": "1.5.0",
      "model_name": "ProgressStyleModel",
      "state": {
       "_model_module": "@jupyter-widgets/controls",
       "_model_module_version": "1.5.0",
       "_model_name": "ProgressStyleModel",
       "_view_count": null,
       "_view_module": "@jupyter-widgets/base",
       "_view_module_version": "1.2.0",
       "_view_name": "StyleView",
       "bar_color": null,
       "description_width": ""
      }
     },
     "66c0dd6f262c4ccbba6ed0f954180d65": {
      "model_module": "@jupyter-widgets/controls",
      "model_module_version": "1.5.0",
      "model_name": "HTMLModel",
      "state": {
       "_dom_classes": [],
       "_model_module": "@jupyter-widgets/controls",
       "_model_module_version": "1.5.0",
       "_model_name": "HTMLModel",
       "_view_count": null,
       "_view_module": "@jupyter-widgets/controls",
       "_view_module_version": "1.5.0",
       "_view_name": "HTMLView",
       "description": "",
       "description_tooltip": null,
       "layout": "IPY_MODEL_fb172f827eff4c5e9b61eca519a6b6eb",
       "placeholder": "​",
       "style": "IPY_MODEL_810acd2aa7cd4193ba2a1f252ce1c7c9",
       "value": "config.json: 100%"
      }
     },
     "672bd78575764707aae2fffbd349a036": {
      "model_module": "@jupyter-widgets/controls",
      "model_module_version": "1.5.0",
      "model_name": "ProgressStyleModel",
      "state": {
       "_model_module": "@jupyter-widgets/controls",
       "_model_module_version": "1.5.0",
       "_model_name": "ProgressStyleModel",
       "_view_count": null,
       "_view_module": "@jupyter-widgets/base",
       "_view_module_version": "1.2.0",
       "_view_name": "StyleView",
       "bar_color": null,
       "description_width": ""
      }
     },
     "6ca82b58d9b645669f08df0d5ff834f1": {
      "model_module": "@jupyter-widgets/base",
      "model_module_version": "1.2.0",
      "model_name": "LayoutModel",
      "state": {
       "_model_module": "@jupyter-widgets/base",
       "_model_module_version": "1.2.0",
       "_model_name": "LayoutModel",
       "_view_count": null,
       "_view_module": "@jupyter-widgets/base",
       "_view_module_version": "1.2.0",
       "_view_name": "LayoutView",
       "align_content": null,
       "align_items": null,
       "align_self": null,
       "border": null,
       "bottom": null,
       "display": null,
       "flex": null,
       "flex_flow": null,
       "grid_area": null,
       "grid_auto_columns": null,
       "grid_auto_flow": null,
       "grid_auto_rows": null,
       "grid_column": null,
       "grid_gap": null,
       "grid_row": null,
       "grid_template_areas": null,
       "grid_template_columns": null,
       "grid_template_rows": null,
       "height": null,
       "justify_content": null,
       "justify_items": null,
       "left": null,
       "margin": null,
       "max_height": null,
       "max_width": null,
       "min_height": null,
       "min_width": null,
       "object_fit": null,
       "object_position": null,
       "order": null,
       "overflow": null,
       "overflow_x": null,
       "overflow_y": null,
       "padding": null,
       "right": null,
       "top": null,
       "visibility": null,
       "width": null
      }
     },
     "70a002ce61ca4444951cd54d65562fce": {
      "model_module": "@jupyter-widgets/controls",
      "model_module_version": "1.5.0",
      "model_name": "DescriptionStyleModel",
      "state": {
       "_model_module": "@jupyter-widgets/controls",
       "_model_module_version": "1.5.0",
       "_model_name": "DescriptionStyleModel",
       "_view_count": null,
       "_view_module": "@jupyter-widgets/base",
       "_view_module_version": "1.2.0",
       "_view_name": "StyleView",
       "description_width": ""
      }
     },
     "70a87e2210b043a6bfbc2b145a93cbff": {
      "model_module": "@jupyter-widgets/base",
      "model_module_version": "1.2.0",
      "model_name": "LayoutModel",
      "state": {
       "_model_module": "@jupyter-widgets/base",
       "_model_module_version": "1.2.0",
       "_model_name": "LayoutModel",
       "_view_count": null,
       "_view_module": "@jupyter-widgets/base",
       "_view_module_version": "1.2.0",
       "_view_name": "LayoutView",
       "align_content": null,
       "align_items": null,
       "align_self": null,
       "border": null,
       "bottom": null,
       "display": null,
       "flex": null,
       "flex_flow": null,
       "grid_area": null,
       "grid_auto_columns": null,
       "grid_auto_flow": null,
       "grid_auto_rows": null,
       "grid_column": null,
       "grid_gap": null,
       "grid_row": null,
       "grid_template_areas": null,
       "grid_template_columns": null,
       "grid_template_rows": null,
       "height": null,
       "justify_content": null,
       "justify_items": null,
       "left": null,
       "margin": null,
       "max_height": null,
       "max_width": null,
       "min_height": null,
       "min_width": null,
       "object_fit": null,
       "object_position": null,
       "order": null,
       "overflow": null,
       "overflow_x": null,
       "overflow_y": null,
       "padding": null,
       "right": null,
       "top": null,
       "visibility": null,
       "width": null
      }
     },
     "70b2ce63d5814f4b93cfc038ceec16cf": {
      "model_module": "@jupyter-widgets/controls",
      "model_module_version": "1.5.0",
      "model_name": "HTMLModel",
      "state": {
       "_dom_classes": [],
       "_model_module": "@jupyter-widgets/controls",
       "_model_module_version": "1.5.0",
       "_model_name": "HTMLModel",
       "_view_count": null,
       "_view_module": "@jupyter-widgets/controls",
       "_view_module_version": "1.5.0",
       "_view_name": "HTMLView",
       "description": "",
       "description_tooltip": null,
       "layout": "IPY_MODEL_431f813fbfb74ae684d061cbece75602",
       "placeholder": "​",
       "style": "IPY_MODEL_548a09637dbb40a6ac01fd636979b512",
       "value": " 315k/315k [00:00&lt;00:00, 22.4MB/s]"
      }
     },
     "71853388dee34db6bfe5728b332850a6": {
      "model_module": "@jupyter-widgets/controls",
      "model_module_version": "1.5.0",
      "model_name": "HBoxModel",
      "state": {
       "_dom_classes": [],
       "_model_module": "@jupyter-widgets/controls",
       "_model_module_version": "1.5.0",
       "_model_name": "HBoxModel",
       "_view_count": null,
       "_view_module": "@jupyter-widgets/controls",
       "_view_module_version": "1.5.0",
       "_view_name": "HBoxView",
       "box_style": "",
       "children": [
        "IPY_MODEL_40712f7cafa34bea8f27b05a61aaa013",
        "IPY_MODEL_f40ef8ed198a46ed86503e25eb2f9327",
        "IPY_MODEL_8d2fc5d3580f4b58bb83bc62d0bc972a"
       ],
       "layout": "IPY_MODEL_c5da7a36060441f49fdddfa4b1b5f0dc"
      }
     },
     "73c05985129f4b8281c16abd1e81c82b": {
      "model_module": "@jupyter-widgets/base",
      "model_module_version": "1.2.0",
      "model_name": "LayoutModel",
      "state": {
       "_model_module": "@jupyter-widgets/base",
       "_model_module_version": "1.2.0",
       "_model_name": "LayoutModel",
       "_view_count": null,
       "_view_module": "@jupyter-widgets/base",
       "_view_module_version": "1.2.0",
       "_view_name": "LayoutView",
       "align_content": null,
       "align_items": null,
       "align_self": null,
       "border": null,
       "bottom": null,
       "display": null,
       "flex": null,
       "flex_flow": null,
       "grid_area": null,
       "grid_auto_columns": null,
       "grid_auto_flow": null,
       "grid_auto_rows": null,
       "grid_column": null,
       "grid_gap": null,
       "grid_row": null,
       "grid_template_areas": null,
       "grid_template_columns": null,
       "grid_template_rows": null,
       "height": null,
       "justify_content": null,
       "justify_items": null,
       "left": null,
       "margin": null,
       "max_height": null,
       "max_width": null,
       "min_height": null,
       "min_width": null,
       "object_fit": null,
       "object_position": null,
       "order": null,
       "overflow": null,
       "overflow_x": null,
       "overflow_y": null,
       "padding": null,
       "right": null,
       "top": null,
       "visibility": null,
       "width": null
      }
     },
     "75e96ae64b6d4f61a14fbf10ccb37bc0": {
      "model_module": "@jupyter-widgets/controls",
      "model_module_version": "1.5.0",
      "model_name": "ProgressStyleModel",
      "state": {
       "_model_module": "@jupyter-widgets/controls",
       "_model_module_version": "1.5.0",
       "_model_name": "ProgressStyleModel",
       "_view_count": null,
       "_view_module": "@jupyter-widgets/base",
       "_view_module_version": "1.2.0",
       "_view_name": "StyleView",
       "bar_color": null,
       "description_width": ""
      }
     },
     "75fdfe6bd0694201a09fbda439e4ad41": {
      "model_module": "@jupyter-widgets/controls",
      "model_module_version": "1.5.0",
      "model_name": "DescriptionStyleModel",
      "state": {
       "_model_module": "@jupyter-widgets/controls",
       "_model_module_version": "1.5.0",
       "_model_name": "DescriptionStyleModel",
       "_view_count": null,
       "_view_module": "@jupyter-widgets/base",
       "_view_module_version": "1.2.0",
       "_view_name": "StyleView",
       "description_width": ""
      }
     },
     "784042046a2d43f6b4a74113d151646f": {
      "model_module": "@jupyter-widgets/controls",
      "model_module_version": "1.5.0",
      "model_name": "HBoxModel",
      "state": {
       "_dom_classes": [],
       "_model_module": "@jupyter-widgets/controls",
       "_model_module_version": "1.5.0",
       "_model_name": "HBoxModel",
       "_view_count": null,
       "_view_module": "@jupyter-widgets/controls",
       "_view_module_version": "1.5.0",
       "_view_name": "HBoxView",
       "box_style": "",
       "children": [
        "IPY_MODEL_b4ce516fe5cf4d89a14655a62934d3dd",
        "IPY_MODEL_bd692ee1c37140f290a54e554490ffe1",
        "IPY_MODEL_70b2ce63d5814f4b93cfc038ceec16cf"
       ],
       "layout": "IPY_MODEL_7f59214cd963428c88d406964a913241"
      }
     },
     "78a16e1efb864bfd82dc4426bb663560": {
      "model_module": "@jupyter-widgets/controls",
      "model_module_version": "1.5.0",
      "model_name": "HTMLModel",
      "state": {
       "_dom_classes": [],
       "_model_module": "@jupyter-widgets/controls",
       "_model_module_version": "1.5.0",
       "_model_name": "HTMLModel",
       "_view_count": null,
       "_view_module": "@jupyter-widgets/controls",
       "_view_module_version": "1.5.0",
       "_view_name": "HTMLView",
       "description": "",
       "description_tooltip": null,
       "layout": "IPY_MODEL_fe566f4a28a840288f9d0ed447676cdf",
       "placeholder": "​",
       "style": "IPY_MODEL_4a07e503e8cb475aacd9e9cb8e5a496d",
       "value": " 1.08G/1.08G [00:26&lt;00:00, 29.3MB/s]"
      }
     },
     "78caaa1cc64941f481ab6a85c6808f00": {
      "model_module": "@jupyter-widgets/controls",
      "model_module_version": "1.5.0",
      "model_name": "FloatProgressModel",
      "state": {
       "_dom_classes": [],
       "_model_module": "@jupyter-widgets/controls",
       "_model_module_version": "1.5.0",
       "_model_name": "FloatProgressModel",
       "_view_count": null,
       "_view_module": "@jupyter-widgets/controls",
       "_view_module_version": "1.5.0",
       "_view_name": "ProgressView",
       "bar_style": "success",
       "description": "",
       "description_tooltip": null,
       "layout": "IPY_MODEL_98038378c03d4dc887866584707ba252",
       "max": 67.0,
       "min": 0.0,
       "orientation": "horizontal",
       "style": "IPY_MODEL_054261049f964ac1befce25ef63fe20a",
       "value": 67.0
      }
     },
     "7b154d8e1f094e84a836a0bfc7a8ab0d": {
      "model_module": "@jupyter-widgets/controls",
      "model_module_version": "1.5.0",
      "model_name": "DescriptionStyleModel",
      "state": {
       "_model_module": "@jupyter-widgets/controls",
       "_model_module_version": "1.5.0",
       "_model_name": "DescriptionStyleModel",
       "_view_count": null,
       "_view_module": "@jupyter-widgets/base",
       "_view_module_version": "1.2.0",
       "_view_name": "StyleView",
       "description_width": ""
      }
     },
     "7ba142de79fd454bb808772825969ff0": {
      "model_module": "@jupyter-widgets/base",
      "model_module_version": "1.2.0",
      "model_name": "LayoutModel",
      "state": {
       "_model_module": "@jupyter-widgets/base",
       "_model_module_version": "1.2.0",
       "_model_name": "LayoutModel",
       "_view_count": null,
       "_view_module": "@jupyter-widgets/base",
       "_view_module_version": "1.2.0",
       "_view_name": "LayoutView",
       "align_content": null,
       "align_items": null,
       "align_self": null,
       "border": null,
       "bottom": null,
       "display": null,
       "flex": null,
       "flex_flow": null,
       "grid_area": null,
       "grid_auto_columns": null,
       "grid_auto_flow": null,
       "grid_auto_rows": null,
       "grid_column": null,
       "grid_gap": null,
       "grid_row": null,
       "grid_template_areas": null,
       "grid_template_columns": null,
       "grid_template_rows": null,
       "height": null,
       "justify_content": null,
       "justify_items": null,
       "left": null,
       "margin": null,
       "max_height": null,
       "max_width": null,
       "min_height": null,
       "min_width": null,
       "object_fit": null,
       "object_position": null,
       "order": null,
       "overflow": null,
       "overflow_x": null,
       "overflow_y": null,
       "padding": null,
       "right": null,
       "top": null,
       "visibility": null,
       "width": null
      }
     },
     "7f59214cd963428c88d406964a913241": {
      "model_module": "@jupyter-widgets/base",
      "model_module_version": "1.2.0",
      "model_name": "LayoutModel",
      "state": {
       "_model_module": "@jupyter-widgets/base",
       "_model_module_version": "1.2.0",
       "_model_name": "LayoutModel",
       "_view_count": null,
       "_view_module": "@jupyter-widgets/base",
       "_view_module_version": "1.2.0",
       "_view_name": "LayoutView",
       "align_content": null,
       "align_items": null,
       "align_self": null,
       "border": null,
       "bottom": null,
       "display": null,
       "flex": null,
       "flex_flow": null,
       "grid_area": null,
       "grid_auto_columns": null,
       "grid_auto_flow": null,
       "grid_auto_rows": null,
       "grid_column": null,
       "grid_gap": null,
       "grid_row": null,
       "grid_template_areas": null,
       "grid_template_columns": null,
       "grid_template_rows": null,
       "height": null,
       "justify_content": null,
       "justify_items": null,
       "left": null,
       "margin": null,
       "max_height": null,
       "max_width": null,
       "min_height": null,
       "min_width": null,
       "object_fit": null,
       "object_position": null,
       "order": null,
       "overflow": null,
       "overflow_x": null,
       "overflow_y": null,
       "padding": null,
       "right": null,
       "top": null,
       "visibility": null,
       "width": null
      }
     },
     "7fbbf5275d684358833ce6822b4275ff": {
      "model_module": "@jupyter-widgets/base",
      "model_module_version": "1.2.0",
      "model_name": "LayoutModel",
      "state": {
       "_model_module": "@jupyter-widgets/base",
       "_model_module_version": "1.2.0",
       "_model_name": "LayoutModel",
       "_view_count": null,
       "_view_module": "@jupyter-widgets/base",
       "_view_module_version": "1.2.0",
       "_view_name": "LayoutView",
       "align_content": null,
       "align_items": null,
       "align_self": null,
       "border": null,
       "bottom": null,
       "display": null,
       "flex": null,
       "flex_flow": null,
       "grid_area": null,
       "grid_auto_columns": null,
       "grid_auto_flow": null,
       "grid_auto_rows": null,
       "grid_column": null,
       "grid_gap": null,
       "grid_row": null,
       "grid_template_areas": null,
       "grid_template_columns": null,
       "grid_template_rows": null,
       "height": null,
       "justify_content": null,
       "justify_items": null,
       "left": null,
       "margin": null,
       "max_height": null,
       "max_width": null,
       "min_height": null,
       "min_width": null,
       "object_fit": null,
       "object_position": null,
       "order": null,
       "overflow": null,
       "overflow_x": null,
       "overflow_y": null,
       "padding": null,
       "right": null,
       "top": null,
       "visibility": null,
       "width": null
      }
     },
     "804f0f5248aa453386f7d7f45209c0da": {
      "model_module": "@jupyter-widgets/controls",
      "model_module_version": "1.5.0",
      "model_name": "DescriptionStyleModel",
      "state": {
       "_model_module": "@jupyter-widgets/controls",
       "_model_module_version": "1.5.0",
       "_model_name": "DescriptionStyleModel",
       "_view_count": null,
       "_view_module": "@jupyter-widgets/base",
       "_view_module_version": "1.2.0",
       "_view_name": "StyleView",
       "description_width": ""
      }
     },
     "810acd2aa7cd4193ba2a1f252ce1c7c9": {
      "model_module": "@jupyter-widgets/controls",
      "model_module_version": "1.5.0",
      "model_name": "DescriptionStyleModel",
      "state": {
       "_model_module": "@jupyter-widgets/controls",
       "_model_module_version": "1.5.0",
       "_model_name": "DescriptionStyleModel",
       "_view_count": null,
       "_view_module": "@jupyter-widgets/base",
       "_view_module_version": "1.2.0",
       "_view_name": "StyleView",
       "description_width": ""
      }
     },
     "8272b96715ad499fa98187394f1daccc": {
      "model_module": "@jupyter-widgets/controls",
      "model_module_version": "1.5.0",
      "model_name": "HTMLModel",
      "state": {
       "_dom_classes": [],
       "_model_module": "@jupyter-widgets/controls",
       "_model_module_version": "1.5.0",
       "_model_name": "HTMLModel",
       "_view_count": null,
       "_view_module": "@jupyter-widgets/controls",
       "_view_module_version": "1.5.0",
       "_view_name": "HTMLView",
       "description": "",
       "description_tooltip": null,
       "layout": "IPY_MODEL_bf380e5ca5b546a997feea22fbf77964",
       "placeholder": "​",
       "style": "IPY_MODEL_41475806b0434e9b9898b1fda2829e4d",
       "value": "model.safetensors: 100%"
      }
     },
     "827ab2d28aba4bbfafb564944a018815": {
      "model_module": "@jupyter-widgets/controls",
      "model_module_version": "1.5.0",
      "model_name": "HBoxModel",
      "state": {
       "_dom_classes": [],
       "_model_module": "@jupyter-widgets/controls",
       "_model_module_version": "1.5.0",
       "_model_name": "HBoxModel",
       "_view_count": null,
       "_view_module": "@jupyter-widgets/controls",
       "_view_module_version": "1.5.0",
       "_view_name": "HBoxView",
       "box_style": "",
       "children": [
        "IPY_MODEL_f7886041b57c4f578c729bc08e53d008",
        "IPY_MODEL_b7d0e4880df84bacb4c62702a985a7c0",
        "IPY_MODEL_ea4bd4d0ebd44955a422f48fc127684b"
       ],
       "layout": "IPY_MODEL_9968f2367777481c8d154780b996c03a"
      }
     },
     "89a5eaafa71d4f5ea8b1133c83ebfb3a": {
      "model_module": "@jupyter-widgets/controls",
      "model_module_version": "1.5.0",
      "model_name": "DescriptionStyleModel",
      "state": {
       "_model_module": "@jupyter-widgets/controls",
       "_model_module_version": "1.5.0",
       "_model_name": "DescriptionStyleModel",
       "_view_count": null,
       "_view_module": "@jupyter-widgets/base",
       "_view_module_version": "1.2.0",
       "_view_name": "StyleView",
       "description_width": ""
      }
     },
     "8a45bbaae9f9462cabe1cf7a5b01398f": {
      "model_module": "@jupyter-widgets/controls",
      "model_module_version": "1.5.0",
      "model_name": "HBoxModel",
      "state": {
       "_dom_classes": [],
       "_model_module": "@jupyter-widgets/controls",
       "_model_module_version": "1.5.0",
       "_model_name": "HBoxModel",
       "_view_count": null,
       "_view_module": "@jupyter-widgets/controls",
       "_view_module_version": "1.5.0",
       "_view_name": "HBoxView",
       "box_style": "",
       "children": [
        "IPY_MODEL_520432cec5a946649524827c7ea5c909",
        "IPY_MODEL_78caaa1cc64941f481ab6a85c6808f00",
        "IPY_MODEL_5e8992d56afa4b0d92f0328d75ce9d0d"
       ],
       "layout": "IPY_MODEL_d4cf271fcd4b4e7c949f870bed961a4f"
      }
     },
     "8c9550e8c68547cd94833f61d288b78c": {
      "model_module": "@jupyter-widgets/base",
      "model_module_version": "1.2.0",
      "model_name": "LayoutModel",
      "state": {
       "_model_module": "@jupyter-widgets/base",
       "_model_module_version": "1.2.0",
       "_model_name": "LayoutModel",
       "_view_count": null,
       "_view_module": "@jupyter-widgets/base",
       "_view_module_version": "1.2.0",
       "_view_name": "LayoutView",
       "align_content": null,
       "align_items": null,
       "align_self": null,
       "border": null,
       "bottom": null,
       "display": null,
       "flex": null,
       "flex_flow": null,
       "grid_area": null,
       "grid_auto_columns": null,
       "grid_auto_flow": null,
       "grid_auto_rows": null,
       "grid_column": null,
       "grid_gap": null,
       "grid_row": null,
       "grid_template_areas": null,
       "grid_template_columns": null,
       "grid_template_rows": null,
       "height": null,
       "justify_content": null,
       "justify_items": null,
       "left": null,
       "margin": null,
       "max_height": null,
       "max_width": null,
       "min_height": null,
       "min_width": null,
       "object_fit": null,
       "object_position": null,
       "order": null,
       "overflow": null,
       "overflow_x": null,
       "overflow_y": null,
       "padding": null,
       "right": null,
       "top": null,
       "visibility": null,
       "width": null
      }
     },
     "8d2fc5d3580f4b58bb83bc62d0bc972a": {
      "model_module": "@jupyter-widgets/controls",
      "model_module_version": "1.5.0",
      "model_name": "HTMLModel",
      "state": {
       "_dom_classes": [],
       "_model_module": "@jupyter-widgets/controls",
       "_model_module_version": "1.5.0",
       "_model_name": "HTMLModel",
       "_view_count": null,
       "_view_module": "@jupyter-widgets/controls",
       "_view_module_version": "1.5.0",
       "_view_name": "HTMLView",
       "description": "",
       "description_tooltip": null,
       "layout": "IPY_MODEL_d4f6f746b1e649e7a58b68d52984f594",
       "placeholder": "​",
       "style": "IPY_MODEL_e844f273606a45e2a7b8640eb37d5443",
       "value": " 849k/849k [00:00&lt;00:00, 1.08MB/s]"
      }
     },
     "8d702eeff15c40ce86806c1baa3c0ec6": {
      "model_module": "@jupyter-widgets/controls",
      "model_module_version": "1.5.0",
      "model_name": "HTMLModel",
      "state": {
       "_dom_classes": [],
       "_model_module": "@jupyter-widgets/controls",
       "_model_module_version": "1.5.0",
       "_model_name": "HTMLModel",
       "_view_count": null,
       "_view_module": "@jupyter-widgets/controls",
       "_view_module_version": "1.5.0",
       "_view_name": "HTMLView",
       "description": "",
       "description_tooltip": null,
       "layout": "IPY_MODEL_e45c39c9c82647ffbe9f6b92f0606bfc",
       "placeholder": "​",
       "style": "IPY_MODEL_3239a8c53e144c039a1cde28b3b36bb1",
       "value": "merges.txt: 100%"
      }
     },
     "908c9f3dde5547cdbbda573e392239c3": {
      "model_module": "@jupyter-widgets/controls",
      "model_module_version": "1.5.0",
      "model_name": "DescriptionStyleModel",
      "state": {
       "_model_module": "@jupyter-widgets/controls",
       "_model_module_version": "1.5.0",
       "_model_name": "DescriptionStyleModel",
       "_view_count": null,
       "_view_module": "@jupyter-widgets/base",
       "_view_module_version": "1.2.0",
       "_view_name": "StyleView",
       "description_width": ""
      }
     },
     "90a78cde005c44a79402ff8152c0c6bb": {
      "model_module": "@jupyter-widgets/base",
      "model_module_version": "1.2.0",
      "model_name": "LayoutModel",
      "state": {
       "_model_module": "@jupyter-widgets/base",
       "_model_module_version": "1.2.0",
       "_model_name": "LayoutModel",
       "_view_count": null,
       "_view_module": "@jupyter-widgets/base",
       "_view_module_version": "1.2.0",
       "_view_name": "LayoutView",
       "align_content": null,
       "align_items": null,
       "align_self": null,
       "border": null,
       "bottom": null,
       "display": null,
       "flex": null,
       "flex_flow": null,
       "grid_area": null,
       "grid_auto_columns": null,
       "grid_auto_flow": null,
       "grid_auto_rows": null,
       "grid_column": null,
       "grid_gap": null,
       "grid_row": null,
       "grid_template_areas": null,
       "grid_template_columns": null,
       "grid_template_rows": null,
       "height": null,
       "justify_content": null,
       "justify_items": null,
       "left": null,
       "margin": null,
       "max_height": null,
       "max_width": null,
       "min_height": null,
       "min_width": null,
       "object_fit": null,
       "object_position": null,
       "order": null,
       "overflow": null,
       "overflow_x": null,
       "overflow_y": null,
       "padding": null,
       "right": null,
       "top": null,
       "visibility": null,
       "width": null
      }
     },
     "91b0ebac8e4e40219050dc2e63fa61ba": {
      "model_module": "@jupyter-widgets/base",
      "model_module_version": "1.2.0",
      "model_name": "LayoutModel",
      "state": {
       "_model_module": "@jupyter-widgets/base",
       "_model_module_version": "1.2.0",
       "_model_name": "LayoutModel",
       "_view_count": null,
       "_view_module": "@jupyter-widgets/base",
       "_view_module_version": "1.2.0",
       "_view_name": "LayoutView",
       "align_content": null,
       "align_items": null,
       "align_self": null,
       "border": null,
       "bottom": null,
       "display": null,
       "flex": null,
       "flex_flow": null,
       "grid_area": null,
       "grid_auto_columns": null,
       "grid_auto_flow": null,
       "grid_auto_rows": null,
       "grid_column": null,
       "grid_gap": null,
       "grid_row": null,
       "grid_template_areas": null,
       "grid_template_columns": null,
       "grid_template_rows": null,
       "height": null,
       "justify_content": null,
       "justify_items": null,
       "left": null,
       "margin": null,
       "max_height": null,
       "max_width": null,
       "min_height": null,
       "min_width": null,
       "object_fit": null,
       "object_position": null,
       "order": null,
       "overflow": null,
       "overflow_x": null,
       "overflow_y": null,
       "padding": null,
       "right": null,
       "top": null,
       "visibility": null,
       "width": null
      }
     },
     "9235f186748d4a26bc717b02c7a76f16": {
      "model_module": "@jupyter-widgets/controls",
      "model_module_version": "1.5.0",
      "model_name": "FloatProgressModel",
      "state": {
       "_dom_classes": [],
       "_model_module": "@jupyter-widgets/controls",
       "_model_module_version": "1.5.0",
       "_model_name": "FloatProgressModel",
       "_view_count": null,
       "_view_module": "@jupyter-widgets/controls",
       "_view_module_version": "1.5.0",
       "_view_name": "ProgressView",
       "bar_style": "success",
       "description": "",
       "description_tooltip": null,
       "layout": "IPY_MODEL_27c37d0baa974d15a5cf76facaa3cf0a",
       "max": 67.0,
       "min": 0.0,
       "orientation": "horizontal",
       "style": "IPY_MODEL_0e9b16bead0d4fb192ece8ca156bb665",
       "value": 67.0
      }
     },
     "9334423268ac41299dca00de900bfd01": {
      "model_module": "@jupyter-widgets/base",
      "model_module_version": "1.2.0",
      "model_name": "LayoutModel",
      "state": {
       "_model_module": "@jupyter-widgets/base",
       "_model_module_version": "1.2.0",
       "_model_name": "LayoutModel",
       "_view_count": null,
       "_view_module": "@jupyter-widgets/base",
       "_view_module_version": "1.2.0",
       "_view_name": "LayoutView",
       "align_content": null,
       "align_items": null,
       "align_self": null,
       "border": null,
       "bottom": null,
       "display": null,
       "flex": null,
       "flex_flow": null,
       "grid_area": null,
       "grid_auto_columns": null,
       "grid_auto_flow": null,
       "grid_auto_rows": null,
       "grid_column": null,
       "grid_gap": null,
       "grid_row": null,
       "grid_template_areas": null,
       "grid_template_columns": null,
       "grid_template_rows": null,
       "height": null,
       "justify_content": null,
       "justify_items": null,
       "left": null,
       "margin": null,
       "max_height": null,
       "max_width": null,
       "min_height": null,
       "min_width": null,
       "object_fit": null,
       "object_position": null,
       "order": null,
       "overflow": null,
       "overflow_x": null,
       "overflow_y": null,
       "padding": null,
       "right": null,
       "top": null,
       "visibility": null,
       "width": null
      }
     },
     "95684e27ebc84a519ae932df45ba434f": {
      "model_module": "@jupyter-widgets/controls",
      "model_module_version": "1.5.0",
      "model_name": "HTMLModel",
      "state": {
       "_dom_classes": [],
       "_model_module": "@jupyter-widgets/controls",
       "_model_module_version": "1.5.0",
       "_model_name": "HTMLModel",
       "_view_count": null,
       "_view_module": "@jupyter-widgets/controls",
       "_view_module_version": "1.5.0",
       "_view_name": "HTMLView",
       "description": "",
       "description_tooltip": null,
       "layout": "IPY_MODEL_7ba142de79fd454bb808772825969ff0",
       "placeholder": "​",
       "style": "IPY_MODEL_b7d4b083c06d4a81b43b714b926504ed",
       "value": " 1.36M/1.36M [00:00&lt;00:00, 1.38MB/s]"
      }
     },
     "98038378c03d4dc887866584707ba252": {
      "model_module": "@jupyter-widgets/base",
      "model_module_version": "1.2.0",
      "model_name": "LayoutModel",
      "state": {
       "_model_module": "@jupyter-widgets/base",
       "_model_module_version": "1.2.0",
       "_model_name": "LayoutModel",
       "_view_count": null,
       "_view_module": "@jupyter-widgets/base",
       "_view_module_version": "1.2.0",
       "_view_name": "LayoutView",
       "align_content": null,
       "align_items": null,
       "align_self": null,
       "border": null,
       "bottom": null,
       "display": null,
       "flex": null,
       "flex_flow": null,
       "grid_area": null,
       "grid_auto_columns": null,
       "grid_auto_flow": null,
       "grid_auto_rows": null,
       "grid_column": null,
       "grid_gap": null,
       "grid_row": null,
       "grid_template_areas": null,
       "grid_template_columns": null,
       "grid_template_rows": null,
       "height": null,
       "justify_content": null,
       "justify_items": null,
       "left": null,
       "margin": null,
       "max_height": null,
       "max_width": null,
       "min_height": null,
       "min_width": null,
       "object_fit": null,
       "object_position": null,
       "order": null,
       "overflow": null,
       "overflow_x": null,
       "overflow_y": null,
       "padding": null,
       "right": null,
       "top": null,
       "visibility": null,
       "width": null
      }
     },
     "9876df0b64fd4d258263230376034514": {
      "model_module": "@jupyter-widgets/controls",
      "model_module_version": "1.5.0",
      "model_name": "HTMLModel",
      "state": {
       "_dom_classes": [],
       "_model_module": "@jupyter-widgets/controls",
       "_model_module_version": "1.5.0",
       "_model_name": "HTMLModel",
       "_view_count": null,
       "_view_module": "@jupyter-widgets/controls",
       "_view_module_version": "1.5.0",
       "_view_name": "HTMLView",
       "description": "",
       "description_tooltip": null,
       "layout": "IPY_MODEL_bb365e9960f940848ef2a5f3c26cb10f",
       "placeholder": "​",
       "style": "IPY_MODEL_1106fcf7d5a4456d95936b57080952a2",
       "value": "pytorch_model.bin: 100%"
      }
     },
     "9968f2367777481c8d154780b996c03a": {
      "model_module": "@jupyter-widgets/base",
      "model_module_version": "1.2.0",
      "model_name": "LayoutModel",
      "state": {
       "_model_module": "@jupyter-widgets/base",
       "_model_module_version": "1.2.0",
       "_model_name": "LayoutModel",
       "_view_count": null,
       "_view_module": "@jupyter-widgets/base",
       "_view_module_version": "1.2.0",
       "_view_name": "LayoutView",
       "align_content": null,
       "align_items": null,
       "align_self": null,
       "border": null,
       "bottom": null,
       "display": null,
       "flex": null,
       "flex_flow": null,
       "grid_area": null,
       "grid_auto_columns": null,
       "grid_auto_flow": null,
       "grid_auto_rows": null,
       "grid_column": null,
       "grid_gap": null,
       "grid_row": null,
       "grid_template_areas": null,
       "grid_template_columns": null,
       "grid_template_rows": null,
       "height": null,
       "justify_content": null,
       "justify_items": null,
       "left": null,
       "margin": null,
       "max_height": null,
       "max_width": null,
       "min_height": null,
       "min_width": null,
       "object_fit": null,
       "object_position": null,
       "order": null,
       "overflow": null,
       "overflow_x": null,
       "overflow_y": null,
       "padding": null,
       "right": null,
       "top": null,
       "visibility": null,
       "width": null
      }
     },
     "9d1c3d3fe786468f9e9425a4a543cc55": {
      "model_module": "@jupyter-widgets/controls",
      "model_module_version": "1.5.0",
      "model_name": "HTMLModel",
      "state": {
       "_dom_classes": [],
       "_model_module": "@jupyter-widgets/controls",
       "_model_module_version": "1.5.0",
       "_model_name": "HTMLModel",
       "_view_count": null,
       "_view_module": "@jupyter-widgets/controls",
       "_view_module_version": "1.5.0",
       "_view_name": "HTMLView",
       "description": "",
       "description_tooltip": null,
       "layout": "IPY_MODEL_0943b20c6f2b4659a4667d65fbef2d8b",
       "placeholder": "​",
       "style": "IPY_MODEL_a4eb7505459e4619b049bc3c1cf4ebae",
       "value": " 456k/456k [00:00&lt;00:00, 775kB/s]"
      }
     },
     "9de923a3504f439dafde2189cb86ed22": {
      "model_module": "@jupyter-widgets/base",
      "model_module_version": "1.2.0",
      "model_name": "LayoutModel",
      "state": {
       "_model_module": "@jupyter-widgets/base",
       "_model_module_version": "1.2.0",
       "_model_name": "LayoutModel",
       "_view_count": null,
       "_view_module": "@jupyter-widgets/base",
       "_view_module_version": "1.2.0",
       "_view_name": "LayoutView",
       "align_content": null,
       "align_items": null,
       "align_self": null,
       "border": null,
       "bottom": null,
       "display": null,
       "flex": null,
       "flex_flow": null,
       "grid_area": null,
       "grid_auto_columns": null,
       "grid_auto_flow": null,
       "grid_auto_rows": null,
       "grid_column": null,
       "grid_gap": null,
       "grid_row": null,
       "grid_template_areas": null,
       "grid_template_columns": null,
       "grid_template_rows": null,
       "height": null,
       "justify_content": null,
       "justify_items": null,
       "left": null,
       "margin": null,
       "max_height": null,
       "max_width": null,
       "min_height": null,
       "min_width": null,
       "object_fit": null,
       "object_position": null,
       "order": null,
       "overflow": null,
       "overflow_x": null,
       "overflow_y": null,
       "padding": null,
       "right": null,
       "top": null,
       "visibility": null,
       "width": null
      }
     },
     "a11d29e2a69a41dba49727d9a0674e18": {
      "model_module": "@jupyter-widgets/controls",
      "model_module_version": "1.5.0",
      "model_name": "HBoxModel",
      "state": {
       "_dom_classes": [],
       "_model_module": "@jupyter-widgets/controls",
       "_model_module_version": "1.5.0",
       "_model_name": "HBoxModel",
       "_view_count": null,
       "_view_module": "@jupyter-widgets/controls",
       "_view_module_version": "1.5.0",
       "_view_name": "HBoxView",
       "box_style": "",
       "children": [
        "IPY_MODEL_8d702eeff15c40ce86806c1baa3c0ec6",
        "IPY_MODEL_cca433d225bb4a109e6f56b60a94b314",
        "IPY_MODEL_ada24704185942f19d34894f1a68d899"
       ],
       "layout": "IPY_MODEL_a87e4545f80a4298808a68fc753cde20"
      }
     },
     "a37f14b3e0124cfe9b4f332697e74160": {
      "model_module": "@jupyter-widgets/controls",
      "model_module_version": "1.5.0",
      "model_name": "HTMLModel",
      "state": {
       "_dom_classes": [],
       "_model_module": "@jupyter-widgets/controls",
       "_model_module_version": "1.5.0",
       "_model_name": "HTMLModel",
       "_view_count": null,
       "_view_module": "@jupyter-widgets/controls",
       "_view_module_version": "1.5.0",
       "_view_name": "HTMLView",
       "description": "",
       "description_tooltip": null,
       "layout": "IPY_MODEL_4a172c5ce93247a3902b77cbb0df0507",
       "placeholder": "​",
       "style": "IPY_MODEL_defeed95ecd04553b1fc9aacb2dd412e",
       "value": " 481/481 [00:00&lt;00:00, 43.7kB/s]"
      }
     },
     "a40b7e1e982a4daaa6841738e731148e": {
      "model_module": "@jupyter-widgets/controls",
      "model_module_version": "1.5.0",
      "model_name": "HTMLModel",
      "state": {
       "_dom_classes": [],
       "_model_module": "@jupyter-widgets/controls",
       "_model_module_version": "1.5.0",
       "_model_name": "HTMLModel",
       "_view_count": null,
       "_view_module": "@jupyter-widgets/controls",
       "_view_module_version": "1.5.0",
       "_view_name": "HTMLView",
       "description": "",
       "description_tooltip": null,
       "layout": "IPY_MODEL_5f6cfdc73e034f3bafeb9be8443a2969",
       "placeholder": "​",
       "style": "IPY_MODEL_ec4c61d942d44694a9abec428cc91404",
       "value": " 67.0/67.0 [00:00&lt;00:00, 6.03kB/s]"
      }
     },
     "a4a40e347b7e4c60b34355e0a4303624": {
      "model_module": "@jupyter-widgets/base",
      "model_module_version": "1.2.0",
      "model_name": "LayoutModel",
      "state": {
       "_model_module": "@jupyter-widgets/base",
       "_model_module_version": "1.2.0",
       "_model_name": "LayoutModel",
       "_view_count": null,
       "_view_module": "@jupyter-widgets/base",
       "_view_module_version": "1.2.0",
       "_view_name": "LayoutView",
       "align_content": null,
       "align_items": null,
       "align_self": null,
       "border": null,
       "bottom": null,
       "display": null,
       "flex": null,
       "flex_flow": null,
       "grid_area": null,
       "grid_auto_columns": null,
       "grid_auto_flow": null,
       "grid_auto_rows": null,
       "grid_column": null,
       "grid_gap": null,
       "grid_row": null,
       "grid_template_areas": null,
       "grid_template_columns": null,
       "grid_template_rows": null,
       "height": null,
       "justify_content": null,
       "justify_items": null,
       "left": null,
       "margin": null,
       "max_height": null,
       "max_width": null,
       "min_height": null,
       "min_width": null,
       "object_fit": null,
       "object_position": null,
       "order": null,
       "overflow": null,
       "overflow_x": null,
       "overflow_y": null,
       "padding": null,
       "right": null,
       "top": null,
       "visibility": null,
       "width": null
      }
     },
     "a4eb7505459e4619b049bc3c1cf4ebae": {
      "model_module": "@jupyter-widgets/controls",
      "model_module_version": "1.5.0",
      "model_name": "DescriptionStyleModel",
      "state": {
       "_model_module": "@jupyter-widgets/controls",
       "_model_module_version": "1.5.0",
       "_model_name": "DescriptionStyleModel",
       "_view_count": null,
       "_view_module": "@jupyter-widgets/base",
       "_view_module_version": "1.2.0",
       "_view_name": "StyleView",
       "description_width": ""
      }
     },
     "a573e91116ce45c298167d5034f9aa92": {
      "model_module": "@jupyter-widgets/controls",
      "model_module_version": "1.5.0",
      "model_name": "HTMLModel",
      "state": {
       "_dom_classes": [],
       "_model_module": "@jupyter-widgets/controls",
       "_model_module_version": "1.5.0",
       "_model_name": "HTMLModel",
       "_view_count": null,
       "_view_module": "@jupyter-widgets/controls",
       "_view_module_version": "1.5.0",
       "_view_name": "HTMLView",
       "description": "",
       "description_tooltip": null,
       "layout": "IPY_MODEL_13e309883c204ed2b365c79ec2e256e7",
       "placeholder": "​",
       "style": "IPY_MODEL_f4d1b1d7278c4f1bbe5c8183138cce79",
       "value": " 1.08G/1.08G [00:25&lt;00:00, 42.7MB/s]"
      }
     },
     "a637c3a39ae04b43a9b73c2babb18e7d": {
      "model_module": "@jupyter-widgets/base",
      "model_module_version": "1.2.0",
      "model_name": "LayoutModel",
      "state": {
       "_model_module": "@jupyter-widgets/base",
       "_model_module_version": "1.2.0",
       "_model_name": "LayoutModel",
       "_view_count": null,
       "_view_module": "@jupyter-widgets/base",
       "_view_module_version": "1.2.0",
       "_view_name": "LayoutView",
       "align_content": null,
       "align_items": null,
       "align_self": null,
       "border": null,
       "bottom": null,
       "display": null,
       "flex": null,
       "flex_flow": null,
       "grid_area": null,
       "grid_auto_columns": null,
       "grid_auto_flow": null,
       "grid_auto_rows": null,
       "grid_column": null,
       "grid_gap": null,
       "grid_row": null,
       "grid_template_areas": null,
       "grid_template_columns": null,
       "grid_template_rows": null,
       "height": null,
       "justify_content": null,
       "justify_items": null,
       "left": null,
       "margin": null,
       "max_height": null,
       "max_width": null,
       "min_height": null,
       "min_width": null,
       "object_fit": null,
       "object_position": null,
       "order": null,
       "overflow": null,
       "overflow_x": null,
       "overflow_y": null,
       "padding": null,
       "right": null,
       "top": null,
       "visibility": null,
       "width": null
      }
     },
     "a832f5d4c1d84595a65daca6afaca8ee": {
      "model_module": "@jupyter-widgets/controls",
      "model_module_version": "1.5.0",
      "model_name": "DescriptionStyleModel",
      "state": {
       "_model_module": "@jupyter-widgets/controls",
       "_model_module_version": "1.5.0",
       "_model_name": "DescriptionStyleModel",
       "_view_count": null,
       "_view_module": "@jupyter-widgets/base",
       "_view_module_version": "1.2.0",
       "_view_name": "StyleView",
       "description_width": ""
      }
     },
     "a87e4545f80a4298808a68fc753cde20": {
      "model_module": "@jupyter-widgets/base",
      "model_module_version": "1.2.0",
      "model_name": "LayoutModel",
      "state": {
       "_model_module": "@jupyter-widgets/base",
       "_model_module_version": "1.2.0",
       "_model_name": "LayoutModel",
       "_view_count": null,
       "_view_module": "@jupyter-widgets/base",
       "_view_module_version": "1.2.0",
       "_view_name": "LayoutView",
       "align_content": null,
       "align_items": null,
       "align_self": null,
       "border": null,
       "bottom": null,
       "display": null,
       "flex": null,
       "flex_flow": null,
       "grid_area": null,
       "grid_auto_columns": null,
       "grid_auto_flow": null,
       "grid_auto_rows": null,
       "grid_column": null,
       "grid_gap": null,
       "grid_row": null,
       "grid_template_areas": null,
       "grid_template_columns": null,
       "grid_template_rows": null,
       "height": null,
       "justify_content": null,
       "justify_items": null,
       "left": null,
       "margin": null,
       "max_height": null,
       "max_width": null,
       "min_height": null,
       "min_width": null,
       "object_fit": null,
       "object_position": null,
       "order": null,
       "overflow": null,
       "overflow_x": null,
       "overflow_y": null,
       "padding": null,
       "right": null,
       "top": null,
       "visibility": null,
       "width": null
      }
     },
     "a8fc854e3f794a8497e9230848ac32aa": {
      "model_module": "@jupyter-widgets/controls",
      "model_module_version": "1.5.0",
      "model_name": "HTMLModel",
      "state": {
       "_dom_classes": [],
       "_model_module": "@jupyter-widgets/controls",
       "_model_module_version": "1.5.0",
       "_model_name": "HTMLModel",
       "_view_count": null,
       "_view_module": "@jupyter-widgets/controls",
       "_view_module_version": "1.5.0",
       "_view_name": "HTMLView",
       "description": "",
       "description_tooltip": null,
       "layout": "IPY_MODEL_3b421bbe5bd74bc78db93393b9c1f859",
       "placeholder": "​",
       "style": "IPY_MODEL_908c9f3dde5547cdbbda573e392239c3",
       "value": "generation_config.json: 100%"
      }
     },
     "a9f353441f3f402a8f4efe7c4a29980f": {
      "model_module": "@jupyter-widgets/base",
      "model_module_version": "1.2.0",
      "model_name": "LayoutModel",
      "state": {
       "_model_module": "@jupyter-widgets/base",
       "_model_module_version": "1.2.0",
       "_model_name": "LayoutModel",
       "_view_count": null,
       "_view_module": "@jupyter-widgets/base",
       "_view_module_version": "1.2.0",
       "_view_name": "LayoutView",
       "align_content": null,
       "align_items": null,
       "align_self": null,
       "border": null,
       "bottom": null,
       "display": null,
       "flex": null,
       "flex_flow": null,
       "grid_area": null,
       "grid_auto_columns": null,
       "grid_auto_flow": null,
       "grid_auto_rows": null,
       "grid_column": null,
       "grid_gap": null,
       "grid_row": null,
       "grid_template_areas": null,
       "grid_template_columns": null,
       "grid_template_rows": null,
       "height": null,
       "justify_content": null,
       "justify_items": null,
       "left": null,
       "margin": null,
       "max_height": null,
       "max_width": null,
       "min_height": null,
       "min_width": null,
       "object_fit": null,
       "object_position": null,
       "order": null,
       "overflow": null,
       "overflow_x": null,
       "overflow_y": null,
       "padding": null,
       "right": null,
       "top": null,
       "visibility": null,
       "width": null
      }
     },
     "ab0e505bcc75493aa4bb9a1fb6ea55e3": {
      "model_module": "@jupyter-widgets/base",
      "model_module_version": "1.2.0",
      "model_name": "LayoutModel",
      "state": {
       "_model_module": "@jupyter-widgets/base",
       "_model_module_version": "1.2.0",
       "_model_name": "LayoutModel",
       "_view_count": null,
       "_view_module": "@jupyter-widgets/base",
       "_view_module_version": "1.2.0",
       "_view_name": "LayoutView",
       "align_content": null,
       "align_items": null,
       "align_self": null,
       "border": null,
       "bottom": null,
       "display": null,
       "flex": null,
       "flex_flow": null,
       "grid_area": null,
       "grid_auto_columns": null,
       "grid_auto_flow": null,
       "grid_auto_rows": null,
       "grid_column": null,
       "grid_gap": null,
       "grid_row": null,
       "grid_template_areas": null,
       "grid_template_columns": null,
       "grid_template_rows": null,
       "height": null,
       "justify_content": null,
       "justify_items": null,
       "left": null,
       "margin": null,
       "max_height": null,
       "max_width": null,
       "min_height": null,
       "min_width": null,
       "object_fit": null,
       "object_position": null,
       "order": null,
       "overflow": null,
       "overflow_x": null,
       "overflow_y": null,
       "padding": null,
       "right": null,
       "top": null,
       "visibility": null,
       "width": null
      }
     },
     "ada24704185942f19d34894f1a68d899": {
      "model_module": "@jupyter-widgets/controls",
      "model_module_version": "1.5.0",
      "model_name": "HTMLModel",
      "state": {
       "_dom_classes": [],
       "_model_module": "@jupyter-widgets/controls",
       "_model_module_version": "1.5.0",
       "_model_name": "HTMLModel",
       "_view_count": null,
       "_view_module": "@jupyter-widgets/controls",
       "_view_module_version": "1.5.0",
       "_view_name": "HTMLView",
       "description": "",
       "description_tooltip": null,
       "layout": "IPY_MODEL_e1fdda08a143428393b1cf71c28d78c8",
       "placeholder": "​",
       "style": "IPY_MODEL_b0dbe43cc70b444bae1cf86d728061f9",
       "value": " 315k/315k [00:00&lt;00:00, 22.6MB/s]"
      }
     },
     "afe26c217098453b973bda74cd299d5d": {
      "model_module": "@jupyter-widgets/base",
      "model_module_version": "1.2.0",
      "model_name": "LayoutModel",
      "state": {
       "_model_module": "@jupyter-widgets/base",
       "_model_module_version": "1.2.0",
       "_model_name": "LayoutModel",
       "_view_count": null,
       "_view_module": "@jupyter-widgets/base",
       "_view_module_version": "1.2.0",
       "_view_name": "LayoutView",
       "align_content": null,
       "align_items": null,
       "align_self": null,
       "border": null,
       "bottom": null,
       "display": null,
       "flex": null,
       "flex_flow": null,
       "grid_area": null,
       "grid_auto_columns": null,
       "grid_auto_flow": null,
       "grid_auto_rows": null,
       "grid_column": null,
       "grid_gap": null,
       "grid_row": null,
       "grid_template_areas": null,
       "grid_template_columns": null,
       "grid_template_rows": null,
       "height": null,
       "justify_content": null,
       "justify_items": null,
       "left": null,
       "margin": null,
       "max_height": null,
       "max_width": null,
       "min_height": null,
       "min_width": null,
       "object_fit": null,
       "object_position": null,
       "order": null,
       "overflow": null,
       "overflow_x": null,
       "overflow_y": null,
       "padding": null,
       "right": null,
       "top": null,
       "visibility": null,
       "width": null
      }
     },
     "b0955ccbeec2450fbce0cac7c9f52ae0": {
      "model_module": "@jupyter-widgets/controls",
      "model_module_version": "1.5.0",
      "model_name": "ProgressStyleModel",
      "state": {
       "_model_module": "@jupyter-widgets/controls",
       "_model_module_version": "1.5.0",
       "_model_name": "ProgressStyleModel",
       "_view_count": null,
       "_view_module": "@jupyter-widgets/base",
       "_view_module_version": "1.2.0",
       "_view_name": "StyleView",
       "bar_color": null,
       "description_width": ""
      }
     },
     "b0dbe43cc70b444bae1cf86d728061f9": {
      "model_module": "@jupyter-widgets/controls",
      "model_module_version": "1.5.0",
      "model_name": "DescriptionStyleModel",
      "state": {
       "_model_module": "@jupyter-widgets/controls",
       "_model_module_version": "1.5.0",
       "_model_name": "DescriptionStyleModel",
       "_view_count": null,
       "_view_module": "@jupyter-widgets/base",
       "_view_module_version": "1.2.0",
       "_view_name": "StyleView",
       "description_width": ""
      }
     },
     "b3abbdb3cf114768b0d4362e64ddb05a": {
      "model_module": "@jupyter-widgets/controls",
      "model_module_version": "1.5.0",
      "model_name": "HBoxModel",
      "state": {
       "_dom_classes": [],
       "_model_module": "@jupyter-widgets/controls",
       "_model_module_version": "1.5.0",
       "_model_name": "HBoxModel",
       "_view_count": null,
       "_view_module": "@jupyter-widgets/controls",
       "_view_module_version": "1.5.0",
       "_view_name": "HBoxView",
       "box_style": "",
       "children": [
        "IPY_MODEL_8272b96715ad499fa98187394f1daccc",
        "IPY_MODEL_dd37fd4340db4703a8ac8da5f19ea12a",
        "IPY_MODEL_5627a54877b14610a46e14e54c36ebe8"
       ],
       "layout": "IPY_MODEL_0fc12b7e418e4b1caf1a2f3374a5ad76"
      }
     },
     "b4ce516fe5cf4d89a14655a62934d3dd": {
      "model_module": "@jupyter-widgets/controls",
      "model_module_version": "1.5.0",
      "model_name": "HTMLModel",
      "state": {
       "_dom_classes": [],
       "_model_module": "@jupyter-widgets/controls",
       "_model_module_version": "1.5.0",
       "_model_name": "HTMLModel",
       "_view_count": null,
       "_view_module": "@jupyter-widgets/controls",
       "_view_module_version": "1.5.0",
       "_view_name": "HTMLView",
       "description": "",
       "description_tooltip": null,
       "layout": "IPY_MODEL_e65f91cf3b234732866351fc4708fa46",
       "placeholder": "​",
       "style": "IPY_MODEL_89a5eaafa71d4f5ea8b1133c83ebfb3a",
       "value": "merges.txt: 100%"
      }
     },
     "b6c2a4a870e748f28fe2c87c8eb6c01b": {
      "model_module": "@jupyter-widgets/controls",
      "model_module_version": "1.5.0",
      "model_name": "HTMLModel",
      "state": {
       "_dom_classes": [],
       "_model_module": "@jupyter-widgets/controls",
       "_model_module_version": "1.5.0",
       "_model_name": "HTMLModel",
       "_view_count": null,
       "_view_module": "@jupyter-widgets/controls",
       "_view_module_version": "1.5.0",
       "_view_name": "HTMLView",
       "description": "",
       "description_tooltip": null,
       "layout": "IPY_MODEL_9334423268ac41299dca00de900bfd01",
       "placeholder": "​",
       "style": "IPY_MODEL_d83a2b501d464b69afce1d0948a72e5b",
       "value": "vocab-src.json: 100%"
      }
     },
     "b7d0e4880df84bacb4c62702a985a7c0": {
      "model_module": "@jupyter-widgets/controls",
      "model_module_version": "1.5.0",
      "model_name": "FloatProgressModel",
      "state": {
       "_dom_classes": [],
       "_model_module": "@jupyter-widgets/controls",
       "_model_module_version": "1.5.0",
       "_model_name": "FloatProgressModel",
       "_view_count": null,
       "_view_module": "@jupyter-widgets/controls",
       "_view_module_version": "1.5.0",
       "_view_name": "ProgressView",
       "bar_style": "success",
       "description": "",
       "description_tooltip": null,
       "layout": "IPY_MODEL_f3405239709a425ea81b1cf9e646cea9",
       "max": 825.0,
       "min": 0.0,
       "orientation": "horizontal",
       "style": "IPY_MODEL_08d5022bc839497497f25431d1a28705",
       "value": 825.0
      }
     },
     "b7d4b083c06d4a81b43b714b926504ed": {
      "model_module": "@jupyter-widgets/controls",
      "model_module_version": "1.5.0",
      "model_name": "DescriptionStyleModel",
      "state": {
       "_model_module": "@jupyter-widgets/controls",
       "_model_module_version": "1.5.0",
       "_model_name": "DescriptionStyleModel",
       "_view_count": null,
       "_view_module": "@jupyter-widgets/base",
       "_view_module_version": "1.2.0",
       "_view_name": "StyleView",
       "description_width": ""
      }
     },
     "b7f96329030445448719fe38fba8947d": {
      "model_module": "@jupyter-widgets/controls",
      "model_module_version": "1.5.0",
      "model_name": "ProgressStyleModel",
      "state": {
       "_model_module": "@jupyter-widgets/controls",
       "_model_module_version": "1.5.0",
       "_model_name": "ProgressStyleModel",
       "_view_count": null,
       "_view_module": "@jupyter-widgets/base",
       "_view_module_version": "1.2.0",
       "_view_name": "StyleView",
       "bar_color": null,
       "description_width": ""
      }
     },
     "b823c8b41eb9454da0852ddf4ee07bb2": {
      "model_module": "@jupyter-widgets/base",
      "model_module_version": "1.2.0",
      "model_name": "LayoutModel",
      "state": {
       "_model_module": "@jupyter-widgets/base",
       "_model_module_version": "1.2.0",
       "_model_name": "LayoutModel",
       "_view_count": null,
       "_view_module": "@jupyter-widgets/base",
       "_view_module_version": "1.2.0",
       "_view_name": "LayoutView",
       "align_content": null,
       "align_items": null,
       "align_self": null,
       "border": null,
       "bottom": null,
       "display": null,
       "flex": null,
       "flex_flow": null,
       "grid_area": null,
       "grid_auto_columns": null,
       "grid_auto_flow": null,
       "grid_auto_rows": null,
       "grid_column": null,
       "grid_gap": null,
       "grid_row": null,
       "grid_template_areas": null,
       "grid_template_columns": null,
       "grid_template_rows": null,
       "height": null,
       "justify_content": null,
       "justify_items": null,
       "left": null,
       "margin": null,
       "max_height": null,
       "max_width": null,
       "min_height": null,
       "min_width": null,
       "object_fit": null,
       "object_position": null,
       "order": null,
       "overflow": null,
       "overflow_x": null,
       "overflow_y": null,
       "padding": null,
       "right": null,
       "top": null,
       "visibility": null,
       "width": null
      }
     },
     "b920562a919d4e7a95892de801866450": {
      "model_module": "@jupyter-widgets/base",
      "model_module_version": "1.2.0",
      "model_name": "LayoutModel",
      "state": {
       "_model_module": "@jupyter-widgets/base",
       "_model_module_version": "1.2.0",
       "_model_name": "LayoutModel",
       "_view_count": null,
       "_view_module": "@jupyter-widgets/base",
       "_view_module_version": "1.2.0",
       "_view_name": "LayoutView",
       "align_content": null,
       "align_items": null,
       "align_self": null,
       "border": null,
       "bottom": null,
       "display": null,
       "flex": null,
       "flex_flow": null,
       "grid_area": null,
       "grid_auto_columns": null,
       "grid_auto_flow": null,
       "grid_auto_rows": null,
       "grid_column": null,
       "grid_gap": null,
       "grid_row": null,
       "grid_template_areas": null,
       "grid_template_columns": null,
       "grid_template_rows": null,
       "height": null,
       "justify_content": null,
       "justify_items": null,
       "left": null,
       "margin": null,
       "max_height": null,
       "max_width": null,
       "min_height": null,
       "min_width": null,
       "object_fit": null,
       "object_position": null,
       "order": null,
       "overflow": null,
       "overflow_x": null,
       "overflow_y": null,
       "padding": null,
       "right": null,
       "top": null,
       "visibility": null,
       "width": null
      }
     },
     "bb365e9960f940848ef2a5f3c26cb10f": {
      "model_module": "@jupyter-widgets/base",
      "model_module_version": "1.2.0",
      "model_name": "LayoutModel",
      "state": {
       "_model_module": "@jupyter-widgets/base",
       "_model_module_version": "1.2.0",
       "_model_name": "LayoutModel",
       "_view_count": null,
       "_view_module": "@jupyter-widgets/base",
       "_view_module_version": "1.2.0",
       "_view_name": "LayoutView",
       "align_content": null,
       "align_items": null,
       "align_self": null,
       "border": null,
       "bottom": null,
       "display": null,
       "flex": null,
       "flex_flow": null,
       "grid_area": null,
       "grid_auto_columns": null,
       "grid_auto_flow": null,
       "grid_auto_rows": null,
       "grid_column": null,
       "grid_gap": null,
       "grid_row": null,
       "grid_template_areas": null,
       "grid_template_columns": null,
       "grid_template_rows": null,
       "height": null,
       "justify_content": null,
       "justify_items": null,
       "left": null,
       "margin": null,
       "max_height": null,
       "max_width": null,
       "min_height": null,
       "min_width": null,
       "object_fit": null,
       "object_position": null,
       "order": null,
       "overflow": null,
       "overflow_x": null,
       "overflow_y": null,
       "padding": null,
       "right": null,
       "top": null,
       "visibility": null,
       "width": null
      }
     },
     "bd692ee1c37140f290a54e554490ffe1": {
      "model_module": "@jupyter-widgets/controls",
      "model_module_version": "1.5.0",
      "model_name": "FloatProgressModel",
      "state": {
       "_dom_classes": [],
       "_model_module": "@jupyter-widgets/controls",
       "_model_module_version": "1.5.0",
       "_model_name": "FloatProgressModel",
       "_view_count": null,
       "_view_module": "@jupyter-widgets/controls",
       "_view_module_version": "1.5.0",
       "_view_name": "ProgressView",
       "bar_style": "success",
       "description": "",
       "description_tooltip": null,
       "layout": "IPY_MODEL_5dddabb8549042919dabc80bbb648e1b",
       "max": 315003.0,
       "min": 0.0,
       "orientation": "horizontal",
       "style": "IPY_MODEL_58490a1471c7486cb6a01e8a1e226e65",
       "value": 315003.0
      }
     },
     "bd722f9a7fab4f888a584693f3b45bc2": {
      "model_module": "@jupyter-widgets/base",
      "model_module_version": "1.2.0",
      "model_name": "LayoutModel",
      "state": {
       "_model_module": "@jupyter-widgets/base",
       "_model_module_version": "1.2.0",
       "_model_name": "LayoutModel",
       "_view_count": null,
       "_view_module": "@jupyter-widgets/base",
       "_view_module_version": "1.2.0",
       "_view_name": "LayoutView",
       "align_content": null,
       "align_items": null,
       "align_self": null,
       "border": null,
       "bottom": null,
       "display": null,
       "flex": null,
       "flex_flow": null,
       "grid_area": null,
       "grid_auto_columns": null,
       "grid_auto_flow": null,
       "grid_auto_rows": null,
       "grid_column": null,
       "grid_gap": null,
       "grid_row": null,
       "grid_template_areas": null,
       "grid_template_columns": null,
       "grid_template_rows": null,
       "height": null,
       "justify_content": null,
       "justify_items": null,
       "left": null,
       "margin": null,
       "max_height": null,
       "max_width": null,
       "min_height": null,
       "min_width": null,
       "object_fit": null,
       "object_position": null,
       "order": null,
       "overflow": null,
       "overflow_x": null,
       "overflow_y": null,
       "padding": null,
       "right": null,
       "top": null,
       "visibility": null,
       "width": null
      }
     },
     "bdb13f3df4294fdb85ecd724d382d001": {
      "model_module": "@jupyter-widgets/base",
      "model_module_version": "1.2.0",
      "model_name": "LayoutModel",
      "state": {
       "_model_module": "@jupyter-widgets/base",
       "_model_module_version": "1.2.0",
       "_model_name": "LayoutModel",
       "_view_count": null,
       "_view_module": "@jupyter-widgets/base",
       "_view_module_version": "1.2.0",
       "_view_name": "LayoutView",
       "align_content": null,
       "align_items": null,
       "align_self": null,
       "border": null,
       "bottom": null,
       "display": null,
       "flex": null,
       "flex_flow": null,
       "grid_area": null,
       "grid_auto_columns": null,
       "grid_auto_flow": null,
       "grid_auto_rows": null,
       "grid_column": null,
       "grid_gap": null,
       "grid_row": null,
       "grid_template_areas": null,
       "grid_template_columns": null,
       "grid_template_rows": null,
       "height": null,
       "justify_content": null,
       "justify_items": null,
       "left": null,
       "margin": null,
       "max_height": null,
       "max_width": null,
       "min_height": null,
       "min_width": null,
       "object_fit": null,
       "object_position": null,
       "order": null,
       "overflow": null,
       "overflow_x": null,
       "overflow_y": null,
       "padding": null,
       "right": null,
       "top": null,
       "visibility": null,
       "width": null
      }
     },
     "bf380e5ca5b546a997feea22fbf77964": {
      "model_module": "@jupyter-widgets/base",
      "model_module_version": "1.2.0",
      "model_name": "LayoutModel",
      "state": {
       "_model_module": "@jupyter-widgets/base",
       "_model_module_version": "1.2.0",
       "_model_name": "LayoutModel",
       "_view_count": null,
       "_view_module": "@jupyter-widgets/base",
       "_view_module_version": "1.2.0",
       "_view_name": "LayoutView",
       "align_content": null,
       "align_items": null,
       "align_self": null,
       "border": null,
       "bottom": null,
       "display": null,
       "flex": null,
       "flex_flow": null,
       "grid_area": null,
       "grid_auto_columns": null,
       "grid_auto_flow": null,
       "grid_auto_rows": null,
       "grid_column": null,
       "grid_gap": null,
       "grid_row": null,
       "grid_template_areas": null,
       "grid_template_columns": null,
       "grid_template_rows": null,
       "height": null,
       "justify_content": null,
       "justify_items": null,
       "left": null,
       "margin": null,
       "max_height": null,
       "max_width": null,
       "min_height": null,
       "min_width": null,
       "object_fit": null,
       "object_position": null,
       "order": null,
       "overflow": null,
       "overflow_x": null,
       "overflow_y": null,
       "padding": null,
       "right": null,
       "top": null,
       "visibility": null,
       "width": null
      }
     },
     "c1a4ad9b363f4c8d9d1eab5eb753cc60": {
      "model_module": "@jupyter-widgets/controls",
      "model_module_version": "1.5.0",
      "model_name": "DescriptionStyleModel",
      "state": {
       "_model_module": "@jupyter-widgets/controls",
       "_model_module_version": "1.5.0",
       "_model_name": "DescriptionStyleModel",
       "_view_count": null,
       "_view_module": "@jupyter-widgets/base",
       "_view_module_version": "1.2.0",
       "_view_name": "StyleView",
       "description_width": ""
      }
     },
     "c1d4237f07e14cf6adee58c1d2312c29": {
      "model_module": "@jupyter-widgets/controls",
      "model_module_version": "1.5.0",
      "model_name": "HTMLModel",
      "state": {
       "_dom_classes": [],
       "_model_module": "@jupyter-widgets/controls",
       "_model_module_version": "1.5.0",
       "_model_name": "HTMLModel",
       "_view_count": null,
       "_view_module": "@jupyter-widgets/controls",
       "_view_module_version": "1.5.0",
       "_view_name": "HTMLView",
       "description": "",
       "description_tooltip": null,
       "layout": "IPY_MODEL_0f3ce00b967e4b64ae8644c177ca00dc",
       "placeholder": "​",
       "style": "IPY_MODEL_00c825d9417d426487a058dad78ea75f",
       "value": " 235/235 [00:00&lt;00:00, 21.1kB/s]"
      }
     },
     "c2abee4361b14187a9660631ffc02187": {
      "model_module": "@jupyter-widgets/controls",
      "model_module_version": "1.5.0",
      "model_name": "FloatProgressModel",
      "state": {
       "_dom_classes": [],
       "_model_module": "@jupyter-widgets/controls",
       "_model_module_version": "1.5.0",
       "_model_name": "FloatProgressModel",
       "_view_count": null,
       "_view_module": "@jupyter-widgets/controls",
       "_view_module_version": "1.5.0",
       "_view_name": "ProgressView",
       "bar_style": "success",
       "description": "",
       "description_tooltip": null,
       "layout": "IPY_MODEL_182450127c28473bbb798b5502b7de1b",
       "max": 25.0,
       "min": 0.0,
       "orientation": "horizontal",
       "style": "IPY_MODEL_b7f96329030445448719fe38fba8947d",
       "value": 25.0
      }
     },
     "c4cfb5d2c23749fbaca1e4eaf096699a": {
      "model_module": "@jupyter-widgets/controls",
      "model_module_version": "1.5.0",
      "model_name": "ProgressStyleModel",
      "state": {
       "_model_module": "@jupyter-widgets/controls",
       "_model_module_version": "1.5.0",
       "_model_name": "ProgressStyleModel",
       "_view_count": null,
       "_view_module": "@jupyter-widgets/base",
       "_view_module_version": "1.2.0",
       "_view_name": "StyleView",
       "bar_color": null,
       "description_width": ""
      }
     },
     "c50114cc61bc46159550449641c3737f": {
      "model_module": "@jupyter-widgets/base",
      "model_module_version": "1.2.0",
      "model_name": "LayoutModel",
      "state": {
       "_model_module": "@jupyter-widgets/base",
       "_model_module_version": "1.2.0",
       "_model_name": "LayoutModel",
       "_view_count": null,
       "_view_module": "@jupyter-widgets/base",
       "_view_module_version": "1.2.0",
       "_view_name": "LayoutView",
       "align_content": null,
       "align_items": null,
       "align_self": null,
       "border": null,
       "bottom": null,
       "display": null,
       "flex": null,
       "flex_flow": null,
       "grid_area": null,
       "grid_auto_columns": null,
       "grid_auto_flow": null,
       "grid_auto_rows": null,
       "grid_column": null,
       "grid_gap": null,
       "grid_row": null,
       "grid_template_areas": null,
       "grid_template_columns": null,
       "grid_template_rows": null,
       "height": null,
       "justify_content": null,
       "justify_items": null,
       "left": null,
       "margin": null,
       "max_height": null,
       "max_width": null,
       "min_height": null,
       "min_width": null,
       "object_fit": null,
       "object_position": null,
       "order": null,
       "overflow": null,
       "overflow_x": null,
       "overflow_y": null,
       "padding": null,
       "right": null,
       "top": null,
       "visibility": null,
       "width": null
      }
     },
     "c5da7a36060441f49fdddfa4b1b5f0dc": {
      "model_module": "@jupyter-widgets/base",
      "model_module_version": "1.2.0",
      "model_name": "LayoutModel",
      "state": {
       "_model_module": "@jupyter-widgets/base",
       "_model_module_version": "1.2.0",
       "_model_name": "LayoutModel",
       "_view_count": null,
       "_view_module": "@jupyter-widgets/base",
       "_view_module_version": "1.2.0",
       "_view_name": "LayoutView",
       "align_content": null,
       "align_items": null,
       "align_self": null,
       "border": null,
       "bottom": null,
       "display": null,
       "flex": null,
       "flex_flow": null,
       "grid_area": null,
       "grid_auto_columns": null,
       "grid_auto_flow": null,
       "grid_auto_rows": null,
       "grid_column": null,
       "grid_gap": null,
       "grid_row": null,
       "grid_template_areas": null,
       "grid_template_columns": null,
       "grid_template_rows": null,
       "height": null,
       "justify_content": null,
       "justify_items": null,
       "left": null,
       "margin": null,
       "max_height": null,
       "max_width": null,
       "min_height": null,
       "min_width": null,
       "object_fit": null,
       "object_position": null,
       "order": null,
       "overflow": null,
       "overflow_x": null,
       "overflow_y": null,
       "padding": null,
       "right": null,
       "top": null,
       "visibility": null,
       "width": null
      }
     },
     "c8e6cf286e0047eba4fcc437319bdd21": {
      "model_module": "@jupyter-widgets/base",
      "model_module_version": "1.2.0",
      "model_name": "LayoutModel",
      "state": {
       "_model_module": "@jupyter-widgets/base",
       "_model_module_version": "1.2.0",
       "_model_name": "LayoutModel",
       "_view_count": null,
       "_view_module": "@jupyter-widgets/base",
       "_view_module_version": "1.2.0",
       "_view_name": "LayoutView",
       "align_content": null,
       "align_items": null,
       "align_self": null,
       "border": null,
       "bottom": null,
       "display": null,
       "flex": null,
       "flex_flow": null,
       "grid_area": null,
       "grid_auto_columns": null,
       "grid_auto_flow": null,
       "grid_auto_rows": null,
       "grid_column": null,
       "grid_gap": null,
       "grid_row": null,
       "grid_template_areas": null,
       "grid_template_columns": null,
       "grid_template_rows": null,
       "height": null,
       "justify_content": null,
       "justify_items": null,
       "left": null,
       "margin": null,
       "max_height": null,
       "max_width": null,
       "min_height": null,
       "min_width": null,
       "object_fit": null,
       "object_position": null,
       "order": null,
       "overflow": null,
       "overflow_x": null,
       "overflow_y": null,
       "padding": null,
       "right": null,
       "top": null,
       "visibility": null,
       "width": null
      }
     },
     "c9f30fd4fefc479ca4073848ea483a81": {
      "model_module": "@jupyter-widgets/controls",
      "model_module_version": "1.5.0",
      "model_name": "FloatProgressModel",
      "state": {
       "_dom_classes": [],
       "_model_module": "@jupyter-widgets/controls",
       "_model_module_version": "1.5.0",
       "_model_name": "FloatProgressModel",
       "_view_count": null,
       "_view_module": "@jupyter-widgets/controls",
       "_view_module_version": "1.5.0",
       "_view_name": "ProgressView",
       "bar_style": "success",
       "description": "",
       "description_tooltip": null,
       "layout": "IPY_MODEL_41d714f2407b434daaed6766c1f767ca",
       "max": 825.0,
       "min": 0.0,
       "orientation": "horizontal",
       "style": "IPY_MODEL_fc1a3f46ba844f959da638133dd5d777",
       "value": 825.0
      }
     },
     "cbe6c4c5107b423187853b9e7d944d3f": {
      "model_module": "@jupyter-widgets/controls",
      "model_module_version": "1.5.0",
      "model_name": "HBoxModel",
      "state": {
       "_dom_classes": [],
       "_model_module": "@jupyter-widgets/controls",
       "_model_module_version": "1.5.0",
       "_model_name": "HBoxModel",
       "_view_count": null,
       "_view_module": "@jupyter-widgets/controls",
       "_view_module_version": "1.5.0",
       "_view_name": "HBoxView",
       "box_style": "",
       "children": [
        "IPY_MODEL_b6c2a4a870e748f28fe2c87c8eb6c01b",
        "IPY_MODEL_2756768157da4cbb9c72da38c6b33fd3",
        "IPY_MODEL_1762bdb881c84829b8b2912710afa270"
       ],
       "layout": "IPY_MODEL_ea12e1c62f464a15ae16391bc6f1a6e9"
      }
     },
     "cc952a14b7e14eca8f8fa93f9eaaf62a": {
      "model_module": "@jupyter-widgets/controls",
      "model_module_version": "1.5.0",
      "model_name": "HTMLModel",
      "state": {
       "_dom_classes": [],
       "_model_module": "@jupyter-widgets/controls",
       "_model_module_version": "1.5.0",
       "_model_name": "HTMLModel",
       "_view_count": null,
       "_view_module": "@jupyter-widgets/controls",
       "_view_module_version": "1.5.0",
       "_view_name": "HTMLView",
       "description": "",
       "description_tooltip": null,
       "layout": "IPY_MODEL_123eee2e1ff749a4b9e4c3d842da3259",
       "placeholder": "​",
       "style": "IPY_MODEL_59aa2fdfc24f4cf0825c500f4f3f60ec",
       "value": " 25.0/25.0 [00:00&lt;00:00, 1.91kB/s]"
      }
     },
     "cca433d225bb4a109e6f56b60a94b314": {
      "model_module": "@jupyter-widgets/controls",
      "model_module_version": "1.5.0",
      "model_name": "FloatProgressModel",
      "state": {
       "_dom_classes": [],
       "_model_module": "@jupyter-widgets/controls",
       "_model_module_version": "1.5.0",
       "_model_name": "FloatProgressModel",
       "_view_count": null,
       "_view_module": "@jupyter-widgets/controls",
       "_view_module_version": "1.5.0",
       "_view_name": "ProgressView",
       "bar_style": "success",
       "description": "",
       "description_tooltip": null,
       "layout": "IPY_MODEL_ee7b38cf04fe4a868e61cd6648ac3a7b",
       "max": 315003.0,
       "min": 0.0,
       "orientation": "horizontal",
       "style": "IPY_MODEL_75e96ae64b6d4f61a14fbf10ccb37bc0",
       "value": 315003.0
      }
     },
     "d0f81e43368f435c81746c2d96dec1ab": {
      "model_module": "@jupyter-widgets/controls",
      "model_module_version": "1.5.0",
      "model_name": "HTMLModel",
      "state": {
       "_dom_classes": [],
       "_model_module": "@jupyter-widgets/controls",
       "_model_module_version": "1.5.0",
       "_model_name": "HTMLModel",
       "_view_count": null,
       "_view_module": "@jupyter-widgets/controls",
       "_view_module_version": "1.5.0",
       "_view_name": "HTMLView",
       "description": "",
       "description_tooltip": null,
       "layout": "IPY_MODEL_08176fa473b643f0b25d47b22a659f0f",
       "placeholder": "​",
       "style": "IPY_MODEL_345c2bbc1773429d911692b8375f2245",
       "value": "tokenizer.json: 100%"
      }
     },
     "d144d5b7f9fd4dbba60ca47fd27eb3dc": {
      "model_module": "@jupyter-widgets/controls",
      "model_module_version": "1.5.0",
      "model_name": "HBoxModel",
      "state": {
       "_dom_classes": [],
       "_model_module": "@jupyter-widgets/controls",
       "_model_module_version": "1.5.0",
       "_model_name": "HBoxModel",
       "_view_count": null,
       "_view_module": "@jupyter-widgets/controls",
       "_view_module_version": "1.5.0",
       "_view_name": "HBoxView",
       "box_style": "",
       "children": [
        "IPY_MODEL_59be85ab50e34c1f803d7a7460d61630",
        "IPY_MODEL_9235f186748d4a26bc717b02c7a76f16",
        "IPY_MODEL_a40b7e1e982a4daaa6841738e731148e"
       ],
       "layout": "IPY_MODEL_c50114cc61bc46159550449641c3737f"
      }
     },
     "d4cf271fcd4b4e7c949f870bed961a4f": {
      "model_module": "@jupyter-widgets/base",
      "model_module_version": "1.2.0",
      "model_name": "LayoutModel",
      "state": {
       "_model_module": "@jupyter-widgets/base",
       "_model_module_version": "1.2.0",
       "_model_name": "LayoutModel",
       "_view_count": null,
       "_view_module": "@jupyter-widgets/base",
       "_view_module_version": "1.2.0",
       "_view_name": "LayoutView",
       "align_content": null,
       "align_items": null,
       "align_self": null,
       "border": null,
       "bottom": null,
       "display": null,
       "flex": null,
       "flex_flow": null,
       "grid_area": null,
       "grid_auto_columns": null,
       "grid_auto_flow": null,
       "grid_auto_rows": null,
       "grid_column": null,
       "grid_gap": null,
       "grid_row": null,
       "grid_template_areas": null,
       "grid_template_columns": null,
       "grid_template_rows": null,
       "height": null,
       "justify_content": null,
       "justify_items": null,
       "left": null,
       "margin": null,
       "max_height": null,
       "max_width": null,
       "min_height": null,
       "min_width": null,
       "object_fit": null,
       "object_position": null,
       "order": null,
       "overflow": null,
       "overflow_x": null,
       "overflow_y": null,
       "padding": null,
       "right": null,
       "top": null,
       "visibility": null,
       "width": null
      }
     },
     "d4f6f746b1e649e7a58b68d52984f594": {
      "model_module": "@jupyter-widgets/base",
      "model_module_version": "1.2.0",
      "model_name": "LayoutModel",
      "state": {
       "_model_module": "@jupyter-widgets/base",
       "_model_module_version": "1.2.0",
       "_model_name": "LayoutModel",
       "_view_count": null,
       "_view_module": "@jupyter-widgets/base",
       "_view_module_version": "1.2.0",
       "_view_name": "LayoutView",
       "align_content": null,
       "align_items": null,
       "align_self": null,
       "border": null,
       "bottom": null,
       "display": null,
       "flex": null,
       "flex_flow": null,
       "grid_area": null,
       "grid_auto_columns": null,
       "grid_auto_flow": null,
       "grid_auto_rows": null,
       "grid_column": null,
       "grid_gap": null,
       "grid_row": null,
       "grid_template_areas": null,
       "grid_template_columns": null,
       "grid_template_rows": null,
       "height": null,
       "justify_content": null,
       "justify_items": null,
       "left": null,
       "margin": null,
       "max_height": null,
       "max_width": null,
       "min_height": null,
       "min_width": null,
       "object_fit": null,
       "object_position": null,
       "order": null,
       "overflow": null,
       "overflow_x": null,
       "overflow_y": null,
       "padding": null,
       "right": null,
       "top": null,
       "visibility": null,
       "width": null
      }
     },
     "d7ea0669d59d4424916c5212dcde480d": {
      "model_module": "@jupyter-widgets/controls",
      "model_module_version": "1.5.0",
      "model_name": "HBoxModel",
      "state": {
       "_dom_classes": [],
       "_model_module": "@jupyter-widgets/controls",
       "_model_module_version": "1.5.0",
       "_model_name": "HBoxModel",
       "_view_count": null,
       "_view_module": "@jupyter-widgets/controls",
       "_view_module_version": "1.5.0",
       "_view_name": "HBoxView",
       "box_style": "",
       "children": [
        "IPY_MODEL_e821aca5d81f4ea787dfc2b3a77bbd4e",
        "IPY_MODEL_ea8aa998e2c5495387c454bb9f90632c",
        "IPY_MODEL_a573e91116ce45c298167d5034f9aa92"
       ],
       "layout": "IPY_MODEL_70a87e2210b043a6bfbc2b145a93cbff"
      }
     },
     "d83a2b501d464b69afce1d0948a72e5b": {
      "model_module": "@jupyter-widgets/controls",
      "model_module_version": "1.5.0",
      "model_name": "DescriptionStyleModel",
      "state": {
       "_model_module": "@jupyter-widgets/controls",
       "_model_module_version": "1.5.0",
       "_model_name": "DescriptionStyleModel",
       "_view_count": null,
       "_view_module": "@jupyter-widgets/base",
       "_view_module_version": "1.2.0",
       "_view_name": "StyleView",
       "description_width": ""
      }
     },
     "d8e6b0c6e38347ebb0daae77ce1d7695": {
      "model_module": "@jupyter-widgets/controls",
      "model_module_version": "1.5.0",
      "model_name": "ProgressStyleModel",
      "state": {
       "_model_module": "@jupyter-widgets/controls",
       "_model_module_version": "1.5.0",
       "_model_name": "ProgressStyleModel",
       "_view_count": null,
       "_view_module": "@jupyter-widgets/base",
       "_view_module_version": "1.2.0",
       "_view_name": "StyleView",
       "bar_color": null,
       "description_width": ""
      }
     },
     "db5b8a46069544d29862be34cc146578": {
      "model_module": "@jupyter-widgets/base",
      "model_module_version": "1.2.0",
      "model_name": "LayoutModel",
      "state": {
       "_model_module": "@jupyter-widgets/base",
       "_model_module_version": "1.2.0",
       "_model_name": "LayoutModel",
       "_view_count": null,
       "_view_module": "@jupyter-widgets/base",
       "_view_module_version": "1.2.0",
       "_view_name": "LayoutView",
       "align_content": null,
       "align_items": null,
       "align_self": null,
       "border": null,
       "bottom": null,
       "display": null,
       "flex": null,
       "flex_flow": null,
       "grid_area": null,
       "grid_auto_columns": null,
       "grid_auto_flow": null,
       "grid_auto_rows": null,
       "grid_column": null,
       "grid_gap": null,
       "grid_row": null,
       "grid_template_areas": null,
       "grid_template_columns": null,
       "grid_template_rows": null,
       "height": null,
       "justify_content": null,
       "justify_items": null,
       "left": null,
       "margin": null,
       "max_height": null,
       "max_width": null,
       "min_height": null,
       "min_width": null,
       "object_fit": null,
       "object_position": null,
       "order": null,
       "overflow": null,
       "overflow_x": null,
       "overflow_y": null,
       "padding": null,
       "right": null,
       "top": null,
       "visibility": null,
       "width": null
      }
     },
     "dd37fd4340db4703a8ac8da5f19ea12a": {
      "model_module": "@jupyter-widgets/controls",
      "model_module_version": "1.5.0",
      "model_name": "FloatProgressModel",
      "state": {
       "_dom_classes": [],
       "_model_module": "@jupyter-widgets/controls",
       "_model_module_version": "1.5.0",
       "_model_name": "FloatProgressModel",
       "_view_count": null,
       "_view_module": "@jupyter-widgets/controls",
       "_view_module_version": "1.5.0",
       "_view_name": "ProgressView",
       "bar_style": "success",
       "description": "",
       "description_tooltip": null,
       "layout": "IPY_MODEL_27bd15d8abda4a1cafbb41f9ec9fea71",
       "max": 498818054.0,
       "min": 0.0,
       "orientation": "horizontal",
       "style": "IPY_MODEL_b0955ccbeec2450fbce0cac7c9f52ae0",
       "value": 498818054.0
      }
     },
     "defeed95ecd04553b1fc9aacb2dd412e": {
      "model_module": "@jupyter-widgets/controls",
      "model_module_version": "1.5.0",
      "model_name": "DescriptionStyleModel",
      "state": {
       "_model_module": "@jupyter-widgets/controls",
       "_model_module_version": "1.5.0",
       "_model_name": "DescriptionStyleModel",
       "_view_count": null,
       "_view_module": "@jupyter-widgets/base",
       "_view_module_version": "1.2.0",
       "_view_name": "StyleView",
       "description_width": ""
      }
     },
     "e1fdda08a143428393b1cf71c28d78c8": {
      "model_module": "@jupyter-widgets/base",
      "model_module_version": "1.2.0",
      "model_name": "LayoutModel",
      "state": {
       "_model_module": "@jupyter-widgets/base",
       "_model_module_version": "1.2.0",
       "_model_name": "LayoutModel",
       "_view_count": null,
       "_view_module": "@jupyter-widgets/base",
       "_view_module_version": "1.2.0",
       "_view_name": "LayoutView",
       "align_content": null,
       "align_items": null,
       "align_self": null,
       "border": null,
       "bottom": null,
       "display": null,
       "flex": null,
       "flex_flow": null,
       "grid_area": null,
       "grid_auto_columns": null,
       "grid_auto_flow": null,
       "grid_auto_rows": null,
       "grid_column": null,
       "grid_gap": null,
       "grid_row": null,
       "grid_template_areas": null,
       "grid_template_columns": null,
       "grid_template_rows": null,
       "height": null,
       "justify_content": null,
       "justify_items": null,
       "left": null,
       "margin": null,
       "max_height": null,
       "max_width": null,
       "min_height": null,
       "min_width": null,
       "object_fit": null,
       "object_position": null,
       "order": null,
       "overflow": null,
       "overflow_x": null,
       "overflow_y": null,
       "padding": null,
       "right": null,
       "top": null,
       "visibility": null,
       "width": null
      }
     },
     "e45c39c9c82647ffbe9f6b92f0606bfc": {
      "model_module": "@jupyter-widgets/base",
      "model_module_version": "1.2.0",
      "model_name": "LayoutModel",
      "state": {
       "_model_module": "@jupyter-widgets/base",
       "_model_module_version": "1.2.0",
       "_model_name": "LayoutModel",
       "_view_count": null,
       "_view_module": "@jupyter-widgets/base",
       "_view_module_version": "1.2.0",
       "_view_name": "LayoutView",
       "align_content": null,
       "align_items": null,
       "align_self": null,
       "border": null,
       "bottom": null,
       "display": null,
       "flex": null,
       "flex_flow": null,
       "grid_area": null,
       "grid_auto_columns": null,
       "grid_auto_flow": null,
       "grid_auto_rows": null,
       "grid_column": null,
       "grid_gap": null,
       "grid_row": null,
       "grid_template_areas": null,
       "grid_template_columns": null,
       "grid_template_rows": null,
       "height": null,
       "justify_content": null,
       "justify_items": null,
       "left": null,
       "margin": null,
       "max_height": null,
       "max_width": null,
       "min_height": null,
       "min_width": null,
       "object_fit": null,
       "object_position": null,
       "order": null,
       "overflow": null,
       "overflow_x": null,
       "overflow_y": null,
       "padding": null,
       "right": null,
       "top": null,
       "visibility": null,
       "width": null
      }
     },
     "e51f3c7d65ca478881ace494d8c22925": {
      "model_module": "@jupyter-widgets/base",
      "model_module_version": "1.2.0",
      "model_name": "LayoutModel",
      "state": {
       "_model_module": "@jupyter-widgets/base",
       "_model_module_version": "1.2.0",
       "_model_name": "LayoutModel",
       "_view_count": null,
       "_view_module": "@jupyter-widgets/base",
       "_view_module_version": "1.2.0",
       "_view_name": "LayoutView",
       "align_content": null,
       "align_items": null,
       "align_self": null,
       "border": null,
       "bottom": null,
       "display": null,
       "flex": null,
       "flex_flow": null,
       "grid_area": null,
       "grid_auto_columns": null,
       "grid_auto_flow": null,
       "grid_auto_rows": null,
       "grid_column": null,
       "grid_gap": null,
       "grid_row": null,
       "grid_template_areas": null,
       "grid_template_columns": null,
       "grid_template_rows": null,
       "height": null,
       "justify_content": null,
       "justify_items": null,
       "left": null,
       "margin": null,
       "max_height": null,
       "max_width": null,
       "min_height": null,
       "min_width": null,
       "object_fit": null,
       "object_position": null,
       "order": null,
       "overflow": null,
       "overflow_x": null,
       "overflow_y": null,
       "padding": null,
       "right": null,
       "top": null,
       "visibility": null,
       "width": null
      }
     },
     "e65f91cf3b234732866351fc4708fa46": {
      "model_module": "@jupyter-widgets/base",
      "model_module_version": "1.2.0",
      "model_name": "LayoutModel",
      "state": {
       "_model_module": "@jupyter-widgets/base",
       "_model_module_version": "1.2.0",
       "_model_name": "LayoutModel",
       "_view_count": null,
       "_view_module": "@jupyter-widgets/base",
       "_view_module_version": "1.2.0",
       "_view_name": "LayoutView",
       "align_content": null,
       "align_items": null,
       "align_self": null,
       "border": null,
       "bottom": null,
       "display": null,
       "flex": null,
       "flex_flow": null,
       "grid_area": null,
       "grid_auto_columns": null,
       "grid_auto_flow": null,
       "grid_auto_rows": null,
       "grid_column": null,
       "grid_gap": null,
       "grid_row": null,
       "grid_template_areas": null,
       "grid_template_columns": null,
       "grid_template_rows": null,
       "height": null,
       "justify_content": null,
       "justify_items": null,
       "left": null,
       "margin": null,
       "max_height": null,
       "max_width": null,
       "min_height": null,
       "min_width": null,
       "object_fit": null,
       "object_position": null,
       "order": null,
       "overflow": null,
       "overflow_x": null,
       "overflow_y": null,
       "padding": null,
       "right": null,
       "top": null,
       "visibility": null,
       "width": null
      }
     },
     "e821aca5d81f4ea787dfc2b3a77bbd4e": {
      "model_module": "@jupyter-widgets/controls",
      "model_module_version": "1.5.0",
      "model_name": "HTMLModel",
      "state": {
       "_dom_classes": [],
       "_model_module": "@jupyter-widgets/controls",
       "_model_module_version": "1.5.0",
       "_model_name": "HTMLModel",
       "_view_count": null,
       "_view_module": "@jupyter-widgets/controls",
       "_view_module_version": "1.5.0",
       "_view_name": "HTMLView",
       "description": "",
       "description_tooltip": null,
       "layout": "IPY_MODEL_7fbbf5275d684358833ce6822b4275ff",
       "placeholder": "​",
       "style": "IPY_MODEL_ed161017b0b04c50a48f2186d8256c1c",
       "value": "model.safetensors: 100%"
      }
     },
     "e844f273606a45e2a7b8640eb37d5443": {
      "model_module": "@jupyter-widgets/controls",
      "model_module_version": "1.5.0",
      "model_name": "DescriptionStyleModel",
      "state": {
       "_model_module": "@jupyter-widgets/controls",
       "_model_module_version": "1.5.0",
       "_model_name": "DescriptionStyleModel",
       "_view_count": null,
       "_view_module": "@jupyter-widgets/base",
       "_view_module_version": "1.2.0",
       "_view_name": "StyleView",
       "description_width": ""
      }
     },
     "e99d49a9425841aba93c19f0b05c4458": {
      "model_module": "@jupyter-widgets/controls",
      "model_module_version": "1.5.0",
      "model_name": "HTMLModel",
      "state": {
       "_dom_classes": [],
       "_model_module": "@jupyter-widgets/controls",
       "_model_module_version": "1.5.0",
       "_model_name": "HTMLModel",
       "_view_count": null,
       "_view_module": "@jupyter-widgets/controls",
       "_view_module_version": "1.5.0",
       "_view_name": "HTMLView",
       "description": "",
       "description_tooltip": null,
       "layout": "IPY_MODEL_6ca82b58d9b645669f08df0d5ff834f1",
       "placeholder": "​",
       "style": "IPY_MODEL_70a002ce61ca4444951cd54d65562fce",
       "value": "config.json: 100%"
      }
     },
     "ea12e1c62f464a15ae16391bc6f1a6e9": {
      "model_module": "@jupyter-widgets/base",
      "model_module_version": "1.2.0",
      "model_name": "LayoutModel",
      "state": {
       "_model_module": "@jupyter-widgets/base",
       "_model_module_version": "1.2.0",
       "_model_name": "LayoutModel",
       "_view_count": null,
       "_view_module": "@jupyter-widgets/base",
       "_view_module_version": "1.2.0",
       "_view_name": "LayoutView",
       "align_content": null,
       "align_items": null,
       "align_self": null,
       "border": null,
       "bottom": null,
       "display": null,
       "flex": null,
       "flex_flow": null,
       "grid_area": null,
       "grid_auto_columns": null,
       "grid_auto_flow": null,
       "grid_auto_rows": null,
       "grid_column": null,
       "grid_gap": null,
       "grid_row": null,
       "grid_template_areas": null,
       "grid_template_columns": null,
       "grid_template_rows": null,
       "height": null,
       "justify_content": null,
       "justify_items": null,
       "left": null,
       "margin": null,
       "max_height": null,
       "max_width": null,
       "min_height": null,
       "min_width": null,
       "object_fit": null,
       "object_position": null,
       "order": null,
       "overflow": null,
       "overflow_x": null,
       "overflow_y": null,
       "padding": null,
       "right": null,
       "top": null,
       "visibility": null,
       "width": null
      }
     },
     "ea4bd4d0ebd44955a422f48fc127684b": {
      "model_module": "@jupyter-widgets/controls",
      "model_module_version": "1.5.0",
      "model_name": "HTMLModel",
      "state": {
       "_dom_classes": [],
       "_model_module": "@jupyter-widgets/controls",
       "_model_module_version": "1.5.0",
       "_model_name": "HTMLModel",
       "_view_count": null,
       "_view_module": "@jupyter-widgets/controls",
       "_view_module_version": "1.5.0",
       "_view_name": "HTMLView",
       "description": "",
       "description_tooltip": null,
       "layout": "IPY_MODEL_db5b8a46069544d29862be34cc146578",
       "placeholder": "​",
       "style": "IPY_MODEL_17e5b47ffeb44ff2b0c0745f1a1b997d",
       "value": " 825/825 [00:00&lt;00:00, 71.0kB/s]"
      }
     },
     "ea8aa998e2c5495387c454bb9f90632c": {
      "model_module": "@jupyter-widgets/controls",
      "model_module_version": "1.5.0",
      "model_name": "FloatProgressModel",
      "state": {
       "_dom_classes": [],
       "_model_module": "@jupyter-widgets/controls",
       "_model_module_version": "1.5.0",
       "_model_name": "FloatProgressModel",
       "_view_count": null,
       "_view_module": "@jupyter-widgets/controls",
       "_view_module_version": "1.5.0",
       "_view_name": "ProgressView",
       "bar_style": "success",
       "description": "",
       "description_tooltip": null,
       "layout": "IPY_MODEL_4562cfe865824515a0008f4cd08be5a1",
       "max": 1079014512.0,
       "min": 0.0,
       "orientation": "horizontal",
       "style": "IPY_MODEL_63842a5b4aee4a0b88ec0cfcf3c78819",
       "value": 1079014512.0
      }
     },
     "ec4c61d942d44694a9abec428cc91404": {
      "model_module": "@jupyter-widgets/controls",
      "model_module_version": "1.5.0",
      "model_name": "DescriptionStyleModel",
      "state": {
       "_model_module": "@jupyter-widgets/controls",
       "_model_module_version": "1.5.0",
       "_model_name": "DescriptionStyleModel",
       "_view_count": null,
       "_view_module": "@jupyter-widgets/base",
       "_view_module_version": "1.2.0",
       "_view_name": "StyleView",
       "description_width": ""
      }
     },
     "ec7307c8634247d49b975432e504dbf0": {
      "model_module": "@jupyter-widgets/controls",
      "model_module_version": "1.5.0",
      "model_name": "HTMLModel",
      "state": {
       "_dom_classes": [],
       "_model_module": "@jupyter-widgets/controls",
       "_model_module_version": "1.5.0",
       "_model_name": "HTMLModel",
       "_view_count": null,
       "_view_module": "@jupyter-widgets/controls",
       "_view_module_version": "1.5.0",
       "_view_name": "HTMLView",
       "description": "",
       "description_tooltip": null,
       "layout": "IPY_MODEL_ab0e505bcc75493aa4bb9a1fb6ea55e3",
       "placeholder": "​",
       "style": "IPY_MODEL_225b8704cf8b41d5b242c24d4624401e",
       "value": " 260/260 [00:00&lt;00:00, 19.6kB/s]"
      }
     },
     "ed161017b0b04c50a48f2186d8256c1c": {
      "model_module": "@jupyter-widgets/controls",
      "model_module_version": "1.5.0",
      "model_name": "DescriptionStyleModel",
      "state": {
       "_model_module": "@jupyter-widgets/controls",
       "_model_module_version": "1.5.0",
       "_model_name": "DescriptionStyleModel",
       "_view_count": null,
       "_view_module": "@jupyter-widgets/base",
       "_view_module_version": "1.2.0",
       "_view_name": "StyleView",
       "description_width": ""
      }
     },
     "ee7b38cf04fe4a868e61cd6648ac3a7b": {
      "model_module": "@jupyter-widgets/base",
      "model_module_version": "1.2.0",
      "model_name": "LayoutModel",
      "state": {
       "_model_module": "@jupyter-widgets/base",
       "_model_module_version": "1.2.0",
       "_model_name": "LayoutModel",
       "_view_count": null,
       "_view_module": "@jupyter-widgets/base",
       "_view_module_version": "1.2.0",
       "_view_name": "LayoutView",
       "align_content": null,
       "align_items": null,
       "align_self": null,
       "border": null,
       "bottom": null,
       "display": null,
       "flex": null,
       "flex_flow": null,
       "grid_area": null,
       "grid_auto_columns": null,
       "grid_auto_flow": null,
       "grid_auto_rows": null,
       "grid_column": null,
       "grid_gap": null,
       "grid_row": null,
       "grid_template_areas": null,
       "grid_template_columns": null,
       "grid_template_rows": null,
       "height": null,
       "justify_content": null,
       "justify_items": null,
       "left": null,
       "margin": null,
       "max_height": null,
       "max_width": null,
       "min_height": null,
       "min_width": null,
       "object_fit": null,
       "object_position": null,
       "order": null,
       "overflow": null,
       "overflow_x": null,
       "overflow_y": null,
       "padding": null,
       "right": null,
       "top": null,
       "visibility": null,
       "width": null
      }
     },
     "eebbd44206b149fe959af668540ba877": {
      "model_module": "@jupyter-widgets/controls",
      "model_module_version": "1.5.0",
      "model_name": "ProgressStyleModel",
      "state": {
       "_model_module": "@jupyter-widgets/controls",
       "_model_module_version": "1.5.0",
       "_model_name": "ProgressStyleModel",
       "_view_count": null,
       "_view_module": "@jupyter-widgets/base",
       "_view_module_version": "1.2.0",
       "_view_name": "StyleView",
       "bar_color": null,
       "description_width": ""
      }
     },
     "f3405239709a425ea81b1cf9e646cea9": {
      "model_module": "@jupyter-widgets/base",
      "model_module_version": "1.2.0",
      "model_name": "LayoutModel",
      "state": {
       "_model_module": "@jupyter-widgets/base",
       "_model_module_version": "1.2.0",
       "_model_name": "LayoutModel",
       "_view_count": null,
       "_view_module": "@jupyter-widgets/base",
       "_view_module_version": "1.2.0",
       "_view_name": "LayoutView",
       "align_content": null,
       "align_items": null,
       "align_self": null,
       "border": null,
       "bottom": null,
       "display": null,
       "flex": null,
       "flex_flow": null,
       "grid_area": null,
       "grid_auto_columns": null,
       "grid_auto_flow": null,
       "grid_auto_rows": null,
       "grid_column": null,
       "grid_gap": null,
       "grid_row": null,
       "grid_template_areas": null,
       "grid_template_columns": null,
       "grid_template_rows": null,
       "height": null,
       "justify_content": null,
       "justify_items": null,
       "left": null,
       "margin": null,
       "max_height": null,
       "max_width": null,
       "min_height": null,
       "min_width": null,
       "object_fit": null,
       "object_position": null,
       "order": null,
       "overflow": null,
       "overflow_x": null,
       "overflow_y": null,
       "padding": null,
       "right": null,
       "top": null,
       "visibility": null,
       "width": null
      }
     },
     "f3423fec00e648b3885124a5e2ba0176": {
      "model_module": "@jupyter-widgets/controls",
      "model_module_version": "1.5.0",
      "model_name": "FloatProgressModel",
      "state": {
       "_dom_classes": [],
       "_model_module": "@jupyter-widgets/controls",
       "_model_module_version": "1.5.0",
       "_model_name": "FloatProgressModel",
       "_view_count": null,
       "_view_module": "@jupyter-widgets/controls",
       "_view_module_version": "1.5.0",
       "_view_name": "ProgressView",
       "bar_style": "success",
       "description": "",
       "description_tooltip": null,
       "layout": "IPY_MODEL_00e312df59ad49cb999578eecfd43399",
       "max": 235.0,
       "min": 0.0,
       "orientation": "horizontal",
       "style": "IPY_MODEL_d8e6b0c6e38347ebb0daae77ce1d7695",
       "value": 235.0
      }
     },
     "f40ef8ed198a46ed86503e25eb2f9327": {
      "model_module": "@jupyter-widgets/controls",
      "model_module_version": "1.5.0",
      "model_name": "FloatProgressModel",
      "state": {
       "_dom_classes": [],
       "_model_module": "@jupyter-widgets/controls",
       "_model_module_version": "1.5.0",
       "_model_name": "FloatProgressModel",
       "_view_count": null,
       "_view_module": "@jupyter-widgets/controls",
       "_view_module_version": "1.5.0",
       "_view_name": "ProgressView",
       "bar_style": "success",
       "description": "",
       "description_tooltip": null,
       "layout": "IPY_MODEL_bdb13f3df4294fdb85ecd724d382d001",
       "max": 848917.0,
       "min": 0.0,
       "orientation": "horizontal",
       "style": "IPY_MODEL_c4cfb5d2c23749fbaca1e4eaf096699a",
       "value": 848917.0
      }
     },
     "f4d1b1d7278c4f1bbe5c8183138cce79": {
      "model_module": "@jupyter-widgets/controls",
      "model_module_version": "1.5.0",
      "model_name": "DescriptionStyleModel",
      "state": {
       "_model_module": "@jupyter-widgets/controls",
       "_model_module_version": "1.5.0",
       "_model_name": "DescriptionStyleModel",
       "_view_count": null,
       "_view_module": "@jupyter-widgets/base",
       "_view_module_version": "1.2.0",
       "_view_name": "StyleView",
       "description_width": ""
      }
     },
     "f75346f54a5341df8b0d5569239b19a4": {
      "model_module": "@jupyter-widgets/controls",
      "model_module_version": "1.5.0",
      "model_name": "DescriptionStyleModel",
      "state": {
       "_model_module": "@jupyter-widgets/controls",
       "_model_module_version": "1.5.0",
       "_model_name": "DescriptionStyleModel",
       "_view_count": null,
       "_view_module": "@jupyter-widgets/base",
       "_view_module_version": "1.2.0",
       "_view_name": "StyleView",
       "description_width": ""
      }
     },
     "f7886041b57c4f578c729bc08e53d008": {
      "model_module": "@jupyter-widgets/controls",
      "model_module_version": "1.5.0",
      "model_name": "HTMLModel",
      "state": {
       "_dom_classes": [],
       "_model_module": "@jupyter-widgets/controls",
       "_model_module_version": "1.5.0",
       "_model_name": "HTMLModel",
       "_view_count": null,
       "_view_module": "@jupyter-widgets/controls",
       "_view_module_version": "1.5.0",
       "_view_name": "HTMLView",
       "description": "",
       "description_tooltip": null,
       "layout": "IPY_MODEL_73c05985129f4b8281c16abd1e81c82b",
       "placeholder": "​",
       "style": "IPY_MODEL_4214b6f4ba8045278169f3b8753f0952",
       "value": "config.json: 100%"
      }
     },
     "f8cdb3e7800f411e9c6f51b9f4fa667d": {
      "model_module": "@jupyter-widgets/base",
      "model_module_version": "1.2.0",
      "model_name": "LayoutModel",
      "state": {
       "_model_module": "@jupyter-widgets/base",
       "_model_module_version": "1.2.0",
       "_model_name": "LayoutModel",
       "_view_count": null,
       "_view_module": "@jupyter-widgets/base",
       "_view_module_version": "1.2.0",
       "_view_name": "LayoutView",
       "align_content": null,
       "align_items": null,
       "align_self": null,
       "border": null,
       "bottom": null,
       "display": null,
       "flex": null,
       "flex_flow": null,
       "grid_area": null,
       "grid_auto_columns": null,
       "grid_auto_flow": null,
       "grid_auto_rows": null,
       "grid_column": null,
       "grid_gap": null,
       "grid_row": null,
       "grid_template_areas": null,
       "grid_template_columns": null,
       "grid_template_rows": null,
       "height": null,
       "justify_content": null,
       "justify_items": null,
       "left": null,
       "margin": null,
       "max_height": null,
       "max_width": null,
       "min_height": null,
       "min_width": null,
       "object_fit": null,
       "object_position": null,
       "order": null,
       "overflow": null,
       "overflow_x": null,
       "overflow_y": null,
       "padding": null,
       "right": null,
       "top": null,
       "visibility": null,
       "width": null
      }
     },
     "fa3806e8214f473180938c3359a4bbe4": {
      "model_module": "@jupyter-widgets/controls",
      "model_module_version": "1.5.0",
      "model_name": "HTMLModel",
      "state": {
       "_dom_classes": [],
       "_model_module": "@jupyter-widgets/controls",
       "_model_module_version": "1.5.0",
       "_model_name": "HTMLModel",
       "_view_count": null,
       "_view_module": "@jupyter-widgets/controls",
       "_view_module_version": "1.5.0",
       "_view_name": "HTMLView",
       "description": "",
       "description_tooltip": null,
       "layout": "IPY_MODEL_b823c8b41eb9454da0852ddf4ee07bb2",
       "placeholder": "​",
       "style": "IPY_MODEL_1ad7f7cd05094647ad6d1b1e8fff77be",
       "value": " 825/825 [00:00&lt;00:00, 75.6kB/s]"
      }
     },
     "fb172f827eff4c5e9b61eca519a6b6eb": {
      "model_module": "@jupyter-widgets/base",
      "model_module_version": "1.2.0",
      "model_name": "LayoutModel",
      "state": {
       "_model_module": "@jupyter-widgets/base",
       "_model_module_version": "1.2.0",
       "_model_name": "LayoutModel",
       "_view_count": null,
       "_view_module": "@jupyter-widgets/base",
       "_view_module_version": "1.2.0",
       "_view_name": "LayoutView",
       "align_content": null,
       "align_items": null,
       "align_self": null,
       "border": null,
       "bottom": null,
       "display": null,
       "flex": null,
       "flex_flow": null,
       "grid_area": null,
       "grid_auto_columns": null,
       "grid_auto_flow": null,
       "grid_auto_rows": null,
       "grid_column": null,
       "grid_gap": null,
       "grid_row": null,
       "grid_template_areas": null,
       "grid_template_columns": null,
       "grid_template_rows": null,
       "height": null,
       "justify_content": null,
       "justify_items": null,
       "left": null,
       "margin": null,
       "max_height": null,
       "max_width": null,
       "min_height": null,
       "min_width": null,
       "object_fit": null,
       "object_position": null,
       "order": null,
       "overflow": null,
       "overflow_x": null,
       "overflow_y": null,
       "padding": null,
       "right": null,
       "top": null,
       "visibility": null,
       "width": null
      }
     },
     "fc1a3f46ba844f959da638133dd5d777": {
      "model_module": "@jupyter-widgets/controls",
      "model_module_version": "1.5.0",
      "model_name": "ProgressStyleModel",
      "state": {
       "_model_module": "@jupyter-widgets/controls",
       "_model_module_version": "1.5.0",
       "_model_name": "ProgressStyleModel",
       "_view_count": null,
       "_view_module": "@jupyter-widgets/base",
       "_view_module_version": "1.2.0",
       "_view_name": "StyleView",
       "bar_color": null,
       "description_width": ""
      }
     },
     "fcc095df0da942e99e3ae53dccd312b2": {
      "model_module": "@jupyter-widgets/base",
      "model_module_version": "1.2.0",
      "model_name": "LayoutModel",
      "state": {
       "_model_module": "@jupyter-widgets/base",
       "_model_module_version": "1.2.0",
       "_model_name": "LayoutModel",
       "_view_count": null,
       "_view_module": "@jupyter-widgets/base",
       "_view_module_version": "1.2.0",
       "_view_name": "LayoutView",
       "align_content": null,
       "align_items": null,
       "align_self": null,
       "border": null,
       "bottom": null,
       "display": null,
       "flex": null,
       "flex_flow": null,
       "grid_area": null,
       "grid_auto_columns": null,
       "grid_auto_flow": null,
       "grid_auto_rows": null,
       "grid_column": null,
       "grid_gap": null,
       "grid_row": null,
       "grid_template_areas": null,
       "grid_template_columns": null,
       "grid_template_rows": null,
       "height": null,
       "justify_content": null,
       "justify_items": null,
       "left": null,
       "margin": null,
       "max_height": null,
       "max_width": null,
       "min_height": null,
       "min_width": null,
       "object_fit": null,
       "object_position": null,
       "order": null,
       "overflow": null,
       "overflow_x": null,
       "overflow_y": null,
       "padding": null,
       "right": null,
       "top": null,
       "visibility": null,
       "width": null
      }
     },
     "fcf0730a9e084f4e80b316c0f17747a5": {
      "model_module": "@jupyter-widgets/controls",
      "model_module_version": "1.5.0",
      "model_name": "FloatProgressModel",
      "state": {
       "_dom_classes": [],
       "_model_module": "@jupyter-widgets/controls",
       "_model_module_version": "1.5.0",
       "_model_name": "FloatProgressModel",
       "_view_count": null,
       "_view_module": "@jupyter-widgets/controls",
       "_view_module_version": "1.5.0",
       "_view_name": "ProgressView",
       "bar_style": "success",
       "description": "",
       "description_tooltip": null,
       "layout": "IPY_MODEL_91b0ebac8e4e40219050dc2e63fa61ba",
       "max": 456318.0,
       "min": 0.0,
       "orientation": "horizontal",
       "style": "IPY_MODEL_177e33170e2642819aeb28a1ffd33825",
       "value": 456318.0
      }
     },
     "fe566f4a28a840288f9d0ed447676cdf": {
      "model_module": "@jupyter-widgets/base",
      "model_module_version": "1.2.0",
      "model_name": "LayoutModel",
      "state": {
       "_model_module": "@jupyter-widgets/base",
       "_model_module_version": "1.2.0",
       "_model_name": "LayoutModel",
       "_view_count": null,
       "_view_module": "@jupyter-widgets/base",
       "_view_module_version": "1.2.0",
       "_view_name": "LayoutView",
       "align_content": null,
       "align_items": null,
       "align_self": null,
       "border": null,
       "bottom": null,
       "display": null,
       "flex": null,
       "flex_flow": null,
       "grid_area": null,
       "grid_auto_columns": null,
       "grid_auto_flow": null,
       "grid_auto_rows": null,
       "grid_column": null,
       "grid_gap": null,
       "grid_row": null,
       "grid_template_areas": null,
       "grid_template_columns": null,
       "grid_template_rows": null,
       "height": null,
       "justify_content": null,
       "justify_items": null,
       "left": null,
       "margin": null,
       "max_height": null,
       "max_width": null,
       "min_height": null,
       "min_width": null,
       "object_fit": null,
       "object_position": null,
       "order": null,
       "overflow": null,
       "overflow_x": null,
       "overflow_y": null,
       "padding": null,
       "right": null,
       "top": null,
       "visibility": null,
       "width": null
      }
     }
    },
    "version_major": 2,
    "version_minor": 0
   }
  }
 },
 "nbformat": 4,
 "nbformat_minor": 5
}
